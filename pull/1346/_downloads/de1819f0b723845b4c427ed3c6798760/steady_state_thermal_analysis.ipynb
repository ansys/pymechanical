{
  "cells": [
    {
      "cell_type": "markdown",
      "metadata": {},
      "source": [
        "Steady state thermal analysis {#ref_steady_state_thermal}\n=============================\n\nThis example problem demonstrates the use of a simple steady-state\nthermal analysis to determine the temperatures, thermal gradients, heat\nflow rates, and heat fluxes that are caused by thermal loads that do not\nvary over time. A steady-state thermal analysis calculates the effects\nof steady thermal loads on a system or component, in this example, a\nlong bar model.\n"
      ]
    },
    {
      "cell_type": "markdown",
      "metadata": {},
      "source": [
        "Import the necessary libraries\n==============================\n"
      ]
    },
    {
      "cell_type": "code",
      "execution_count": null,
      "metadata": {
        "collapsed": false
      },
      "outputs": [],
      "source": [
        "from pathlib import Path\nfrom typing import TYPE_CHECKING\n\nfrom PIL import Image\nfrom matplotlib import image as mpimg\nfrom matplotlib import pyplot as plt\nfrom matplotlib.animation import FuncAnimation\n\nfrom ansys.mechanical.core import App\nfrom ansys.mechanical.core.examples import delete_downloads, download_file\n\nif TYPE_CHECKING:\n    import Ansys"
      ]
    },
    {
      "cell_type": "markdown",
      "metadata": {},
      "source": [
        "Initialize the embedded application\n===================================\n"
      ]
    },
    {
      "cell_type": "code",
      "execution_count": null,
      "metadata": {
        "collapsed": false
      },
      "outputs": [],
      "source": [
        "app = App(globals=globals())\nprint(app)"
      ]
    },
    {
      "cell_type": "markdown",
      "metadata": {},
      "source": [
        "Create functions to set camera and display images\n=================================================\n"
      ]
    },
    {
      "cell_type": "code",
      "execution_count": null,
      "metadata": {
        "collapsed": false
      },
      "outputs": [],
      "source": [
        "# Set the path for the output files (images, gifs, mechdat)\noutput_path = Path.cwd() / \"out\"\n\n\ndef set_camera_and_display_image(\n    camera,\n    graphics,\n    graphics_image_export_settings,\n    image_output_path: Path,\n    image_name: str,\n) -> None:\n    \"\"\"Set the camera to fit the model and display the image.\n\n    Parameters\n    ----------\n    camera : Ansys.ACT.Common.Graphics.MechanicalCameraWrapper\n        The camera object to set the view.\n    graphics : Ansys.ACT.Common.Graphics.MechanicalGraphicsWrapper\n        The graphics object to export the image.\n    graphics_image_export_settings : Ansys.Mechanical.Graphics.GraphicsImageExportSettings\n        The settings for exporting the image.\n    image_output_path : Path\n        The path to save the exported image.\n    image_name : str\n        The name of the exported image file.\n    \"\"\"\n    # Set the camera to fit the mesh\n    camera.SetFit()\n    # Export the mesh image with the specified settings\n    image_path = image_output_path / image_name\n    graphics.ExportImage(str(image_path), image_export_format, graphics_image_export_settings)\n    # Display the exported mesh image\n    display_image(image_path)\n\n\ndef display_image(\n    image_path: str,\n    pyplot_figsize_coordinates: tuple = (16, 9),\n    plot_xticks: list = [],\n    plot_yticks: list = [],\n    plot_axis: str = \"off\",\n) -> None:\n    \"\"\"Display the image with the specified parameters.\n\n    Parameters\n    ----------\n    image_path : str\n        The path to the image file to display.\n    pyplot_figsize_coordinates : tuple\n        The size of the figure in inches (width, height).\n    plot_xticks : list\n        The x-ticks to display on the plot.\n    plot_yticks : list\n        The y-ticks to display on the plot.\n    plot_axis : str\n        The axis visibility setting ('on' or 'off').\n    \"\"\"\n    # Set the figure size based on the coordinates specified\n    plt.figure(figsize=pyplot_figsize_coordinates)\n    # Read the image from the file into an array\n    plt.imshow(mpimg.imread(image_path))\n    # Get or set the current tick locations and labels of the x-axis\n    plt.xticks(plot_xticks)\n    # Get or set the current tick locations and labels of the y-axis\n    plt.yticks(plot_yticks)\n    # Turn off the axis\n    plt.axis(plot_axis)\n    # Display the figure\n    plt.show()"
      ]
    },
    {
      "cell_type": "markdown",
      "metadata": {},
      "source": [
        "Configure graphics for image export\n===================================\n"
      ]
    },
    {
      "cell_type": "code",
      "execution_count": null,
      "metadata": {
        "collapsed": false
      },
      "outputs": [],
      "source": [
        "graphics = app.Graphics\ncamera = graphics.Camera\n\n# Set the camera orientation to isometric view\ncamera.SetSpecificViewOrientation(ViewOrientationType.Iso)\ncamera.SetFit()\n\n# Set the image export format and settings\nimage_export_format = GraphicsImageExportFormat.PNG\nsettings_720p = Ansys.Mechanical.Graphics.GraphicsImageExportSettings()\nsettings_720p.Resolution = GraphicsResolutionType.EnhancedResolution\nsettings_720p.Background = GraphicsBackgroundType.White\nsettings_720p.Width = 1280\nsettings_720p.Height = 720\nsettings_720p.CurrentGraphicsDisplay = False"
      ]
    },
    {
      "cell_type": "markdown",
      "metadata": {},
      "source": [
        "Download the geometry file\n==========================\n"
      ]
    },
    {
      "cell_type": "code",
      "execution_count": null,
      "metadata": {
        "collapsed": false
      },
      "outputs": [],
      "source": [
        "# Download the geometry file from the ansys/example-data repository\ngeometry_path = download_file(\"LONGBAR.x_t\", \"pymechanical\", \"embedding\")"
      ]
    },
    {
      "cell_type": "markdown",
      "metadata": {},
      "source": [
        "Import the geometry\n===================\n"
      ]
    },
    {
      "cell_type": "code",
      "execution_count": null,
      "metadata": {
        "collapsed": false
      },
      "outputs": [],
      "source": [
        "# Define the model\nmodel = app.Model\n\n# Add the geometry import group and set its preferences\ngeometry_import_group = model.GeometryImportGroup\ngeometry_import = geometry_import_group.AddGeometryImport()\ngeometry_import_format = Ansys.Mechanical.DataModel.Enums.GeometryImportPreference.Format.Automatic\ngeometry_import_preferences = Ansys.ACT.Mechanical.Utilities.GeometryImportPreferences()\ngeometry_import_preferences.ProcessNamedSelections = True\n\n# Import the geometry file with the specified format and preferences\ngeometry_import.Import(geometry_path, geometry_import_format, geometry_import_preferences)\n\n# Visualize the model in 3D\napp.plot()"
      ]
    },
    {
      "cell_type": "markdown",
      "metadata": {},
      "source": [
        "Add steady state thermal analysis\n=================================\n"
      ]
    },
    {
      "cell_type": "code",
      "execution_count": null,
      "metadata": {
        "collapsed": false
      },
      "outputs": [],
      "source": [
        "# Add a steady state thermal analysis to the model\nmodel.AddSteadyStateThermalAnalysis()\n# Set the Mechanical unit system to Standard MKS\napp.ExtAPI.Application.ActiveUnitSystem = MechanicalUnitSystem.StandardMKS\n\n# Get the steady state thermal analysis\nstat_therm = model.Analyses[0]\n\n# Add a coordinate system to the model\ncoordinate_systems = model.CoordinateSystems\n\n# Add two coordinate systems\nlcs1 = coordinate_systems.AddCoordinateSystem()\nlcs1.OriginX = Quantity(\"0 [m]\")\n\nlcs2 = coordinate_systems.AddCoordinateSystem()\nlcs2.OriginX = Quantity(\"0 [m]\")\nlcs2.PrimaryAxisDefineBy = CoordinateSystemAlignmentType.GlobalY"
      ]
    },
    {
      "cell_type": "markdown",
      "metadata": {},
      "source": [
        "Create named selections and construction geometry\n=================================================\n"
      ]
    },
    {
      "cell_type": "markdown",
      "metadata": {},
      "source": [
        "Create a function to add a named selection\n"
      ]
    },
    {
      "cell_type": "code",
      "execution_count": null,
      "metadata": {
        "collapsed": false
      },
      "outputs": [],
      "source": [
        "def setup_named_selection(name, scoping_method=GeometryDefineByType.Worksheet):\n    \"\"\"Create a named selection with the specified scoping method and name.\n\n    Parameters\n    ----------\n    name : str\n        The name of the named selection.\n    scoping_method : GeometryDefineByType\n        The scoping method for the named selection.\n\n    Returns\n    -------\n    Ansys.ACT.Automation.Mechanical.NamedSelection\n        The created named selection.\n    \"\"\"\n    ns = model.AddNamedSelection()\n    ns.ScopingMethod = scoping_method\n    ns.Name = name\n    return ns"
      ]
    },
    {
      "cell_type": "markdown",
      "metadata": {},
      "source": [
        "Create a function to add generation criteria to the named selection\n"
      ]
    },
    {
      "cell_type": "code",
      "execution_count": null,
      "metadata": {
        "collapsed": false
      },
      "outputs": [],
      "source": [
        "def add_generation_criteria(\n    named_selection,\n    value,\n    set_active_action_criteria=True,\n    active=True,\n    action=SelectionActionType.Add,\n    entity_type=SelectionType.GeoFace,\n    criterion=SelectionCriterionType.Size,\n    operator=SelectionOperatorType.Equal,\n):\n    \"\"\"Add generation criteria to the named selection.\n\n    Parameters\n    ----------\n    named_selection : Ansys.ACT.Automation.Mechanical.NamedSelection\n        The named selection to which the criteria will be added.\n    value : Quantity\n        The value for the criteria.\n    active : bool\n        Whether the criteria is active.\n    action : SelectionActionType\n        The action type for the criteria.\n    entity_type : SelectionType\n        The entity type for the criteria.\n    criterion : SelectionCriterionType\n        The criterion type for the criteria.\n    operator : SelectionOperatorType\n        The operator for the criteria.\n    \"\"\"\n    generation_criteria = named_selection.GenerationCriteria\n    criteria = Ansys.ACT.Automation.Mechanical.NamedSelectionCriterion()\n\n    set_criteria_properties(\n        criteria,\n        value,\n        set_active_action_criteria,\n        active,\n        action,\n        entity_type,\n        criterion,\n        operator,\n    )\n\n    if set_active_action_criteria:\n        generation_criteria.Add(criteria)"
      ]
    },
    {
      "cell_type": "markdown",
      "metadata": {},
      "source": [
        "Create a function to set the properties of the generation criteria\n"
      ]
    },
    {
      "cell_type": "code",
      "execution_count": null,
      "metadata": {
        "collapsed": false
      },
      "outputs": [],
      "source": [
        "def set_criteria_properties(\n    criteria,\n    value,\n    set_active_action_criteria=True,\n    active=True,\n    action=SelectionActionType.Add,\n    entity_type=SelectionType.GeoFace,\n    criterion=SelectionCriterionType.Size,\n    operator=SelectionOperatorType.Equal,\n):\n    \"\"\"Set the properties of the generation criteria.\n\n    Parameters\n    ----------\n    criteria : Ansys.ACT.Automation.Mechanical.NamedSelectionCriterion\n        The generation criteria to set properties for.\n    active : bool\n        Whether the criteria is active.\n    action : SelectionActionType\n        The action type for the criteria.\n    entity_type : SelectionType\n        The entity type for the criteria.\n    criterion : SelectionCriterionType\n        The criterion type for the criteria.\n    operator : SelectionOperatorType\n        The operator for the criteria.\n    \"\"\"\n    if set_active_action_criteria:\n        criteria.Active = active\n        criteria.Action = action\n\n    criteria.EntityType = entity_type\n    criteria.Criterion = criterion\n    criteria.Operator = operator\n    criteria.Value = value\n\n    return criteria"
      ]
    },
    {
      "cell_type": "markdown",
      "metadata": {},
      "source": [
        "Add named selections to the model\n"
      ]
    },
    {
      "cell_type": "code",
      "execution_count": null,
      "metadata": {
        "collapsed": false
      },
      "outputs": [],
      "source": [
        "face1 = setup_named_selection(\"Face1\")\nadd_generation_criteria(face1, Quantity(\"20 [m]\"), criterion=SelectionCriterionType.LocationZ)\nface1.Activate()\nface1.Generate()\n\nface2 = setup_named_selection(\"Face2\")\nadd_generation_criteria(face2, Quantity(\"0 [m]\"), criterion=SelectionCriterionType.LocationZ)\nface2.Activate()\nface2.Generate()\n\nface3 = setup_named_selection(\"Face3\")\nadd_generation_criteria(face3, Quantity(\"1 [m]\"), criterion=SelectionCriterionType.LocationX)\nadd_generation_criteria(\n    face3,\n    Quantity(\"2 [m]\"),\n    criterion=SelectionCriterionType.LocationY,\n    action=SelectionActionType.Filter,\n)\nadd_generation_criteria(\n    face3,\n    Quantity(\"12 [m]\"),\n    criterion=SelectionCriterionType.LocationZ,\n    action=SelectionActionType.Filter,\n)\nadd_generation_criteria(face3, Quantity(\"4.5 [m]\"), criterion=SelectionCriterionType.LocationZ)\nadd_generation_criteria(\n    face3,\n    Quantity(\"2 [m]\"),\n    criterion=SelectionCriterionType.LocationY,\n    action=SelectionActionType.Filter,\n)\nface3.Activate()\nface3.Generate()\n\nbody1 = setup_named_selection(\"Body1\")\nbody1.GenerationCriteria.Add(None)\nset_criteria_properties(\n    body1.GenerationCriteria[0],\n    Quantity(\"1 [m]\"),\n    set_active_action_criteria=False,\n    criterion=SelectionCriterionType.LocationZ,\n)\nbody1.GenerationCriteria.Add(None)\nset_criteria_properties(\n    body1.GenerationCriteria[1],\n    Quantity(\"1 [m]\"),\n    set_active_action_criteria=False,\n    criterion=SelectionCriterionType.LocationZ,\n)\nbody1.Generate()"
      ]
    },
    {
      "cell_type": "markdown",
      "metadata": {},
      "source": [
        "Create construction geometry\n"
      ]
    },
    {
      "cell_type": "code",
      "execution_count": null,
      "metadata": {
        "collapsed": false
      },
      "outputs": [],
      "source": [
        "# Add construction geometry to the model\nconstruction_geometry = model.AddConstructionGeometry()\n# Add a path to the construction geometry\nconstruction_geom_path = construction_geometry.AddPath()\n\n# Set the coordinate system for the construction geometry path\nconstruction_geom_path.StartYCoordinate = Quantity(2, \"m\")\nconstruction_geom_path.StartZCoordinate = Quantity(20, \"m\")\nconstruction_geom_path.StartZCoordinate = Quantity(20, \"m\")\nconstruction_geom_path.EndXCoordinate = Quantity(2, \"m\")\n\n# Add a surface to the construction geometry\nsurface = construction_geometry.AddSurface()\n# Set the coordinate system for the surface\nsurface.CoordinateSystem = lcs2\n# Update the solids in the construction geometry\nconstruction_geometry.UpdateAllSolids()"
      ]
    },
    {
      "cell_type": "markdown",
      "metadata": {},
      "source": [
        "Define the boundary condition and add results\n=============================================\n"
      ]
    },
    {
      "cell_type": "markdown",
      "metadata": {},
      "source": [
        "Create a function to set the location and output for the temperature\nboundary condition\n"
      ]
    },
    {
      "cell_type": "code",
      "execution_count": null,
      "metadata": {
        "collapsed": false
      },
      "outputs": [],
      "source": [
        "def set_loc_and_output(temp, location, values):\n    \"\"\"Add a temperature set output to the boundary condition.\n\n    Parameters\n    ----------\n    temp : Ansys.Mechanical.DataModel.SteadyStateThermal.Temperature\n        The temperature boundary condition.\n    location : Ansys.Mechanical.DataModel.Geometry.GeometryObject\n        The location of the temperature boundary condition.\n    values : list[Quantity]\n        The list of values for the temperature.\n    \"\"\"\n    temp.Location = location\n    temp.Magnitude.Output.DiscreteValues = [Quantity(value) for value in values]"
      ]
    },
    {
      "cell_type": "markdown",
      "metadata": {},
      "source": [
        "Create a function to set the inputs and outputs for the temperature\nboundary condition\n"
      ]
    },
    {
      "cell_type": "code",
      "execution_count": null,
      "metadata": {
        "collapsed": false
      },
      "outputs": [],
      "source": [
        "def set_inputs_and_outputs(\n    condition,\n    input_quantities: list = [\"0 [sec]\", \"1 [sec]\", \"2 [sec]\"],\n    output_quantities: list = [\"22[C]\", \"30[C]\", \"40[C]\"],\n):\n    \"\"\"Set the temperature inputs for the boundary condition.\n\n    Parameters\n    ----------\n    condition : Ansys.Mechanical.DataModel.SteadyStateThermal.Temperature\n        The temperature boundary condition.\n    inputs : list[Quantity]\n        The list of input values for the temperature.\n    \"\"\"\n    # Set the magnitude for temperature or the ambient temperature for radiation\n    if \"Temperature\" in str(type(condition)):\n        prop = condition.Magnitude\n    elif \"Radiation\" in str(type(condition)):\n        prop = condition.AmbientTemperature\n\n    # Set the inputs and outputs for the temperature or radiation\n    prop.Inputs[0].DiscreteValues = [Quantity(value) for value in input_quantities]\n    prop.Output.DiscreteValues = [Quantity(value) for value in output_quantities]"
      ]
    },
    {
      "cell_type": "markdown",
      "metadata": {},
      "source": [
        "Add temperature boundary conditions to the steady state thermal analysis\n"
      ]
    },
    {
      "cell_type": "code",
      "execution_count": null,
      "metadata": {
        "collapsed": false
      },
      "outputs": [],
      "source": [
        "temp = stat_therm.AddTemperature()\nset_loc_and_output(temp, face1, [\"22[C]\", \"30[C]\"])\ntemp2 = stat_therm.AddTemperature()\nset_loc_and_output(temp2, face2, [\"22[C]\", \"60[C]\"])\n\nset_inputs_and_outputs(temp)\nset_inputs_and_outputs(temp2, output_quantities=[\"22[C]\", \"50[C]\", \"80[C]\"])"
      ]
    },
    {
      "cell_type": "markdown",
      "metadata": {},
      "source": [
        "Add radiation\n"
      ]
    },
    {
      "cell_type": "code",
      "execution_count": null,
      "metadata": {
        "collapsed": false
      },
      "outputs": [],
      "source": [
        "# Add a radiation boundary condition to the steady state thermal analysis\nradiation = stat_therm.AddRadiation()\nradiation.Location = face3\nset_inputs_and_outputs(radiation)\nradiation.Correlation = RadiationType.SurfaceToSurface"
      ]
    },
    {
      "cell_type": "markdown",
      "metadata": {},
      "source": [
        "Set up the analysis settings\n"
      ]
    },
    {
      "cell_type": "code",
      "execution_count": null,
      "metadata": {
        "collapsed": false
      },
      "outputs": [],
      "source": [
        "analysis_settings = stat_therm.AnalysisSettings\nanalysis_settings.NumberOfSteps = 2\nanalysis_settings.CalculateVolumeEnergy = True\n\n# Activate the static thermal analysis and display the image\nstat_therm.Activate()\nset_camera_and_display_image(camera, graphics, settings_720p, output_path, \"bc_steady_state.png\")"
      ]
    },
    {
      "cell_type": "markdown",
      "metadata": {},
      "source": [
        "Add results\n===========\n"
      ]
    },
    {
      "cell_type": "markdown",
      "metadata": {},
      "source": [
        "Add temperature results to the solution\n"
      ]
    },
    {
      "cell_type": "code",
      "execution_count": null,
      "metadata": {
        "collapsed": false
      },
      "outputs": [],
      "source": [
        "# Get the solution object for the steady state thermal analysis\nstat_therm_soln = model.Analyses[0].Solution\n\n# Add four temperature results to the solution\ntemp_rst = stat_therm_soln.AddTemperature()\ntemp_rst.By = SetDriverStyle.MaximumOverTime\n\n# Set the temperature location to the body1 named selection\ntemp_rst2 = stat_therm_soln.AddTemperature()\ntemp_rst2.Location = body1\n\n# Set the temperature location to the construction geometry path\ntemp_rst3 = stat_therm_soln.AddTemperature()\ntemp_rst3.Location = construction_geom_path\n\n# Set the temperaature location to the construction geometry surface\ntemp_rst4 = stat_therm_soln.AddTemperature()\ntemp_rst4.Location = surface"
      ]
    },
    {
      "cell_type": "markdown",
      "metadata": {},
      "source": [
        "Add the total and directional heat flux to the solution\n"
      ]
    },
    {
      "cell_type": "code",
      "execution_count": null,
      "metadata": {
        "collapsed": false
      },
      "outputs": [],
      "source": [
        "total_heat_flux = stat_therm_soln.AddTotalHeatFlux()\ndirectional_heat_flux = stat_therm_soln.AddTotalHeatFlux()\n\n# Set the thermal result type and normal orientation for the directional heat flux\ndirectional_heat_flux.ThermalResultType = TotalOrDirectional.Directional\ndirectional_heat_flux.NormalOrientation = NormalOrientationType.ZAxis\n\n# Set the coordinate system's primary axis for the directional heat flux\nlcs2.PrimaryAxisDefineBy = CoordinateSystemAlignmentType.GlobalZ\ndirectional_heat_flux.CoordinateSystem = lcs2\n\n# Set the display option for the directional heat flux\ndirectional_heat_flux.DisplayOption = ResultAveragingType.Averaged"
      ]
    },
    {
      "cell_type": "markdown",
      "metadata": {},
      "source": [
        "Add thermal error and temperature probes\n"
      ]
    },
    {
      "cell_type": "code",
      "execution_count": null,
      "metadata": {
        "collapsed": false
      },
      "outputs": [],
      "source": [
        "# Add a thermal error to the solution\nthermal_error = stat_therm_soln.AddThermalError()\n\n# Add a temperature probe to the solution\ntemp_probe = stat_therm_soln.AddTemperatureProbe()\n\n# Set the temperature probe location to the face1 named selection\ntemp_probe.GeometryLocation = face1\n\n# Set the temperature probe location method to the coordinate system\ntemp_probe.LocationMethod = LocationDefinitionMethod.CoordinateSystem\ntemp_probe.CoordinateSystemSelection = lcs2"
      ]
    },
    {
      "cell_type": "markdown",
      "metadata": {},
      "source": [
        "Add a heat flux probe\n"
      ]
    },
    {
      "cell_type": "code",
      "execution_count": null,
      "metadata": {
        "collapsed": false
      },
      "outputs": [],
      "source": [
        "hflux_probe = stat_therm_soln.AddHeatFluxProbe()\n\n# Set the location method for the heat flux probe\nhflux_probe.LocationMethod = LocationDefinitionMethod.CoordinateSystem\n# Set the coordinate system for the heat flux probe\nhflux_probe.CoordinateSystemSelection = lcs2\n# Set the result selection to the z-axis for the heat flux probe\nhflux_probe.ResultSelection = ProbeDisplayFilter.ZAxis"
      ]
    },
    {
      "cell_type": "markdown",
      "metadata": {},
      "source": [
        "Add a reaction probe\n"
      ]
    },
    {
      "cell_type": "code",
      "execution_count": null,
      "metadata": {
        "collapsed": false
      },
      "outputs": [],
      "source": [
        "# Update the analysis settings to allow output control nodal forces\nanalysis_settings.NodalForces = OutputControlsNodalForcesType.Yes\n\n# Add a reaction probe to the solution\nreaction_probe = stat_therm_soln.AddReactionProbe()\n# Set the reaction probe geometry location to the face1 named selection\nreaction_probe.LocationMethod = LocationDefinitionMethod.GeometrySelection\nreaction_probe.GeometryLocation = face1"
      ]
    },
    {
      "cell_type": "markdown",
      "metadata": {},
      "source": [
        "Add a radiation probe\n"
      ]
    },
    {
      "cell_type": "code",
      "execution_count": null,
      "metadata": {
        "collapsed": false
      },
      "outputs": [],
      "source": [
        "radiation_probe = stat_therm_soln.AddRadiationProbe()\n# Set the radiation probe boundary condition to the radiation boundary condition\nradiation_probe.BoundaryConditionSelection = radiation\n# Display all results for the radiation probe\nradiation_probe.ResultSelection = ProbeDisplayFilter.All"
      ]
    },
    {
      "cell_type": "markdown",
      "metadata": {},
      "source": [
        "Solve the solution\n==================\n"
      ]
    },
    {
      "cell_type": "code",
      "execution_count": null,
      "metadata": {
        "collapsed": false
      },
      "outputs": [],
      "source": [
        "# Solve the steady state thermal analysis solution\nstat_therm_soln.Solve(True)"
      ]
    },
    {
      "cell_type": "markdown",
      "metadata": {},
      "source": [
        "Show messages\n=============\n"
      ]
    },
    {
      "cell_type": "code",
      "execution_count": null,
      "metadata": {
        "collapsed": false
      },
      "outputs": [],
      "source": [
        "# Print all messages from Mechanical\napp.messages.show()"
      ]
    },
    {
      "cell_type": "markdown",
      "metadata": {},
      "source": [
        "Display the results\n===================\n"
      ]
    },
    {
      "cell_type": "code",
      "execution_count": null,
      "metadata": {
        "collapsed": false
      },
      "outputs": [],
      "source": [
        "# Activate the total body temperature and display the image\napp.Tree.Activate([temp_rst])\nset_camera_and_display_image(camera, graphics, settings_720p, output_path, \"total_body_temp.png\")"
      ]
    },
    {
      "cell_type": "markdown",
      "metadata": {},
      "source": [
        "Temperature on part of the body\n"
      ]
    },
    {
      "cell_type": "code",
      "execution_count": null,
      "metadata": {
        "collapsed": false
      },
      "outputs": [],
      "source": [
        "# Activate the temperature on part of the body and display the image\napp.Tree.Activate([temp_rst2])\nset_camera_and_display_image(camera, graphics, settings_720p, output_path, \"part_temp_body.png\")"
      ]
    },
    {
      "cell_type": "markdown",
      "metadata": {},
      "source": [
        "Temperature distribution along the specific path\n"
      ]
    },
    {
      "cell_type": "code",
      "execution_count": null,
      "metadata": {
        "collapsed": false
      },
      "outputs": [],
      "source": [
        "# Activate the temperature distribution along the specific path and display the image\napp.Tree.Activate([temp_rst3])\nset_camera_and_display_image(\n    camera, graphics, settings_720p, output_path, \"path_temp_distribution.png\"\n)"
      ]
    },
    {
      "cell_type": "markdown",
      "metadata": {},
      "source": [
        "Temperature of bottom surface\n"
      ]
    },
    {
      "cell_type": "code",
      "execution_count": null,
      "metadata": {
        "collapsed": false
      },
      "outputs": [],
      "source": [
        "# Activate the temperature of the bottom surface and display the image\napp.Tree.Activate([temp_rst4])\nset_camera_and_display_image(\n    camera, graphics, settings_720p, output_path, \"bottom_surface_temp.png\"\n)"
      ]
    },
    {
      "cell_type": "markdown",
      "metadata": {},
      "source": [
        "Export the directional heat flux animation\n==========================================\n"
      ]
    },
    {
      "cell_type": "markdown",
      "metadata": {},
      "source": [
        "Create a function to update the animation frames\n"
      ]
    },
    {
      "cell_type": "code",
      "execution_count": null,
      "metadata": {
        "collapsed": false
      },
      "outputs": [],
      "source": [
        "def update_animation(frame: int) -> list[mpimg.AxesImage]:\n    \"\"\"Update the animation frame for the GIF.\n\n    Parameters\n    ----------\n    frame : int\n        The frame number to update the animation.\n\n    Returns\n    -------\n    list[mpimg.AxesImage]\n        A list containing the updated image for the animation.\n    \"\"\"\n    # Seeks to the given frame in this sequence file\n    gif.seek(frame)\n    # Set the image array to the current frame of the GIF\n    image.set_data(gif.convert(\"RGBA\"))\n    # Return the updated image\n    return [image]"
      ]
    },
    {
      "cell_type": "markdown",
      "metadata": {},
      "source": [
        "Show the directional heat flux animation\n"
      ]
    },
    {
      "cell_type": "code",
      "execution_count": null,
      "metadata": {
        "collapsed": false
      },
      "outputs": [],
      "source": [
        "# Activate the directional heat flux\napp.Tree.Activate([directional_heat_flux])\n\n# Set the animation export format and settings\nanimation_export_format = Ansys.Mechanical.DataModel.Enums.GraphicsAnimationExportFormat.GIF\nsettings_720p = Ansys.Mechanical.Graphics.AnimationExportSettings()\nsettings_720p.Width = 1280\nsettings_720p.Height = 720\n\n# Export the directional heat flux animation as a GIF\ndirectional_heat_flux_gif = output_path / \"directional_heat_flux.gif\"\ndirectional_heat_flux.ExportAnimation(\n    str(directional_heat_flux_gif), animation_export_format, settings_720p\n)\n\n# Open the GIF file and create an animation\ngif = Image.open(directional_heat_flux_gif)\n# Set the subplots for the animation and turn off the axis\nfigure, axes = plt.subplots(figsize=(16, 9))\naxes.axis(\"off\")\n# Change the color of the image\nimage = axes.imshow(gif.convert(\"RGBA\"))\n\n# Create the animation using the figure, update_animation function, and the GIF frames\n# Set the interval between frames to 200 milliseconds and repeat the animation\nani = FuncAnimation(\n    figure,\n    update_animation,\n    frames=range(gif.n_frames),\n    interval=100,\n    repeat=True,\n    blit=True,\n)\n\n# Show the animation\nplt.show()"
      ]
    },
    {
      "cell_type": "markdown",
      "metadata": {},
      "source": [
        "Display the output file from the solve\n======================================\n"
      ]
    },
    {
      "cell_type": "code",
      "execution_count": null,
      "metadata": {
        "collapsed": false
      },
      "outputs": [],
      "source": [
        "# Get the working directory for the steady state thermal analysis\nsolve_path = stat_therm.WorkingDir\n# Get the path to the solve.out file\nsolve_out_path = solve_path + \"solve.out\"\n# Print the output of the solve.out file if applicable\nif solve_out_path:\n    with open(solve_out_path, \"rt\") as file:\n        for line in file:\n            print(line, end=\"\")"
      ]
    },
    {
      "cell_type": "markdown",
      "metadata": {},
      "source": [
        "Print the project tree\n======================\n"
      ]
    },
    {
      "cell_type": "code",
      "execution_count": null,
      "metadata": {
        "collapsed": false
      },
      "outputs": [],
      "source": [
        "app.print_tree()"
      ]
    },
    {
      "cell_type": "markdown",
      "metadata": {},
      "source": [
        "Clean up the app and downloaded files\n=====================================\n"
      ]
    },
    {
      "cell_type": "code",
      "execution_count": null,
      "metadata": {
        "collapsed": false
      },
      "outputs": [],
      "source": [
        "# Save the project file\nmechdat_path = output_path / \"steady_state_thermal.mechdat\"\napp.save(str(mechdat_path))\n\n# Close the app\napp.close()\n\n# Delete the example files\ndelete_downloads()"
      ]
    }
  ],
  "metadata": {
    "kernelspec": {
      "display_name": "Python 3",
      "language": "python",
      "name": "python3"
    },
    "language_info": {
      "codemirror_mode": {
        "name": "ipython",
        "version": 3
      },
      "file_extension": ".py",
      "mimetype": "text/x-python",
      "name": "python",
      "nbconvert_exporter": "python",
      "pygments_lexer": "ipython3",
      "version": "3.12.12"
    }
  },
  "nbformat": 4,
  "nbformat_minor": 0
}