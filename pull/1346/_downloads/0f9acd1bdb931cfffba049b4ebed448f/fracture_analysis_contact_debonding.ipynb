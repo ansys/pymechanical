{
  "cells": [
    {
      "cell_type": "markdown",
      "metadata": {},
      "source": [
        "Fracture analysis - contact debonding {#ref_contact}\n=====================================\n\nThe following example demonstrates the use of the Contact Debonding\nfeaturing in Mechanical using the Cohesive Zone Material (CZM) method.\nThis example displaces two two-dimensional parts on a double cantilever\nbeam.\n"
      ]
    },
    {
      "cell_type": "markdown",
      "metadata": {},
      "source": [
        "Import the necessary libraries\n==============================\n"
      ]
    },
    {
      "cell_type": "code",
      "execution_count": null,
      "metadata": {
        "collapsed": false
      },
      "outputs": [],
      "source": [
        "from pathlib import Path\nfrom typing import TYPE_CHECKING\n\nfrom PIL import Image\nfrom matplotlib import image as mpimg\nfrom matplotlib import pyplot as plt\nfrom matplotlib.animation import FuncAnimation\n\nfrom ansys.mechanical.core import App\nfrom ansys.mechanical.core.examples import delete_downloads, download_file\n\nif TYPE_CHECKING:\n    import Ansys"
      ]
    },
    {
      "cell_type": "markdown",
      "metadata": {},
      "source": [
        "Initialize the embedded application\n===================================\n"
      ]
    },
    {
      "cell_type": "code",
      "execution_count": null,
      "metadata": {
        "collapsed": false
      },
      "outputs": [],
      "source": [
        "app = App(globals=globals())\nprint(app)"
      ]
    },
    {
      "cell_type": "markdown",
      "metadata": {},
      "source": [
        "Configure camera and graphics for image export\n==============================================\n"
      ]
    },
    {
      "cell_type": "code",
      "execution_count": null,
      "metadata": {
        "collapsed": false
      },
      "outputs": [],
      "source": [
        "# Set camera orientation\ngraphics = app.Graphics\ncamera = graphics.Camera\ncamera.SetSpecificViewOrientation(ViewOrientationType.Front)\n\n# Set camera settings for 720p resolution\nimage_export_format = GraphicsImageExportFormat.PNG\ngraphics_image_export_settings = Ansys.Mechanical.Graphics.GraphicsImageExportSettings()\ngraphics_image_export_settings.Resolution = GraphicsResolutionType.EnhancedResolution\ngraphics_image_export_settings.Background = GraphicsBackgroundType.White\ngraphics_image_export_settings.CurrentGraphicsDisplay = False\ngraphics_image_export_settings.Width = 1280\ngraphics_image_export_settings.Height = 720"
      ]
    },
    {
      "cell_type": "markdown",
      "metadata": {},
      "source": [
        "Create functions to set camera and display images\n=================================================\n"
      ]
    },
    {
      "cell_type": "code",
      "execution_count": null,
      "metadata": {
        "collapsed": false
      },
      "outputs": [],
      "source": [
        "# Set the path for the output files (images, gifs, mechdat)\noutput_path = Path.cwd() / \"out\"\n\n\ndef set_camera_and_display_image(\n    camera,\n    graphics,\n    graphics_image_export_settings,\n    image_output_path: Path,\n    image_name: str,\n) -> None:\n    \"\"\"Set the camera to fit the model and display the image.\n\n    Parameters\n    ----------\n    camera : Ansys.ACT.Common.Graphics.MechanicalCameraWrapper\n        The camera object to set the view.\n    graphics : Ansys.ACT.Common.Graphics.MechanicalGraphicsWrapper\n        The graphics object to export the image.\n    image_output_path : Path\n        The path to save the exported image.\n    image_name : str\n        The name of the exported image file.\n    \"\"\"\n    # Set the camera to fit the mesh\n    camera.SetFit()\n    # Export the mesh image with the specified settings\n    image_path = image_output_path / image_name\n    graphics.ExportImage(str(image_path), image_export_format, graphics_image_export_settings)\n    # Display the exported mesh image\n    display_image(image_path)\n\n\ndef display_image(\n    image_path: str,\n    pyplot_figsize_coordinates: tuple = (16, 9),\n    plot_xticks: list = [],\n    plot_yticks: list = [],\n    plot_axis: str = \"off\",\n) -> None:\n    \"\"\"Display the image with the specified parameters.\n\n    Parameters\n    ----------\n    image_path : str\n        The path to the image file to display.\n    pyplot_figsize_coordinates : tuple\n        The size of the figure in inches (width, height).\n    plot_xticks : list\n        The x-ticks to display on the plot.\n    plot_yticks : list\n        The y-ticks to display on the plot.\n    plot_axis : str\n        The axis visibility setting ('on' or 'off').\n    \"\"\"\n    # Set the figure size based on the coordinates specified\n    plt.figure(figsize=pyplot_figsize_coordinates)\n    # Read the image from the file into an array\n    plt.imshow(mpimg.imread(image_path))\n    # Get or set the current tick locations and labels of the x-axis\n    plt.xticks(plot_xticks)\n    # Get or set the current tick locations and labels of the y-axis\n    plt.yticks(plot_yticks)\n    # Turn off the axis\n    plt.axis(plot_axis)\n    # Display the figure\n    plt.show()"
      ]
    },
    {
      "cell_type": "markdown",
      "metadata": {},
      "source": [
        "Download and import the geometry file\n=====================================\n"
      ]
    },
    {
      "cell_type": "code",
      "execution_count": null,
      "metadata": {
        "collapsed": false
      },
      "outputs": [],
      "source": [
        "# Set the model\nmodel = app.Model\n# Create a geometry import group for the model\ngeometry_import_group = model.GeometryImportGroup\n# Add the geometry import to the group\ngeometry_import = geometry_import_group.AddGeometryImport()\n# Set the geometry import format\ngeometry_import_format = Ansys.Mechanical.DataModel.Enums.GeometryImportPreference.Format.Automatic\n# Set the geometry import preferences\ngeometry_import_preferences = Ansys.ACT.Mechanical.Utilities.GeometryImportPreferences()\ngeometry_import_preferences.ProcessNamedSelections = True\ngeometry_import_preferences.AnalysisType = (\n    Ansys.Mechanical.DataModel.Enums.GeometryImportPreference.AnalysisType.Type2D\n)\n\n# Download the geometry file from the ansys/example-data repository\ngeometry_path = download_file(\"Contact_Debonding_Example.agdb\", \"pymechanical\", \"embedding\")\n\n# Import/reload the geometry from the CAD (.agdb) file using the provided preferences\ngeometry_import.Import(geometry_path, geometry_import_format, geometry_import_preferences)\n\n# Visualize the model in 3D\napp.plot()"
      ]
    },
    {
      "cell_type": "markdown",
      "metadata": {},
      "source": [
        "Download and import the material files\n======================================\n"
      ]
    },
    {
      "cell_type": "code",
      "execution_count": null,
      "metadata": {
        "collapsed": false
      },
      "outputs": [],
      "source": [
        "# Download the material files from the ansys/example-data repository\nmat1_path = download_file(\"Contact_Debonding_Example_Mat1.xml\", \"pymechanical\", \"embedding\")\nmat2_path = download_file(\"Contact_Debonding_Example_Mat2.xml\", \"pymechanical\", \"embedding\")\n\n# Add materials to the model and import the material files\nmodel_materials = model.Materials\nmodel_materials.Import(mat1_path)\nmodel_materials.Import(mat2_path)"
      ]
    },
    {
      "cell_type": "markdown",
      "metadata": {},
      "source": [
        "Add connections to the model\n============================\n"
      ]
    },
    {
      "cell_type": "code",
      "execution_count": null,
      "metadata": {
        "collapsed": false
      },
      "outputs": [],
      "source": [
        "# Add connections to the model\nadd_connections = model.AddConnections()\n# Add a connection group to the connections\nadd_connections.AddConnectionGroup()\n\n# Define and create automatic connections for the model\nconnections = model.Connections\nconnections.CreateAutomaticConnections()"
      ]
    },
    {
      "cell_type": "markdown",
      "metadata": {},
      "source": [
        "Add a static structural analysis to the model\n=============================================\n"
      ]
    },
    {
      "cell_type": "code",
      "execution_count": null,
      "metadata": {
        "collapsed": false
      },
      "outputs": [],
      "source": [
        "# Add a static structural analysis to the model\nmodel.AddStaticStructuralAnalysis()\nstatic_structural_analysis = app.DataModel.AnalysisByName(\"Static Structural\")\nstatic_structural_analysis_solution = static_structural_analysis.Solution\n\n# Set the unit system\napp.ExtAPI.Application.ActiveUnitSystem = MechanicalUnitSystem.StandardNMM"
      ]
    },
    {
      "cell_type": "markdown",
      "metadata": {},
      "source": [
        "Activate the geometry and set the 2D behavior\n=============================================\n"
      ]
    },
    {
      "cell_type": "code",
      "execution_count": null,
      "metadata": {
        "collapsed": false
      },
      "outputs": [],
      "source": [
        "# Define the geometry for the model\ngeometry = model.Geometry\n# Activate the geometry\ngeometry.Activate()\n# Set the 2D behavior for the geometry\ngeometry.Model2DBehavior = Model2DBehavior.PlaneStrain"
      ]
    },
    {
      "cell_type": "markdown",
      "metadata": {},
      "source": [
        "Create a function to get the child object by name\n=================================================\n"
      ]
    },
    {
      "cell_type": "code",
      "execution_count": null,
      "metadata": {
        "collapsed": false
      },
      "outputs": [],
      "source": [
        "def get_child_object(body, child_type, name: str):\n    \"\"\"Get the named selection child by name.\"\"\"\n    return [child for child in body.GetChildren[child_type](True) if child.Name == name][0]"
      ]
    },
    {
      "cell_type": "markdown",
      "metadata": {},
      "source": [
        "Activate the `Part 2` object and set its material\n=================================================\n"
      ]
    },
    {
      "cell_type": "code",
      "execution_count": null,
      "metadata": {
        "collapsed": false
      },
      "outputs": [],
      "source": [
        "# Get the ``Part 2`` object from the tree\npart2_object = app.DataModel.GetObjectsByName(\"Part 2\")[0]\n\n# Activate the ``Part 2`` object\npart2_object.Activate()\n\n# Set the material for the ``Part 2`` object\npart2_object.Material = get_child_object(\n    model_materials, Ansys.ACT.Automation.Mechanical.Material, \"Interface Body Material\"\n).Name"
      ]
    },
    {
      "cell_type": "markdown",
      "metadata": {},
      "source": [
        "Define the contact and contact regions\n======================================\n"
      ]
    },
    {
      "cell_type": "markdown",
      "metadata": {},
      "source": [
        "Activate the contact region\n"
      ]
    },
    {
      "cell_type": "code",
      "execution_count": null,
      "metadata": {
        "collapsed": false
      },
      "outputs": [],
      "source": [
        "# Get the contact from the connection group\ncontact = get_child_object(\n    connections, Ansys.ACT.Automation.Mechanical.Connections.ConnectionGroup, \"Contacts\"\n)\n\n# Get the contact region from the contact\ncontact_region = get_child_object(\n    contact, Ansys.ACT.Automation.Mechanical.Connections.ContactRegion, \"Contact Region\"\n)\n# Activate the contact region\ncontact_region.Activate()"
      ]
    },
    {
      "cell_type": "markdown",
      "metadata": {},
      "source": [
        "Set properties for the contact region\n"
      ]
    },
    {
      "cell_type": "code",
      "execution_count": null,
      "metadata": {
        "collapsed": false
      },
      "outputs": [],
      "source": [
        "# Define the model named selections\nnamed_selections = model.NamedSelections\n# Set the source location to the high edge named selection\ncontact_region.SourceLocation = get_child_object(\n    named_selections, Ansys.ACT.Automation.Mechanical.NamedSelection, \"High_Edge\"\n)\n# Set the target location to the low edge named selection`\ncontact_region.TargetLocation = get_child_object(\n    named_selections, Ansys.ACT.Automation.Mechanical.NamedSelection, \"Low_Edge\"\n)\n# Set the contact type to bonded\ncontact_region.ContactType = ContactType.Bonded\n# Set the contact formulation to pure penalty\ncontact_region.ContactFormulation = ContactFormulation.PurePenalty"
      ]
    },
    {
      "cell_type": "markdown",
      "metadata": {},
      "source": [
        "Generate the mesh\n=================\n"
      ]
    },
    {
      "cell_type": "code",
      "execution_count": null,
      "metadata": {
        "collapsed": false
      },
      "outputs": [],
      "source": [
        "# Define the mesh for the model\nmesh = model.Mesh\n\n# Set the mesh element order to quadratic\nmesh.ElementOrder = ElementOrder.Quadratic\n# Turn off adaptive sizing\nmesh.UseAdaptiveSizing = False\n# Set the mesh element size to 0.75 mm\nmesh.ElementSize = Quantity(\"0.75 [mm]\")"
      ]
    },
    {
      "cell_type": "markdown",
      "metadata": {},
      "source": [
        "Create a function to add sizing to the mesh\n"
      ]
    },
    {
      "cell_type": "code",
      "execution_count": null,
      "metadata": {
        "collapsed": false
      },
      "outputs": [],
      "source": [
        "def add_sizing(\n    mesh: Ansys.ACT.Automation.Mechanical.MeshControls.Mesh,\n    name: str,\n    element_size: Ansys.Core.Units.Quantity,\n    behavior: Ansys.Mechanical.DataModel.Enums.SizingBehavior,\n) -> None:\n    \"\"\"Add sizing to the mesh and set its location, element size, and behavior.\n\n    Parameters\n    ----------\n    mesh : Ansys.ACT.Automation.Mechanical.MeshControls.Mesh\n        The mesh object to add sizing to.\n    name : str\n        The name of the named selection to use for sizing.\n    element_size : Ansys.Core.Units.Quantity\n        The element size to set for the sizing.\n    behavior : Ansys.Mechanical.DataModel.Enums.SizingBehavior\n        The behavior of the sizing (e.g., hard or soft).\n    \"\"\"\n    sizing = mesh.AddSizing()\n    sizing.Location = get_child_object(\n        named_selections, Ansys.ACT.Automation.Mechanical.NamedSelection, name\n    )\n    sizing.ElementSize = element_size\n    sizing.Behavior = behavior"
      ]
    },
    {
      "cell_type": "markdown",
      "metadata": {},
      "source": [
        "Add sizing to the mesh for the short and long edges\n"
      ]
    },
    {
      "cell_type": "code",
      "execution_count": null,
      "metadata": {
        "collapsed": false
      },
      "outputs": [],
      "source": [
        "add_sizing(mesh, \"Short_Edges\", Quantity(\"0.75 [mm]\"), SizingBehavior.Hard)\nadd_sizing(mesh, \"Long_Edges\", Quantity(\"0.5 [mm]\"), SizingBehavior.Hard)"
      ]
    },
    {
      "cell_type": "markdown",
      "metadata": {},
      "source": [
        "Add sizing to the mesh for both faces\n"
      ]
    },
    {
      "cell_type": "code",
      "execution_count": null,
      "metadata": {
        "collapsed": false
      },
      "outputs": [],
      "source": [
        "sizing_mesh_both_faces = mesh.AddFaceMeshing()\nsizing_mesh_both_faces.Location = get_child_object(\n    named_selections, Ansys.ACT.Automation.Mechanical.NamedSelection, \"Both_Faces\"\n)\n# Set the face meshing method to quadrilaterals\nsizing_mesh_both_faces.Method = FaceMeshingMethod.Quadrilaterals\n\n# Activate and generate the mesh\nmesh.Activate()\nmesh.GenerateMesh()\n\n# Display the mesh image\nset_camera_and_display_image(\n    camera, graphics, graphics_image_export_settings, output_path, \"mesh.png\"\n)"
      ]
    },
    {
      "cell_type": "markdown",
      "metadata": {},
      "source": [
        "Add a contact debonding object\n==============================\n"
      ]
    },
    {
      "cell_type": "code",
      "execution_count": null,
      "metadata": {
        "collapsed": false
      },
      "outputs": [],
      "source": [
        "# Activate the model\nmodel.Activate()\n\n# Add a fracture to the model\nfracture = model.AddFracture()\n\n# Add contact debonding to the fracture\ncontact_debonding = fracture.AddContactDebonding()\n# Set the material for the contact debonding\ncontact_debonding.Material = get_child_object(\n    model_materials, Ansys.ACT.Automation.Mechanical.Material, \"CZM Crack Material\"\n).Name\n# Set the contact region for the contact debonding\ncontact_debonding.ContactRegion = contact_region"
      ]
    },
    {
      "cell_type": "markdown",
      "metadata": {},
      "source": [
        "Define the static structural analysis settings\n==============================================\n"
      ]
    },
    {
      "cell_type": "code",
      "execution_count": null,
      "metadata": {
        "collapsed": false
      },
      "outputs": [],
      "source": [
        "# Define the static structural analysis settings\nanalysis_settings = static_structural_analysis.AnalysisSettings\n# Activate the analysis settings\nanalysis_settings.Activate()\n# Turn on automatic time stepping\nanalysis_settings.AutomaticTimeStepping = AutomaticTimeStepping.On\n# Define the time step settings with substeps\nanalysis_settings.DefineBy = TimeStepDefineByType.Substeps\n# Set the initial, minimum, and maximum time step sizes\nanalysis_settings.InitialSubsteps = 100\nanalysis_settings.MinimumSubsteps = 100\nanalysis_settings.MaximumSubsteps = 100\n# Turn on large deflection\nanalysis_settings.LargeDeflection = True"
      ]
    },
    {
      "cell_type": "markdown",
      "metadata": {},
      "source": [
        "Define boundary conditions\n==========================\n"
      ]
    },
    {
      "cell_type": "code",
      "execution_count": null,
      "metadata": {
        "collapsed": false
      },
      "outputs": [],
      "source": [
        "# Add fixed support to the static structural analysis\nfixed_support = static_structural_analysis.AddFixedSupport()\n# Set the fixed support location to the fixed edges named selection\nfixed_support.Location = get_child_object(\n    named_selections, Ansys.ACT.Automation.Mechanical.NamedSelection, \"Fixed_Edges\"\n)"
      ]
    },
    {
      "cell_type": "markdown",
      "metadata": {},
      "source": [
        "Add displacements to the static structural analysis\n===================================================\n"
      ]
    },
    {
      "cell_type": "markdown",
      "metadata": {},
      "source": [
        "Create a function to add displacement to the static structural analysis\n"
      ]
    },
    {
      "cell_type": "code",
      "execution_count": null,
      "metadata": {
        "collapsed": false
      },
      "outputs": [],
      "source": [
        "def add_displacement(\n    static_structural_analysis: Ansys.ACT.Automation.Mechanical.Analysis,\n    named_selections: Ansys.ACT.Automation.Mechanical.NamedSelections,\n    name: str,\n    y_component_value: Ansys.Core.Units.Quantity,\n) -> None:\n    \"\"\"Add a displacement to the static structural analysis.\n\n    Parameters\n    ----------\n    static_structural_analysis : Ansys.ACT.Automation.Mechanical.Analysis\n        The static structural analysis object.\n    named_selections : Ansys.ACT.Automation.Mechanical.NamedSelections\n        The named selections object.\n    name : str\n        The name of the named selection to use for displacement.\n    y_component_value : str\n        The value of the Y component for the displacement.\n    \"\"\"\n    # Add a displacement to the static structural analysis\n    displacement = static_structural_analysis.AddDisplacement()\n    # Set the location for the displacement to the named selection with the given name\n    displacement.Location = get_child_object(\n        named_selections, Ansys.ACT.Automation.Mechanical.NamedSelection, name\n    )\n    # Set the displacement type to components\n    displacement.DefineBy = LoadDefineBy.Components\n    # Set the value of the Y component for the displacement\n    displacement.YComponent.Output.DiscreteValues = [y_component_value]\n\n    return displacement"
      ]
    },
    {
      "cell_type": "markdown",
      "metadata": {},
      "source": [
        "Add displacements to the static structural analysis\n"
      ]
    },
    {
      "cell_type": "code",
      "execution_count": null,
      "metadata": {
        "collapsed": false
      },
      "outputs": [],
      "source": [
        "displacement1_vertex = add_displacement(\n    static_structural_analysis, named_selections, \"Disp1_Vertex\", Quantity(\"10 [mm]\")\n)\ndisplacement2_vertex = add_displacement(\n    static_structural_analysis, named_selections, \"Disp2_Vertex\", Quantity(\"-10 [mm]\")\n)"
      ]
    },
    {
      "cell_type": "markdown",
      "metadata": {},
      "source": [
        "Set the camera to fit the model and display the image of the boundary\nconditions\n"
      ]
    },
    {
      "cell_type": "code",
      "execution_count": null,
      "metadata": {
        "collapsed": false
      },
      "outputs": [],
      "source": [
        "static_structural_analysis.Activate()\n\nset_camera_and_display_image(\n    camera,\n    graphics,\n    graphics_image_export_settings,\n    output_path,\n    \"boundary_conditions.png\",\n)"
      ]
    },
    {
      "cell_type": "markdown",
      "metadata": {},
      "source": [
        "Add results to the solution\n===========================\n"
      ]
    },
    {
      "cell_type": "code",
      "execution_count": null,
      "metadata": {
        "collapsed": false
      },
      "outputs": [],
      "source": [
        "# Activate the static structural analysis solution\nstatic_structural_analysis_solution.Activate()"
      ]
    },
    {
      "cell_type": "markdown",
      "metadata": {},
      "source": [
        "Add directional deformation to the static structural analysis solution\n"
      ]
    },
    {
      "cell_type": "code",
      "execution_count": null,
      "metadata": {
        "collapsed": false
      },
      "outputs": [],
      "source": [
        "directional_deformation = static_structural_analysis_solution.AddDirectionalDeformation()\n# Set the orientation of the directional deformation to Y-axis\ndirectional_deformation.NormalOrientation = NormalOrientationType.YAxis"
      ]
    },
    {
      "cell_type": "markdown",
      "metadata": {},
      "source": [
        "Add the force reaction to the static structural analysis solution\n"
      ]
    },
    {
      "cell_type": "code",
      "execution_count": null,
      "metadata": {
        "collapsed": false
      },
      "outputs": [],
      "source": [
        "force_reaction = static_structural_analysis_solution.AddForceReaction()\n# Set the boundary condition selection to the vertex named selection\nforce_reaction.BoundaryConditionSelection = displacement1_vertex"
      ]
    },
    {
      "cell_type": "markdown",
      "metadata": {},
      "source": [
        "Solve the solution\n==================\n"
      ]
    },
    {
      "cell_type": "code",
      "execution_count": null,
      "metadata": {
        "collapsed": false
      },
      "outputs": [],
      "source": [
        "static_structural_analysis_solution.Solve(True)"
      ]
    },
    {
      "cell_type": "markdown",
      "metadata": {},
      "source": [
        "Show messages\n=============\n"
      ]
    },
    {
      "cell_type": "code",
      "execution_count": null,
      "metadata": {
        "collapsed": false
      },
      "outputs": [],
      "source": [
        "# Print all messages from Mechanical\napp.messages.show()"
      ]
    },
    {
      "cell_type": "markdown",
      "metadata": {},
      "source": [
        "Activate the reactions and display the images\n=============================================\n"
      ]
    },
    {
      "cell_type": "markdown",
      "metadata": {},
      "source": [
        "Directional deformation\n"
      ]
    },
    {
      "cell_type": "code",
      "execution_count": null,
      "metadata": {
        "collapsed": false
      },
      "outputs": [],
      "source": [
        "directional_deformation.Activate()\nset_camera_and_display_image(\n    camera,\n    graphics,\n    graphics_image_export_settings,\n    output_path,\n    \"directional_deformation.png\",\n)"
      ]
    },
    {
      "cell_type": "markdown",
      "metadata": {},
      "source": [
        "Force reaction\n"
      ]
    },
    {
      "cell_type": "code",
      "execution_count": null,
      "metadata": {
        "collapsed": false
      },
      "outputs": [],
      "source": [
        "force_reaction.Activate()\nset_camera_and_display_image(\n    camera, graphics, graphics_image_export_settings, output_path, \"force_reaction.png\"\n)"
      ]
    },
    {
      "cell_type": "markdown",
      "metadata": {},
      "source": [
        "Export the animation\n====================\n"
      ]
    },
    {
      "cell_type": "markdown",
      "metadata": {},
      "source": [
        "Create a function to update the animation frame\n"
      ]
    },
    {
      "cell_type": "code",
      "execution_count": null,
      "metadata": {
        "collapsed": false
      },
      "outputs": [],
      "source": [
        "def update_animation(frame: int) -> list[mpimg.AxesImage]:\n    \"\"\"Update the animation frame for the GIF.\n\n    Parameters\n    ----------\n    frame : int\n        The frame number to update the animation.\n\n    Returns\n    -------\n    list[mpimg.AxesImage]\n        A list containing the updated image for the animation.\n    \"\"\"\n    # Seeks to the given frame in this sequence file\n    gif.seek(frame)\n    # Set the image array to the current frame of the GIF\n    image.set_data(gif.convert(\"RGBA\"))\n    # Return the updated image\n    return [image]"
      ]
    },
    {
      "cell_type": "markdown",
      "metadata": {},
      "source": [
        "Display the animation of the force reaction\n"
      ]
    },
    {
      "cell_type": "code",
      "execution_count": null,
      "metadata": {
        "collapsed": false
      },
      "outputs": [],
      "source": [
        "# Set the animation export format and settings\nanimation_export_format = GraphicsAnimationExportFormat.GIF\nanimation_export_settings = Ansys.Mechanical.Graphics.AnimationExportSettings()\nanimation_export_settings.Width = 1280\nanimation_export_settings.Height = 720\n\n# Set the path for the contact status GIF\nforce_reaction_gif_path = output_path / \"force_reaction.gif\"\n\n# Export the force reaction animation to a GIF file\nforce_reaction.ExportAnimation(\n    str(force_reaction_gif_path), animation_export_format, animation_export_settings\n)\n\n# Open the GIF file and create an animation\ngif = Image.open(force_reaction_gif_path)\n# Set the subplots for the animation and turn off the axis\nfigure, axes = plt.subplots(figsize=(16, 9))\naxes.axis(\"off\")\n# Change the color of the image\nimage = axes.imshow(gif.convert(\"RGBA\"))\n\n# Create the animation using the figure, update_animation function, and the GIF frames\n# Set the interval between frames to 200 milliseconds and repeat the animation\nFuncAnimation(\n    figure,\n    update_animation,\n    frames=range(gif.n_frames),\n    interval=100,\n    repeat=True,\n    blit=True,\n)\n\n# Show the animation\nplt.show()"
      ]
    },
    {
      "cell_type": "markdown",
      "metadata": {},
      "source": [
        "Display the output file from the solve\n======================================\n"
      ]
    },
    {
      "cell_type": "code",
      "execution_count": null,
      "metadata": {
        "collapsed": false
      },
      "outputs": [],
      "source": [
        "# Get the working directory for the static structural analysis\nsolve_path = Path(static_structural_analysis.WorkingDir)\n# Get the solve output path\nsolve_out_path = solve_path / \"solve.out\"\n\n# Print the content of the solve output file if it exists\nif solve_out_path:\n    with solve_out_path.open(\"rt\") as file:\n        for line in file:\n            print(line, end=\"\")"
      ]
    },
    {
      "cell_type": "markdown",
      "metadata": {},
      "source": [
        "Print the project tree\n======================\n"
      ]
    },
    {
      "cell_type": "code",
      "execution_count": null,
      "metadata": {
        "collapsed": false
      },
      "outputs": [],
      "source": [
        "app.print_tree()"
      ]
    },
    {
      "cell_type": "markdown",
      "metadata": {},
      "source": [
        "Clean up the project\n====================\n"
      ]
    },
    {
      "cell_type": "code",
      "execution_count": null,
      "metadata": {
        "collapsed": false
      },
      "outputs": [],
      "source": [
        "# Save the project\nmechdat_path = output_path / \"contact_debonding.mechdat\"\napp.save(str(mechdat_path))\n\n# Close the app\napp.close()\n\n# Delete the example files\ndelete_downloads()"
      ]
    }
  ],
  "metadata": {
    "kernelspec": {
      "display_name": "Python 3",
      "language": "python",
      "name": "python3"
    },
    "language_info": {
      "codemirror_mode": {
        "name": "ipython",
        "version": 3
      },
      "file_extension": ".py",
      "mimetype": "text/x-python",
      "name": "python",
      "nbconvert_exporter": "python",
      "pygments_lexer": "ipython3",
      "version": "3.12.12"
    }
  },
  "nbformat": 4,
  "nbformat_minor": 0
}