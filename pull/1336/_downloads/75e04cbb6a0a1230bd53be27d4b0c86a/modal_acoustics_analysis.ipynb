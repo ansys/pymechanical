{
  "cells": [
    {
      "cell_type": "markdown",
      "metadata": {},
      "source": [
        "Modal acoustics analysis {#ref_modal_acoustics_analysis}\n========================\n\nThis example demonstrate modal acoustic analysis that involves modeling\nboth a structure and the surrounding fluid to analyze frequencies and\nstanding wave patterns within the structure. This type of analysis is\nessential for applications such as Sonar, concert hall design, noise\nreduction in various settings, audio speaker design, and geophysical\nexploration.\n\nMechanical enables you to model pure acoustic problems and\nfluid-structure interaction (FSI) problems. A coupled acoustic analysis\naccounts for FSI. An uncoupled acoustic analysis simulates the fluid\nonly and ignores any fluid-structure interaction.\n"
      ]
    },
    {
      "cell_type": "markdown",
      "metadata": {},
      "source": [
        "Import the necessary libraries\n==============================\n"
      ]
    },
    {
      "cell_type": "code",
      "execution_count": null,
      "metadata": {
        "collapsed": false
      },
      "outputs": [],
      "source": [
        "from pathlib import Path\nfrom typing import TYPE_CHECKING\n\nfrom PIL import Image\nfrom matplotlib import image as mpimg\nfrom matplotlib import pyplot as plt\nfrom matplotlib.animation import FuncAnimation\n\nfrom ansys.mechanical.core import App\nfrom ansys.mechanical.core.examples import delete_downloads, download_file\n\nif TYPE_CHECKING:\n    import Ansys"
      ]
    },
    {
      "cell_type": "markdown",
      "metadata": {},
      "source": [
        "Initialize the embedded application\n===================================\n"
      ]
    },
    {
      "cell_type": "code",
      "execution_count": null,
      "metadata": {
        "collapsed": false
      },
      "outputs": [],
      "source": [
        "app = App(globals=globals())\nprint(app)"
      ]
    },
    {
      "cell_type": "markdown",
      "metadata": {},
      "source": [
        "Create functions to set camera and display images\n=================================================\n"
      ]
    },
    {
      "cell_type": "code",
      "execution_count": null,
      "metadata": {
        "collapsed": false
      },
      "outputs": [],
      "source": [
        "# Set the path for the output files (images, gifs, mechdat)\noutput_path = Path.cwd() / \"out\"\n\n\ndef set_camera_and_display_image(\n    camera,\n    graphics,\n    graphics_image_export_settings,\n    image_output_path: Path,\n    image_name: str,\n    set_fit: bool = False,\n) -> None:\n    \"\"\"Set the camera to fit the model and display the image.\n\n    Parameters\n    ----------\n    camera : Ansys.ACT.Common.Graphics.MechanicalCameraWrapper\n        The camera object to set the view.\n    graphics : Ansys.ACT.Common.Graphics.MechanicalGraphicsWrapper\n        The graphics object to export the image.\n    graphics_image_export_settings : Ansys.Mechanical.Graphics.GraphicsImageExportSettings\n        The settings for exporting the image.\n    image_output_path : Path\n        The path to save the exported image.\n    image_name : str\n        The name of the exported image file.\n    set_fit: bool, Optional\n        If True, set the camera to fit the mesh.\n        If False, do not set the camera to fit the mesh.\n    \"\"\"\n    if set_fit:\n        # Set the camera to fit the mesh\n        camera.SetFit()\n    # Export the mesh image with the specified settings\n    image_path = image_output_path / image_name\n    graphics.ExportImage(str(image_path), image_export_format, graphics_image_export_settings)\n    # Display the exported mesh image\n    display_image(image_path)\n\n\ndef display_image(\n    image_path: str,\n    pyplot_figsize_coordinates: tuple = (16, 9),\n    plot_xticks: list = [],\n    plot_yticks: list = [],\n    plot_axis: str = \"off\",\n) -> None:\n    \"\"\"Display the image with the specified parameters.\n\n    Parameters\n    ----------\n    image_path : str\n        The path to the image file to display.\n    pyplot_figsize_coordinates : tuple\n        The size of the figure in inches (width, height).\n    plot_xticks : list\n        The x-ticks to display on the plot.\n    plot_yticks : list\n        The y-ticks to display on the plot.\n    plot_axis : str\n        The axis visibility setting ('on' or 'off').\n    \"\"\"\n    # Set the figure size based on the coordinates specified\n    plt.figure(figsize=pyplot_figsize_coordinates)\n    # Read the image from the file into an array\n    plt.imshow(mpimg.imread(image_path))\n    # Get or set the current tick locations and labels of the x-axis\n    plt.xticks(plot_xticks)\n    # Get or set the current tick locations and labels of the y-axis\n    plt.yticks(plot_yticks)\n    # Turn off the axis\n    plt.axis(plot_axis)\n    # Display the figure\n    plt.show()"
      ]
    },
    {
      "cell_type": "markdown",
      "metadata": {},
      "source": [
        "Configure the graphics for image export\n=======================================\n"
      ]
    },
    {
      "cell_type": "code",
      "execution_count": null,
      "metadata": {
        "collapsed": false
      },
      "outputs": [],
      "source": [
        "graphics = app.Graphics\ncamera = graphics.Camera\n\n# Set the camera orientation to isometric view\ncamera.SetSpecificViewOrientation(ViewOrientationType.Iso)\n\n# Set the image export format and settings\nimage_export_format = GraphicsImageExportFormat.PNG\nsettings_720p = Ansys.Mechanical.Graphics.GraphicsImageExportSettings()\nsettings_720p.Resolution = GraphicsResolutionType.EnhancedResolution\nsettings_720p.Background = GraphicsBackgroundType.White\nsettings_720p.Width = 1280\nsettings_720p.Height = 720\nsettings_720p.CurrentGraphicsDisplay = False"
      ]
    },
    {
      "cell_type": "markdown",
      "metadata": {},
      "source": [
        "Download the geometry and material files\n========================================\n"
      ]
    },
    {
      "cell_type": "code",
      "execution_count": null,
      "metadata": {
        "collapsed": false
      },
      "outputs": [],
      "source": [
        "# Download the geometry file from the ansys/example-data repository\ngeometry_path = download_file(\"sloshing_geometry.agdb\", \"pymechanical\", \"embedding\")\n# Download the water material file from the ansys/example-data repository\nmat_path = download_file(\"Water_material_explicit.xml\", \"pymechanical\", \"embedding\")"
      ]
    },
    {
      "cell_type": "markdown",
      "metadata": {},
      "source": [
        "Import and display the geometry\n===============================\n"
      ]
    },
    {
      "cell_type": "code",
      "execution_count": null,
      "metadata": {
        "collapsed": false
      },
      "outputs": [],
      "source": [
        "# Define the model\nmodel = app.Model\n\n# Add the geometry import group and set its preferences\ngeometry_import_group = model.GeometryImportGroup\ngeometry_import = geometry_import_group.AddGeometryImport()\ngeometry_import_format = Ansys.Mechanical.DataModel.Enums.GeometryImportPreference.Format.Automatic\ngeometry_import_preferences = Ansys.ACT.Mechanical.Utilities.GeometryImportPreferences()\ngeometry_import_preferences.ProcessNamedSelections = True\n\n# Import the geometry file with the specified format and preferences\ngeometry_import.Import(geometry_path, geometry_import_format, geometry_import_preferences)\n\n# Set the camera to fit the model and display the image\nset_camera_and_display_image(\n    camera, graphics, settings_720p, output_path, \"geometry.png\", set_fit=True\n)"
      ]
    },
    {
      "cell_type": "markdown",
      "metadata": {},
      "source": [
        "Store all variables necessary for analysis\n==========================================\n"
      ]
    },
    {
      "cell_type": "code",
      "execution_count": null,
      "metadata": {
        "collapsed": false
      },
      "outputs": [],
      "source": [
        "geometry = model.Geometry\nmesh = model.Mesh\nnamed_selections = model.NamedSelections\nconnections = model.Connections\nmaterials = model.Materials"
      ]
    },
    {
      "cell_type": "markdown",
      "metadata": {},
      "source": [
        "Add modal acoustic analysis and import the material\n===================================================\n"
      ]
    },
    {
      "cell_type": "code",
      "execution_count": null,
      "metadata": {
        "collapsed": false
      },
      "outputs": [],
      "source": [
        "# Add a modal acoustic analysis to the model\nmodel.AddModalAcousticAnalysis()\n# Set the unit system to Standard MKS\napp.ExtAPI.Application.ActiveUnitSystem = MechanicalUnitSystem.StandardMKS\n# Import the water material from the specified XML file\nmaterials.Import(mat_path)"
      ]
    },
    {
      "cell_type": "markdown",
      "metadata": {},
      "source": [
        "Assign material to solid bodies\n===============================\n"
      ]
    },
    {
      "cell_type": "code",
      "execution_count": null,
      "metadata": {
        "collapsed": false
      },
      "outputs": [],
      "source": [
        "def get_solid_set_material(name: str) -> None:\n    \"\"\"Get the solid body by name and assign the material.\n\n    Parameters\n    ----------\n    name : str\n        The name of the solid body to get.\n    \"\"\"\n    # Get the solid body by name\n    solid = [\n        i\n        for i in geometry.GetChildren[Ansys.ACT.Automation.Mechanical.Body](True)\n        if i.Name == name\n    ][0]\n\n    # Assign material water to acoustic parts\n    solid.Material = \"WATER\"\n\n\n# Assign material water to acoustic parts for solids 1 to 4\nfor i in range(1, 5):\n    solid_name = f\"Solid{i}\"\n    get_solid_set_material(solid_name)"
      ]
    },
    {
      "cell_type": "markdown",
      "metadata": {},
      "source": [
        "Add mesh methods and sizings\n============================\n"
      ]
    },
    {
      "cell_type": "markdown",
      "metadata": {},
      "source": [
        "Create a function to get the named selection by name\n"
      ]
    },
    {
      "cell_type": "code",
      "execution_count": null,
      "metadata": {
        "collapsed": false
      },
      "outputs": [],
      "source": [
        "def get_named_selection(name: str) -> Ansys.ACT.Automation.Mechanical.NamedSelection:\n    \"\"\"Get the named selection by name.\n\n    Parameters\n    ----------\n    name : str\n        The name of the named selection to get.\n\n    Returns\n    -------\n    Ansys.ACT.Automation.Mechanical.NamedSelection\n        The named selection object.\n    \"\"\"\n    return [\n        child\n        for child in named_selections.GetChildren[Ansys.ACT.Automation.Mechanical.NamedSelection](\n            True\n        )\n        if child.Name == name\n    ][0]"
      ]
    },
    {
      "cell_type": "markdown",
      "metadata": {},
      "source": [
        "Create a function to set the mesh properties\n"
      ]
    },
    {
      "cell_type": "code",
      "execution_count": null,
      "metadata": {
        "collapsed": false
      },
      "outputs": [],
      "source": [
        "def set_mesh_properties(\n    mesh_element,\n    named_selection,\n    method_type=None,\n    element_size=None,\n    behavior=None,\n):\n    \"\"\"Set the properties for mesh automatic methods and sizings.\n\n    Parameters\n    ----------\n    mesh_element\n        The mesh element to set properties for.\n    named_selection : Ansys.ACT.Automation.Mechanical.NamedSelection\n        The named selection to set the location for the mesh element.\n    method_type : MethodType, optional\n        The method type for the mesh (default is None).\n    element_size : Quantity, optional\n        The element size for the mesh (default is None).\n    behavior : SizingBehavior, optional\n        The sizing behavior for the mesh (default is None).\n    \"\"\"\n    mesh_element.Location = named_selection\n    if method_type:\n        mesh_element.Method = method_type\n    if element_size:\n        mesh_element.ElementSize = element_size\n    if behavior:\n        mesh_element.Behavior = behavior"
      ]
    },
    {
      "cell_type": "markdown",
      "metadata": {},
      "source": [
        "Add automatic mesh methods\n"
      ]
    },
    {
      "cell_type": "code",
      "execution_count": null,
      "metadata": {
        "collapsed": false
      },
      "outputs": [],
      "source": [
        "mesh.ElementOrder = ElementOrder.Quadratic\n\nmethod1 = mesh.AddAutomaticMethod()\nacst_bodies = get_named_selection(\"Acoustic_bodies\")\n# Set the automatic method location to the acoustic bodies and the method type to AllTriAllTet\nset_mesh_properties(method1, acst_bodies, MethodType.AllTriAllTet)\n\n# Add an automatic mesh method\nmethod2 = mesh.AddAutomaticMethod()\ntop_bodies = get_named_selection(\"top_bodies\")\n# Set the automatic method location to the top bodies and the method type to Automatic\nset_mesh_properties(method2, top_bodies, MethodType.Automatic)"
      ]
    },
    {
      "cell_type": "markdown",
      "metadata": {},
      "source": [
        "Add mesh sizing\n"
      ]
    },
    {
      "cell_type": "code",
      "execution_count": null,
      "metadata": {
        "collapsed": false
      },
      "outputs": [],
      "source": [
        "sizing1 = mesh.AddSizing()\n# Set the mesh sizing location to the top bodies, the element size to 0.2m, and\n# the sizing behavior to hard\nset_mesh_properties(\n    sizing1, top_bodies, element_size=Quantity(\"0.2 [m]\"), behavior=SizingBehavior.Hard\n)\n\nsizing2 = mesh.AddSizing()\n# Set the mesh sizing location to the acoustic bodies, the element size to 0.2m, and\n# the sizing behavior to hard\nset_mesh_properties(\n    sizing2, acst_bodies, element_size=Quantity(\"0.2 [m]\"), behavior=SizingBehavior.Hard\n)"
      ]
    },
    {
      "cell_type": "markdown",
      "metadata": {},
      "source": [
        "Add a mesh method for the container bodies\n"
      ]
    },
    {
      "cell_type": "code",
      "execution_count": null,
      "metadata": {
        "collapsed": false
      },
      "outputs": [],
      "source": [
        "# Add an automatic mesh method\nmethod3 = mesh.AddAutomaticMethod()\ncontainer_bodies = get_named_selection(\"container_bodies\")\n# Set the automatic method location to the container bodies and the method type to Sweep\nset_mesh_properties(method3, container_bodies, MethodType.Sweep)\n# Set the source target selection to 4\nmethod3.SourceTargetSelection = 4"
      ]
    },
    {
      "cell_type": "markdown",
      "metadata": {},
      "source": [
        "Generate the mesh and display the image\n"
      ]
    },
    {
      "cell_type": "code",
      "execution_count": null,
      "metadata": {
        "collapsed": false
      },
      "outputs": [],
      "source": [
        "mesh.GenerateMesh()\nset_camera_and_display_image(camera, graphics, settings_720p, output_path, \"mesh.png\")"
      ]
    },
    {
      "cell_type": "markdown",
      "metadata": {},
      "source": [
        "Set up the contact regions in the connection group\n==================================================\n"
      ]
    },
    {
      "cell_type": "markdown",
      "metadata": {},
      "source": [
        "Create a function to set the contact region properties\n"
      ]
    },
    {
      "cell_type": "code",
      "execution_count": null,
      "metadata": {
        "collapsed": false
      },
      "outputs": [],
      "source": [
        "def set_contact_region_properties(\n    contact_region,\n    source_location,\n    target_location,\n    contact_formulation=ContactFormulation.MPC,\n    contact_behavior=ContactBehavior.Asymmetric,\n    pinball_region=ContactPinballType.Radius,\n    pinball_radius=Quantity(\"0.25 [m]\"),\n    set_target_before_src=False,\n):\n    \"\"\"Set the properties for the contact region.\n\n    Parameters\n    ----------\n    contact_region : Ansys.ACT.Automation.Mechanical.ContactRegion\n        The contact region to set properties for.\n    source_location : Ansys.ACT.Automation.Mechanical.NamedSelection\n        The source location for the contact region.\n    target_location : Ansys.ACT.Automation.Mechanical.NamedSelection\n        The target location for the contact region.\n    contact_formulation : ContactFormulation, optional\n        The contact formulation for the contact region (default is MPC).\n    contact_behavior : ContactBehavior, optional\n        The contact behavior for the contact region (default is Asymmetric).\n    pinball_region : ContactPinballType, optional\n        The pinball region type for the contact region (default is Radius).\n    pinball_radius : Quantity, optional\n        The pinball radius for the contact region (default is 0.25 m).\n    set_target_before_src : bool, optional\n        Whether to set the target location before the source location (default is False).\n    \"\"\"\n    # If the target location is set before the source location\n    if set_target_before_src:\n        contact_region.TargetLocation = get_named_selection(target_location)\n        contact_region.SourceLocation = source_location\n    else:\n        contact_region.SourceLocation = get_named_selection(source_location)\n        contact_region.TargetLocation = get_named_selection(target_location)\n    contact_region.ContactFormulation = contact_formulation\n    contact_region.Behavior = contact_behavior\n    contact_region.PinballRegion = pinball_region\n    contact_region.PinballRadius = pinball_radius"
      ]
    },
    {
      "cell_type": "markdown",
      "metadata": {},
      "source": [
        "Add contact regions and set their properties\n"
      ]
    },
    {
      "cell_type": "code",
      "execution_count": null,
      "metadata": {
        "collapsed": false
      },
      "outputs": [],
      "source": [
        "# Add a connection group to the model\nconnection_group = connections.AddConnectionGroup()\n\n# Add the first contact region to the connection group\ncontact_region_1 = connection_group.AddContactRegion()\n# Set the source location to the Cont_V1 named selection and the target location to the Cont_face1\n# named selection\nset_contact_region_properties(contact_region_1, \"Cont_V1\", \"Cont_face1\")\n\n# Add the second contact region to the connection group\ncontact_region_2 = connection_group.AddContactRegion()\n# Set the source location to the Cont_V2 named selection and the target location to the Cont_face2\n# named selection\nset_contact_region_properties(contact_region_2, \"Cont_V2\", \"Cont_face2\")\n\n# Add the third contact region to the connection group\ncontact_region_3 = connection_group.AddContactRegion()\n# Set the source location to the Cont_V3 named selection and the target location to the Cont_face3\n# named selection\nset_contact_region_properties(contact_region_3, \"Cont_V3\", \"Cont_face3\")\n\n# Set the selection manager\nsel_manager = app.ExtAPI.SelectionManager\n# Get the contact vertex from the geometry\ncontact_vertex = DataModel.GeoData.Assemblies[0].Parts[1].Bodies[0].Vertices[3]\n# Create a selection info object for the contact vertex\ncontact_vertex_4 = sel_manager.CreateSelectionInfo(SelectionTypeEnum.GeometryEntities)\n# Set the contact vertex as the selected entity\ncontact_vertex_4.Entities = [contact_vertex]\n\n# Add the fourth contact region to the connection group\ncontact_region_4 = connection_group.AddContactRegion()\n# Set the target location to the contact vertex and the source location to the Cont_face4\n# named selection\nset_contact_region_properties(\n    contact_region_4, contact_vertex_4, \"Cont_face4\", set_target_before_src=True\n)"
      ]
    },
    {
      "cell_type": "markdown",
      "metadata": {},
      "source": [
        "Fully define the modal multiphysics region with two physics regions\n"
      ]
    },
    {
      "cell_type": "code",
      "execution_count": null,
      "metadata": {
        "collapsed": false
      },
      "outputs": [],
      "source": [
        "# Get the modal acoustic analysis object\nmodal_acst = DataModel.Project.Model.Analyses[0]\n# Get the acoustic region from the modal acoustic analysis\nacoustic_region = modal_acst.Children[2]\n# Set the acoustic region to the acoustic bodies named selection\nacoustic_region.Location = acst_bodies\n\n# Add a physics region to the modal acoustic analysis\nstructural_region = modal_acst.AddPhysicsRegion()\n# Set the physics region to structural and rename it based on the definition\nstructural_region.Structural = True\nstructural_region.RenameBasedOnDefinition()\n# Set the structural region to the structural bodies named selection\nstructural_region.Location = get_named_selection(\"Structural_bodies\")"
      ]
    },
    {
      "cell_type": "markdown",
      "metadata": {},
      "source": [
        "Set up the analysis settings\n============================\n"
      ]
    },
    {
      "cell_type": "code",
      "execution_count": null,
      "metadata": {
        "collapsed": false
      },
      "outputs": [],
      "source": [
        "# Get the analysis settings from the modal acoustic analysis\nanalysis_settings = modal_acst.Children[1]\n# Set the analysis settings properties\nanalysis_settings.MaximumModesToFind = 12\nanalysis_settings.SearchRangeMinimum = Quantity(\"0.1 [Hz]\")\nanalysis_settings.SolverType = SolverType.Unsymmetric\nanalysis_settings.GeneralMiscellaneous = True\nanalysis_settings.CalculateReactions = True"
      ]
    },
    {
      "cell_type": "markdown",
      "metadata": {},
      "source": [
        "Set the boundary conditions and load\n====================================\n"
      ]
    },
    {
      "cell_type": "code",
      "execution_count": null,
      "metadata": {
        "collapsed": false
      },
      "outputs": [],
      "source": [
        "# Add an acoustic free surface to the modal acoustic analysis\nfree_surface = modal_acst.AddAcousticFreeSurface()\n# Set the free surface location to the free faces named selection\nfree_surface.Location = get_named_selection(\"Free_faces\")"
      ]
    },
    {
      "cell_type": "markdown",
      "metadata": {},
      "source": [
        "Add the solid fluid interface\n"
      ]
    },
    {
      "cell_type": "code",
      "execution_count": null,
      "metadata": {
        "collapsed": false
      },
      "outputs": [],
      "source": [
        "# Add a fluid solid interface to the modal acoustic analysis\nfsi_object = modal_acst.AddFluidSolidInterface()\n# Set the fluid solid interface location to the FSI faces named selection\nfsi_object.Location = get_named_selection(\"FSI_faces\")"
      ]
    },
    {
      "cell_type": "markdown",
      "metadata": {},
      "source": [
        "Add the gravity load\n"
      ]
    },
    {
      "cell_type": "code",
      "execution_count": null,
      "metadata": {
        "collapsed": false
      },
      "outputs": [],
      "source": [
        "# Add gravity to the modal acoustic analysis\nacceleration = modal_acst.AddAcceleration()\n# Set the components and the Y-component of the acceleration to\n# 9.81 m/s^2 (gravitational acceleration)\nacceleration.DefineBy = LoadDefineBy.Components\nacceleration.YComponent.Output.DiscreteValues = [Quantity(\"9.81 [m sec^-1 sec^-1]\")]"
      ]
    },
    {
      "cell_type": "markdown",
      "metadata": {},
      "source": [
        "Add fixed support\n"
      ]
    },
    {
      "cell_type": "code",
      "execution_count": null,
      "metadata": {
        "collapsed": false
      },
      "outputs": [],
      "source": [
        "# Get vertices from the geometry\nvertices = []\nfor body in range(0, 4):\n    vertices.append(DataModel.GeoData.Assemblies[0].Parts[1].Bodies[body].Vertices[0])\n\n# Create a selection info object for the geometry entities\nfvert = sel_manager.CreateSelectionInfo(SelectionTypeEnum.GeometryEntities)\n# Set the list of vertices as the geometry entities\nfvert.Entities = vertices\n\n# Add a fixed support to the modal acoustic analysis\nfixed_support = modal_acst.AddFixedSupport()\n# Set the location of the fixed support to the geometry entities\nfixed_support.Location = fvert\n\n# Activate the modal acoustic analysis and display the image\nmodal_acst.Activate()\nset_camera_and_display_image(camera, graphics, settings_720p, output_path, \"geometry.png\")"
      ]
    },
    {
      "cell_type": "markdown",
      "metadata": {},
      "source": [
        "Add results to the solution\n===========================\n"
      ]
    },
    {
      "cell_type": "code",
      "execution_count": null,
      "metadata": {
        "collapsed": false
      },
      "outputs": [],
      "source": [
        "# Get the solution object from the modal acoustic analysis\nsolution = model.Analyses[0].Solution\n\n# Add 10 total deformation results, setting the mode for every result except the first\ntotal_deformation_results = []\nfor mode in range(1, 11):\n    total_deformation = solution.AddTotalDeformation()\n    if mode > 1:\n        total_deformation.Mode = mode\n    total_deformation_results.append(total_deformation)"
      ]
    },
    {
      "cell_type": "markdown",
      "metadata": {},
      "source": [
        "Add the acoustic pressure result to the solution\n"
      ]
    },
    {
      "cell_type": "code",
      "execution_count": null,
      "metadata": {
        "collapsed": false
      },
      "outputs": [],
      "source": [
        "acoustic_pressure_result = solution.AddAcousticPressureResult()"
      ]
    },
    {
      "cell_type": "markdown",
      "metadata": {},
      "source": [
        "Scope the force reaction to the fixed support\n"
      ]
    },
    {
      "cell_type": "code",
      "execution_count": null,
      "metadata": {
        "collapsed": false
      },
      "outputs": [],
      "source": [
        "# Add a force reaction to the solution\nforce_reaction_1 = solution.AddForceReaction()\n# Set the boundary condition selection to the fixed support\nforce_reaction_1.BoundaryConditionSelection = fixed_support"
      ]
    },
    {
      "cell_type": "markdown",
      "metadata": {},
      "source": [
        "Solve the solution\n==================\n"
      ]
    },
    {
      "cell_type": "code",
      "execution_count": null,
      "metadata": {
        "collapsed": false
      },
      "outputs": [],
      "source": [
        "solution.Solve(True)"
      ]
    },
    {
      "cell_type": "markdown",
      "metadata": {},
      "source": [
        "Show messages\n=============\n"
      ]
    },
    {
      "cell_type": "code",
      "execution_count": null,
      "metadata": {
        "collapsed": false
      },
      "outputs": [],
      "source": [
        "# Print all messages from Mechanical\napp.messages.show()"
      ]
    },
    {
      "cell_type": "markdown",
      "metadata": {},
      "source": [
        "Display the results\n===================\n"
      ]
    },
    {
      "cell_type": "markdown",
      "metadata": {},
      "source": [
        "Activate the first total deformation result and display the image\n"
      ]
    },
    {
      "cell_type": "code",
      "execution_count": null,
      "metadata": {
        "collapsed": false
      },
      "outputs": [],
      "source": [
        "app.Tree.Activate([total_deformation_results[0]])\nset_camera_and_display_image(\n    camera, graphics, settings_720p, output_path, \"total_deformation.png\", set_fit=True\n)"
      ]
    },
    {
      "cell_type": "markdown",
      "metadata": {},
      "source": [
        "Activate the acoustic pressure result and display the image\n"
      ]
    },
    {
      "cell_type": "code",
      "execution_count": null,
      "metadata": {
        "collapsed": false
      },
      "outputs": [],
      "source": [
        "app.Tree.Activate([acoustic_pressure_result])\nset_camera_and_display_image(camera, graphics, settings_720p, output_path, \"acoustic_pressure.png\")"
      ]
    },
    {
      "cell_type": "markdown",
      "metadata": {},
      "source": [
        "Display all modal frequency, force reaction, and acoustic pressure\nvalues\n"
      ]
    },
    {
      "cell_type": "code",
      "execution_count": null,
      "metadata": {
        "collapsed": false
      },
      "outputs": [],
      "source": [
        "print(\"Modal Acoustic Results\")\nprint(\"----------------------\")\n\n# Print the frequency values for each mode\nfor index, result in enumerate(total_deformation_results, start=1):\n    frequency_value = result.ReportedFrequency.Value\n    print(f\"Frequency for mode {index}: \", frequency_value)\n\n# Get the maximum and minimum values of the acoustic pressure result\npressure_result_max = acoustic_pressure_result.Maximum.Value\npressure_result_min = acoustic_pressure_result.Minimum.Value\n\n# Get the force reaction values for the x and z axes\nforce_reaction_1_x = force_reaction_1.XAxis.Value\nforce_reaction_1_z = force_reaction_1.ZAxis.Value\n\n# Print the results\nprint(\"Acoustic pressure minimum : \", pressure_result_min)\nprint(\"Acoustic pressure Maximum : \", pressure_result_max)\nprint(\"Force reaction x-axis : \", force_reaction_1_x)\nprint(\"Force reaction z-axis : \", force_reaction_1_z)"
      ]
    },
    {
      "cell_type": "markdown",
      "metadata": {},
      "source": [
        "Create a function to update the animation frames\n"
      ]
    },
    {
      "cell_type": "code",
      "execution_count": null,
      "metadata": {
        "collapsed": false
      },
      "outputs": [],
      "source": [
        "def update_animation(frame: int) -> list[mpimg.AxesImage]:\n    \"\"\"Update the animation frame for the GIF.\n\n    Parameters\n    ----------\n    frame : int\n        The frame number to update the animation.\n\n    Returns\n    -------\n    list[mpimg.AxesImage]\n        A list containing the updated image for the animation.\n    \"\"\"\n    # Seeks to the given frame in this sequence file\n    gif.seek(frame)\n    # Set the image array to the current frame of the GIF\n    image.set_data(gif.convert(\"RGBA\"))\n    # Return the updated image\n    return [image]"
      ]
    },
    {
      "cell_type": "markdown",
      "metadata": {},
      "source": [
        "Play the total deformation animation\n"
      ]
    },
    {
      "cell_type": "code",
      "execution_count": null,
      "metadata": {
        "collapsed": false
      },
      "outputs": [],
      "source": [
        "# Set the animation export format to GIF\nanimation_export_format = Ansys.Mechanical.DataModel.Enums.GraphicsAnimationExportFormat.GIF\n\n# Set the export settings for the animation\nsettings_720p = Ansys.Mechanical.Graphics.AnimationExportSettings()\nsettings_720p.Width = 1280\nsettings_720p.Height = 720\n\n# Export the total deformation animation for the last result\ndeformation_gif = output_path / f\"total_deformation_{len(total_deformation_results)}.gif\"\ntotal_deformation_results[-1].ExportAnimation(\n    str(deformation_gif), animation_export_format, settings_720p\n)\n\n# Open the GIF file and create an animation\ngif = Image.open(deformation_gif)\n# Set the subplots for the animation and turn off the axis\nfigure, axes = plt.subplots(figsize=(16, 9))\naxes.axis(\"off\")\n# Change the color of the image\nimage = axes.imshow(gif.convert(\"RGBA\"))\n\n# Create the animation using the figure, update_animation function, and the GIF frames\n# Set the interval between frames to 200 milliseconds and repeat the animation\nFuncAnimation(\n    figure,\n    update_animation,\n    frames=range(gif.n_frames),\n    interval=100,\n    repeat=True,\n    blit=True,\n)\n\n# Show the animation\nplt.show()"
      ]
    },
    {
      "cell_type": "markdown",
      "metadata": {},
      "source": [
        "Print the project tree\n======================\n"
      ]
    },
    {
      "cell_type": "code",
      "execution_count": null,
      "metadata": {
        "collapsed": false
      },
      "outputs": [],
      "source": [
        "app.print_tree()"
      ]
    },
    {
      "cell_type": "markdown",
      "metadata": {},
      "source": [
        "Clean up the project\n====================\n"
      ]
    },
    {
      "cell_type": "code",
      "execution_count": null,
      "metadata": {
        "collapsed": false
      },
      "outputs": [],
      "source": [
        "# Save the project file\nmechdat_file = output_path / \"modal_acoustics.mechdat\"\napp.save(str(mechdat_file))\n\n# Close the app\napp.close()\n\n# Delete the example files\ndelete_downloads()"
      ]
    }
  ],
  "metadata": {
    "kernelspec": {
      "display_name": "Python 3",
      "language": "python",
      "name": "python3"
    },
    "language_info": {
      "codemirror_mode": {
        "name": "ipython",
        "version": 3
      },
      "file_extension": ".py",
      "mimetype": "text/x-python",
      "name": "python",
      "nbconvert_exporter": "python",
      "pygments_lexer": "ipython3",
      "version": "3.12.11"
    }
  },
  "nbformat": 4,
  "nbformat_minor": 0
}