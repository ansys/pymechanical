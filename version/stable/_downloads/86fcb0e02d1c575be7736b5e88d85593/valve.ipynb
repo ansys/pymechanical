{
  "cells": [
    {
      "cell_type": "markdown",
      "metadata": {},
      "source": [
        "Basic valve implementation {#ref_basic_valve}\n==========================\n\nThis example demonstrates a basic implementation of a valve in Python.\n"
      ]
    },
    {
      "cell_type": "markdown",
      "metadata": {},
      "source": [
        "Import the necessary libraries\n==============================\n"
      ]
    },
    {
      "cell_type": "code",
      "execution_count": null,
      "metadata": {
        "collapsed": false
      },
      "outputs": [],
      "source": [
        "from pathlib import Path\nfrom typing import TYPE_CHECKING\n\nfrom matplotlib import image as mpimg, pyplot as plt\nfrom matplotlib.animation import FuncAnimation\nfrom PIL import Image\n\nfrom ansys.mechanical.core import App\nfrom ansys.mechanical.core.examples import delete_downloads, download_file\n\nif TYPE_CHECKING:\n    import Ansys"
      ]
    },
    {
      "cell_type": "markdown",
      "metadata": {},
      "source": [
        "Initialize the embedded application\n===================================\n"
      ]
    },
    {
      "cell_type": "code",
      "execution_count": null,
      "metadata": {
        "collapsed": false
      },
      "outputs": [],
      "source": [
        "app = App(globals=globals())\nprint(app)"
      ]
    },
    {
      "cell_type": "markdown",
      "metadata": {},
      "source": [
        "Create functions to set camera and display images\n=================================================\n"
      ]
    },
    {
      "cell_type": "code",
      "execution_count": null,
      "metadata": {
        "collapsed": false
      },
      "outputs": [],
      "source": [
        "# Set the path for the output files (images, gifs, mechdat)\noutput_path = Path.cwd() / \"out\"\n\n\ndef set_camera_and_display_image(\n    camera,\n    graphics,\n    graphics_image_export_settings,\n    image_output_path: Path,\n    image_name: str,\n) -> None:\n    \"\"\"Set the camera to fit the model and display the image.\n\n    Parameters\n    ----------\n    camera : Ansys.ACT.Common.Graphics.MechanicalCameraWrapper\n        The camera object to set the view.\n    graphics : Ansys.ACT.Common.Graphics.MechanicalGraphicsWrapper\n        The graphics object to export the image.\n    graphics_image_export_settings : Ansys.Mechanical.Graphics.GraphicsImageExportSettings\n        The settings for exporting the image.\n    image_output_path : Path\n        The path to save the exported image.\n    image_name : str\n        The name of the exported image file.\n    \"\"\"\n    # Set the camera to fit the mesh\n    camera.SetFit()\n    # Export the mesh image with the specified settings\n    image_path = image_output_path / image_name\n    graphics.ExportImage(str(image_path), image_export_format, graphics_image_export_settings)\n    # Display the exported mesh image\n    display_image(image_path)\n\n\ndef display_image(\n    image_path: str,\n    pyplot_figsize_coordinates: tuple = (16, 9),\n    plot_xticks: list = [],\n    plot_yticks: list = [],\n    plot_axis: str = \"off\",\n) -> None:\n    \"\"\"Display the image with the specified parameters.\n\n    Parameters\n    ----------\n    image_path : str\n        The path to the image file to display.\n    pyplot_figsize_coordinates : tuple\n        The size of the figure in inches (width, height).\n    plot_xticks : list\n        The x-ticks to display on the plot.\n    plot_yticks : list\n        The y-ticks to display on the plot.\n    plot_axis : str\n        The axis visibility setting ('on' or 'off').\n    \"\"\"\n    # Set the figure size based on the coordinates specified\n    plt.figure(figsize=pyplot_figsize_coordinates)\n    # Read the image from the file into an array\n    plt.imshow(mpimg.imread(image_path))\n    # Get or set the current tick locations and labels of the x-axis\n    plt.xticks(plot_xticks)\n    # Get or set the current tick locations and labels of the y-axis\n    plt.yticks(plot_yticks)\n    # Turn off the axis\n    plt.axis(plot_axis)\n    # Display the figure\n    plt.show()"
      ]
    },
    {
      "cell_type": "markdown",
      "metadata": {},
      "source": [
        "Configure graphics for image export\n===================================\n"
      ]
    },
    {
      "cell_type": "code",
      "execution_count": null,
      "metadata": {
        "collapsed": false
      },
      "outputs": [],
      "source": [
        "graphics = app.Graphics\ncamera = graphics.Camera\n\n# Set the camera orientation to the isometric view\ncamera.SetSpecificViewOrientation(ViewOrientationType.Iso)\n\n# Set the image export format and settings\nimage_export_format = GraphicsImageExportFormat.PNG\nsettings_720p = Ansys.Mechanical.Graphics.GraphicsImageExportSettings()\nsettings_720p.Resolution = GraphicsResolutionType.EnhancedResolution\nsettings_720p.Background = GraphicsBackgroundType.White\nsettings_720p.Width = 1280\nsettings_720p.Height = 720\nsettings_720p.CurrentGraphicsDisplay = False"
      ]
    },
    {
      "cell_type": "markdown",
      "metadata": {},
      "source": [
        "Download and import the geometry file\n=====================================\n"
      ]
    },
    {
      "cell_type": "code",
      "execution_count": null,
      "metadata": {
        "collapsed": false
      },
      "outputs": [],
      "source": [
        "# Download the geometry file\ngeometry_path = download_file(\"Valve.pmdb\", \"pymechanical\", \"embedding\")"
      ]
    },
    {
      "cell_type": "markdown",
      "metadata": {},
      "source": [
        "Import the geometry\n"
      ]
    },
    {
      "cell_type": "code",
      "execution_count": null,
      "metadata": {
        "collapsed": false
      },
      "outputs": [],
      "source": [
        "# Define the model\nmodel = app.Model\n\n# Add a geometry import to the geometry import group\ngeometry_import = model.GeometryImportGroup.AddGeometryImport()\n\n# Set the geometry import settings\ngeometry_import_format = Ansys.Mechanical.DataModel.Enums.GeometryImportPreference.Format.Automatic\ngeometry_import_preferences = Ansys.ACT.Mechanical.Utilities.GeometryImportPreferences()\ngeometry_import_preferences.ProcessNamedSelections = True\n\n# Import the geometry file with the specified settings\ngeometry_import.Import(geometry_path, geometry_import_format, geometry_import_preferences)\n\n# Visualize the model in 3D\napp.plot()"
      ]
    },
    {
      "cell_type": "markdown",
      "metadata": {},
      "source": [
        "Assign the materials and mesh the geometry\n==========================================\n"
      ]
    },
    {
      "cell_type": "code",
      "execution_count": null,
      "metadata": {
        "collapsed": false
      },
      "outputs": [],
      "source": [
        "# Add the material assignment to the model materials\nmaterial_assignment = model.Materials.AddMaterialAssignment()\n\n# Set the material to structural steel\nmaterial_assignment.Material = \"Structural Steel\"\n\n# Create selection information for the geometry entities\nselection_info = app.ExtAPI.SelectionManager.CreateSelectionInfo(\n    Ansys.ACT.Interfaces.Common.SelectionTypeEnum.GeometryEntities\n)\n\n# Get the geometric bodies from the model and add their IDs to the selection info IDs list\nselection_info.Ids = [\n    body.GetGeoBody().Id\n    for body in model.Geometry.GetChildren(\n        Ansys.Mechanical.DataModel.Enums.DataModelObjectCategory.Body, True\n    )\n]\n# Set the material assignment location to the selected geometry entities\nmaterial_assignment.Location = selection_info"
      ]
    },
    {
      "cell_type": "markdown",
      "metadata": {},
      "source": [
        "Define the mesh settings and generate the mesh\n"
      ]
    },
    {
      "cell_type": "code",
      "execution_count": null,
      "metadata": {
        "collapsed": false
      },
      "outputs": [],
      "source": [
        "# Define the mesh\nmesh = model.Mesh\n# Set the mesh element size to 25mm\nmesh.ElementSize = Quantity(25, \"mm\")\n\n# Generate the mesh\nmesh.GenerateMesh()\n\n# Activate the mesh and display the image\napp.Tree.Activate([mesh])\nset_camera_and_display_image(camera, graphics, settings_720p, output_path, \"mesh.png\")"
      ]
    },
    {
      "cell_type": "markdown",
      "metadata": {},
      "source": [
        "Add a static structural analysis and apply boundary conditions\n==============================================================\n"
      ]
    },
    {
      "cell_type": "code",
      "execution_count": null,
      "metadata": {
        "collapsed": false
      },
      "outputs": [],
      "source": [
        "# Add a static structural analysis to the model\nanalysis = model.AddStaticStructuralAnalysis()\n\n# Add a fixed support to the analysis\nfixed_support = analysis.AddFixedSupport()\n# Set the fixed support location to the \"NSFixedSupportFaces\" object\nfixed_support.Location = app.ExtAPI.DataModel.GetObjectsByName(\"NSFixedSupportFaces\")[0]\n\n# Add a frictionless support to the analysis\nfrictionless_support = analysis.AddFrictionlessSupport()\n# Set the frictionless support location to the \"NSFrictionlessSupportFaces\" object\nfrictionless_support.Location = app.ExtAPI.DataModel.GetObjectsByName(\"NSFrictionlessSupportFaces\")[\n    0\n]\n\n# Add pressure to the analysis\npressure = analysis.AddPressure()\n# Set the pressure location to the \"NSInsideFaces\" object\npressure.Location = app.ExtAPI.DataModel.GetObjectsByName(\"NSInsideFaces\")[0]\n\n# Set the pressure magnitude's input and output values\npressure.Magnitude.Inputs[0].DiscreteValues = [Quantity(\"0 [s]\"), Quantity(\"1 [s]\")]\npressure.Magnitude.Output.DiscreteValues = [Quantity(\"0 [Pa]\"), Quantity(\"15 [MPa]\")]\n\n# Activate the analysis and display the image\nanalysis.Activate()\nset_camera_and_display_image(\n    camera, graphics, settings_720p, output_path, \"boundary_conditions.png\"\n)"
      ]
    },
    {
      "cell_type": "markdown",
      "metadata": {},
      "source": [
        "Add results to the analysis solution\n"
      ]
    },
    {
      "cell_type": "code",
      "execution_count": null,
      "metadata": {
        "collapsed": false
      },
      "outputs": [],
      "source": [
        "# Define the solution for the analysis\nsolution = analysis.Solution\n\n# Add the total deformation and equivalent stress results to the solution\ndeformation = solution.AddTotalDeformation()\nstress = solution.AddEquivalentStress()"
      ]
    },
    {
      "cell_type": "markdown",
      "metadata": {},
      "source": [
        "Solve the solution\n==================\n"
      ]
    },
    {
      "cell_type": "code",
      "execution_count": null,
      "metadata": {
        "collapsed": false
      },
      "outputs": [],
      "source": [
        "solution.Solve(True)"
      ]
    },
    {
      "cell_type": "markdown",
      "metadata": {},
      "source": [
        "Show messages\n=============\n"
      ]
    },
    {
      "cell_type": "code",
      "execution_count": null,
      "metadata": {
        "collapsed": false
      },
      "outputs": [],
      "source": [
        "# Print all messages from Mechanical\napp.messages.show()"
      ]
    },
    {
      "cell_type": "markdown",
      "metadata": {},
      "source": [
        "Display the results\n===================\n"
      ]
    },
    {
      "cell_type": "markdown",
      "metadata": {},
      "source": [
        "Show the total deformation image\n"
      ]
    },
    {
      "cell_type": "code",
      "execution_count": null,
      "metadata": {
        "collapsed": false
      },
      "outputs": [],
      "source": [
        "# Activate the total deformation result and display the image\napp.Tree.Activate([deformation])\nset_camera_and_display_image(\n    camera, graphics, settings_720p, output_path, \"total_deformation_valve.png\"\n)"
      ]
    },
    {
      "cell_type": "markdown",
      "metadata": {},
      "source": [
        "Show the equivalent stress image\n"
      ]
    },
    {
      "cell_type": "code",
      "execution_count": null,
      "metadata": {
        "collapsed": false
      },
      "outputs": [],
      "source": [
        "# Activate the equivalent stress result and display the image\napp.Tree.Activate([stress])\nset_camera_and_display_image(camera, graphics, settings_720p, output_path, \"stress_valve.png\")"
      ]
    },
    {
      "cell_type": "markdown",
      "metadata": {},
      "source": [
        "Create a function to update the animation frames\n"
      ]
    },
    {
      "cell_type": "code",
      "execution_count": null,
      "metadata": {
        "collapsed": false
      },
      "outputs": [],
      "source": [
        "def update_animation(frame: int) -> list[mpimg.AxesImage]:\n    \"\"\"Update the animation frame for the GIF.\n\n    Parameters\n    ----------\n    frame : int\n        The frame number to update the animation.\n\n    Returns\n    -------\n    list[mpimg.AxesImage]\n        A list containing the updated image for the animation.\n    \"\"\"\n    # Seeks to the given frame in this sequence file\n    gif.seek(frame)\n    # Set the image array to the current frame of the GIF\n    image.set_data(gif.convert(\"RGBA\"))\n    # Return the updated image\n    return [image]"
      ]
    },
    {
      "cell_type": "markdown",
      "metadata": {},
      "source": [
        "Export the stress animation\n"
      ]
    },
    {
      "cell_type": "code",
      "execution_count": null,
      "metadata": {
        "collapsed": false
      },
      "outputs": [],
      "source": [
        "# Set the animation export format and settings\nanimation_export_format = Ansys.Mechanical.DataModel.Enums.GraphicsAnimationExportFormat.GIF\nsettings_720p = Ansys.Mechanical.Graphics.AnimationExportSettings()\nsettings_720p.Width = 1280\nsettings_720p.Height = 720\n\n# Export the animation of the equivalent stress result\nvalve_gif = output_path / \"valve.gif\"\nstress.ExportAnimation(str(valve_gif), animation_export_format, settings_720p)\n\n# Open the GIF file and create an animation\ngif = Image.open(valve_gif)\n# Set the subplots for the animation and turn off the axis\nfigure, axes = plt.subplots(figsize=(16, 9))\naxes.axis(\"off\")\n# Change the color of the image\nimage = axes.imshow(gif.convert(\"RGBA\"))\n\n# Create the animation using the figure, update_animation function, and the GIF frames\n# Set the interval between frames to 200 milliseconds and repeat the animation\nFuncAnimation(\n    figure,\n    update_animation,\n    frames=range(gif.n_frames),\n    interval=100,\n    repeat=True,\n    blit=True,\n)\n\n# Show the animation\nplt.show()"
      ]
    },
    {
      "cell_type": "markdown",
      "metadata": {},
      "source": [
        "Display the output file from the solve\n======================================\n"
      ]
    },
    {
      "cell_type": "code",
      "execution_count": null,
      "metadata": {
        "collapsed": false
      },
      "outputs": [],
      "source": [
        "# Get the path to the solve output file\nsolve_path = analysis.WorkingDir\n# Get the solve output file path\nsolve_out_path = solve_path + \"solve.out\"\n# If the solve output file exists, print its contents\nif solve_out_path:\n    with Path.open(solve_out_path, \"rt\") as file:\n        for line in file:\n            print(line, end=\"\")"
      ]
    },
    {
      "cell_type": "markdown",
      "metadata": {},
      "source": [
        "Print the project tree\n======================\n"
      ]
    },
    {
      "cell_type": "code",
      "execution_count": null,
      "metadata": {
        "collapsed": false
      },
      "outputs": [],
      "source": [
        "app.print_tree()"
      ]
    },
    {
      "cell_type": "markdown",
      "metadata": {},
      "source": [
        "Clean up the project\n====================\n"
      ]
    },
    {
      "cell_type": "code",
      "execution_count": null,
      "metadata": {
        "collapsed": false
      },
      "outputs": [],
      "source": [
        "# Save the project\nmechdat_file = output_path / \"valve.mechdat\"\napp.save(str(mechdat_file))\n\n# Close the app\napp.close()\n\n# Delete the example files\ndelete_downloads()"
      ]
    }
  ],
  "metadata": {
    "kernelspec": {
      "display_name": "Python 3",
      "language": "python",
      "name": "python3"
    },
    "language_info": {
      "codemirror_mode": {
        "name": "ipython",
        "version": 3
      },
      "file_extension": ".py",
      "mimetype": "text/x-python",
      "name": "python",
      "nbconvert_exporter": "python",
      "pygments_lexer": "ipython3",
      "version": "3.12.12"
    }
  },
  "nbformat": 4,
  "nbformat_minor": 0
}