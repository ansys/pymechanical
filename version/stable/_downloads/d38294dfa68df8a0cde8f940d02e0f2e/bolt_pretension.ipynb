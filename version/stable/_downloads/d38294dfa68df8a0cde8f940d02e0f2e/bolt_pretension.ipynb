{
  "cells": [
    {
      "cell_type": "markdown",
      "metadata": {},
      "source": [
        "Bolt pretension {#ref_bolt_pretension}\n===============\n\nThis example demonstrates how to insert a Static Structural analysis\ninto a new Mechanical session and execute a sequence of Python scripting\ncommands that define and solve a bolt-pretension analysis. Scripts then\nevaluate the following results: deformation, equivalent stresses,\ncontact, and bolt.\n"
      ]
    },
    {
      "cell_type": "markdown",
      "metadata": {},
      "source": [
        "Import the necessary libraries\n==============================\n"
      ]
    },
    {
      "cell_type": "code",
      "execution_count": null,
      "metadata": {
        "collapsed": false
      },
      "outputs": [],
      "source": [
        "from pathlib import Path\nimport typing\n\nfrom matplotlib import image as mpimg, pyplot as plt\nfrom matplotlib.animation import FuncAnimation\nfrom PIL import Image\n\nfrom ansys.mechanical.core import App\nfrom ansys.mechanical.core.examples import delete_downloads, download_file"
      ]
    },
    {
      "cell_type": "markdown",
      "metadata": {},
      "source": [
        "Initialize the embedded application\n===================================\n"
      ]
    },
    {
      "cell_type": "code",
      "execution_count": null,
      "metadata": {
        "collapsed": false
      },
      "outputs": [],
      "source": [
        "app = App()\nprint(app)\n\n# Import the enums and global variables instead of using app.update_globals(globals())\n# or App(globals=globals())\nfrom ansys.mechanical.core.embedding.enum_importer import *  # noqa: F403\nfrom ansys.mechanical.core.embedding.global_importer import Quantity\nfrom ansys.mechanical.core.embedding.transaction import Transaction"
      ]
    },
    {
      "cell_type": "markdown",
      "metadata": {},
      "source": [
        "Configure graphics for image export\n===================================\n"
      ]
    },
    {
      "cell_type": "code",
      "execution_count": null,
      "metadata": {
        "collapsed": false
      },
      "outputs": [],
      "source": [
        "# Set camera orientation\ngraphics = app.Graphics\ncamera = graphics.Camera\ncamera.SetSpecificViewOrientation(ViewOrientationType.Iso)\ncamera.SetFit()\ncamera.Rotate(180, CameraAxisType.ScreenY)\n\n# Set camera settings for 720p resolution\ngraphics_image_export_settings = Ansys.Mechanical.Graphics.GraphicsImageExportSettings()\ngraphics_image_export_settings.Resolution = GraphicsResolutionType.EnhancedResolution\ngraphics_image_export_settings.Background = GraphicsBackgroundType.White\ngraphics_image_export_settings.CurrentGraphicsDisplay = False\ngraphics_image_export_settings.Width = 1280\ngraphics_image_export_settings.Height = 720"
      ]
    },
    {
      "cell_type": "markdown",
      "metadata": {},
      "source": [
        "Set the geometry import group for the model\n===========================================\n"
      ]
    },
    {
      "cell_type": "code",
      "execution_count": null,
      "metadata": {
        "collapsed": false
      },
      "outputs": [],
      "source": [
        "# Set the model\nmodel = app.Model\n\n# Create a geometry import group for the model\ngeometry_import_group = model.GeometryImportGroup\n# Add the geometry import to the group\ngeometry_import = geometry_import_group.AddGeometryImport()\n# Set the geometry import format\ngeometry_import_format = Ansys.Mechanical.DataModel.Enums.GeometryImportPreference.Format.Automatic\n# Set the geometry import preferences\ngeometry_import_preferences = Ansys.ACT.Mechanical.Utilities.GeometryImportPreferences()\ngeometry_import_preferences.ProcessNamedSelections = True"
      ]
    },
    {
      "cell_type": "markdown",
      "metadata": {},
      "source": [
        "Download and import the geometry\n================================\n"
      ]
    },
    {
      "cell_type": "code",
      "execution_count": null,
      "metadata": {
        "collapsed": false
      },
      "outputs": [],
      "source": [
        "# Download the geometry file from the ansys/example-data repository\ngeometry_path = download_file(\"example_06_bolt_pret_geom.agdb\", \"pymechanical\", \"00_basic\")\n\n# Import/reload the geometry from the CAD (.agdb) file using the provided preferences\ngeometry_import.Import(geometry_path, geometry_import_format, geometry_import_preferences)\n\n\n# Visualize the model in 3D\napp.plot()"
      ]
    },
    {
      "cell_type": "markdown",
      "metadata": {},
      "source": [
        "Download and import the materials\n=================================\n"
      ]
    },
    {
      "cell_type": "markdown",
      "metadata": {},
      "source": [
        "Download the material files from the ansys/example-data repository\n"
      ]
    },
    {
      "cell_type": "code",
      "execution_count": null,
      "metadata": {
        "collapsed": false
      },
      "outputs": [],
      "source": [
        "copper_material_file_path = download_file(\"example_06_Mat_Copper.xml\", \"pymechanical\", \"00_basic\")\nsteel_material_file_path = download_file(\"example_06_Mat_Steel.xml\", \"pymechanical\", \"00_basic\")"
      ]
    },
    {
      "cell_type": "markdown",
      "metadata": {},
      "source": [
        "Add materials to the model and import the material files\n"
      ]
    },
    {
      "cell_type": "code",
      "execution_count": null,
      "metadata": {
        "collapsed": false
      },
      "outputs": [],
      "source": [
        "model_materials = model.Materials\nmodel_materials.Import(copper_material_file_path)\nmodel_materials.Import(steel_material_file_path)"
      ]
    },
    {
      "cell_type": "markdown",
      "metadata": {},
      "source": [
        "Define analysis and unit system\n===============================\n"
      ]
    },
    {
      "cell_type": "markdown",
      "metadata": {},
      "source": [
        "Add static structural analysis to the model\n"
      ]
    },
    {
      "cell_type": "code",
      "execution_count": null,
      "metadata": {
        "collapsed": false
      },
      "outputs": [],
      "source": [
        "model.AddStaticStructuralAnalysis()\nstatic_structural = model.Analyses[0]\nstatic_structural_solution = static_structural.Solution\nstatic_structural_analysis_setting = static_structural.Children[0]"
      ]
    },
    {
      "cell_type": "markdown",
      "metadata": {},
      "source": [
        "Store the named selections\n"
      ]
    },
    {
      "cell_type": "code",
      "execution_count": null,
      "metadata": {
        "collapsed": false
      },
      "outputs": [],
      "source": [
        "named_selections_dictionary = {}\nnamed_selections_list = [\n    \"block3_block2_cont\",\n    \"block3_block2_targ\",\n    \"shank_block3_cont\",\n    \"shank_block3_targ\",\n    \"block1_washer_cont\",\n    \"block1_washer_targ\",\n    \"washer_bolt_cont\",\n    \"washer_bolt_targ\",\n    \"shank_bolt_targ\",\n    \"shank_bolt_cont\",\n    \"block2_block1_cont\",\n    \"block2_block1_targ\",\n]"
      ]
    },
    {
      "cell_type": "markdown",
      "metadata": {},
      "source": [
        "Set the unit system to Standard NMM\n"
      ]
    },
    {
      "cell_type": "code",
      "execution_count": null,
      "metadata": {
        "collapsed": false
      },
      "outputs": [],
      "source": [
        "app.ExtAPI.Application.ActiveUnitSystem = MechanicalUnitSystem.StandardNMM"
      ]
    },
    {
      "cell_type": "markdown",
      "metadata": {},
      "source": [
        "Get tree objects for each named selection\n"
      ]
    },
    {
      "cell_type": "code",
      "execution_count": null,
      "metadata": {
        "collapsed": false
      },
      "outputs": [],
      "source": [
        "for named_selection in named_selections_list:\n    named_selections_dictionary[named_selection] = app.DataModel.GetObjectsByName(named_selection)[\n        0\n    ]"
      ]
    },
    {
      "cell_type": "markdown",
      "metadata": {},
      "source": [
        "Create a list with material assignment for each\n`model.Geometry.Children` index\n"
      ]
    },
    {
      "cell_type": "code",
      "execution_count": null,
      "metadata": {
        "collapsed": false
      },
      "outputs": [],
      "source": [
        "children_materials = [\"Steel\", \"Copper\", \"Copper\", \"Steel\", \"Steel\", \"Steel\"]"
      ]
    },
    {
      "cell_type": "markdown",
      "metadata": {},
      "source": [
        "Assign surface materials to the `model.Geometry` bodies\n"
      ]
    },
    {
      "cell_type": "code",
      "execution_count": null,
      "metadata": {
        "collapsed": false
      },
      "outputs": [],
      "source": [
        "geometry = model.Geometry\nfor children_index, material_name in enumerate(children_materials):\n    # Get the surface of the body\n    surface = geometry.Children[children_index].Children[0]\n    # Assign the material to the surface\n    surface.Material = material_name"
      ]
    },
    {
      "cell_type": "markdown",
      "metadata": {},
      "source": [
        "Add and define a coordinate system\n==================================\n"
      ]
    },
    {
      "cell_type": "markdown",
      "metadata": {},
      "source": [
        "Add a coordinate system to the model\n"
      ]
    },
    {
      "cell_type": "code",
      "execution_count": null,
      "metadata": {
        "collapsed": false
      },
      "outputs": [],
      "source": [
        "coordinate_systems = model.CoordinateSystems\ncoordinate_system = coordinate_systems.AddCoordinateSystem()"
      ]
    },
    {
      "cell_type": "markdown",
      "metadata": {},
      "source": [
        "Define the coordinate system and set its axis properties\n"
      ]
    },
    {
      "cell_type": "code",
      "execution_count": null,
      "metadata": {
        "collapsed": false
      },
      "outputs": [],
      "source": [
        "coordinate_system.OriginDefineBy = CoordinateSystemAlignmentType.Fixed\ncoordinate_system.OriginX = Quantity(-195, \"mm\")\ncoordinate_system.OriginY = Quantity(100, \"mm\")\ncoordinate_system.OriginZ = Quantity(50, \"mm\")\ncoordinate_system.PrimaryAxis = CoordinateSystemAxisType.PositiveZAxis"
      ]
    },
    {
      "cell_type": "markdown",
      "metadata": {},
      "source": [
        "Create functions for contact region set up\n==========================================\n"
      ]
    },
    {
      "cell_type": "markdown",
      "metadata": {},
      "source": [
        "Add a contact region to the body with the specified source location,\ntarget location, and contact type\n"
      ]
    },
    {
      "cell_type": "code",
      "execution_count": null,
      "metadata": {
        "collapsed": false
      },
      "outputs": [],
      "source": [
        "def set_contact_region_locations_and_types(\n    body: typing.Union[\n        Ansys.ACT.Automation.Mechanical.Connections,\n        Ansys.ACT.Automation.Mechanical.Connections.ConnectionGroup,\n    ],\n    source_location: Ansys.ACT.Automation.Mechanical.NamedSelection,\n    target_location: Ansys.ACT.Automation.Mechanical.NamedSelection,\n    contact_type: ContactType,\n) -> Ansys.ACT.Automation.Mechanical.Connections.ContactRegion:\n    \"\"\"Add a contact region to the body with the specified source location, target location,\n    and contact type.\n\n    Parameters\n    ----------\n    body : Ansys.ACT.Automation.Mechanical.Connections or\n    Ansys.ACT.Automation.Mechanical.Connections.ConnectionGroup\n        The body to which the contact region will be added.\n    source_location : Ansys.ACT.Automation.Mechanical.NamedSelection\n        The source location for the contact region.\n    target_location : Ansys.ACT.Automation.Mechanical.NamedSelection\n        The target location for the contact region.\n    contact_type : ContactType\n        The type of contact for the contact region.\n\n    Returns\n    -------\n    Ansys.ACT.Automation.Mechanical.Connections.ContactRegion\n        The created contact region.\n    \"\"\"\n    contact_region = body.AddContactRegion()\n    contact_region.SourceLocation = source_location\n    contact_region.TargetLocation = target_location\n    contact_region.ContactType = contact_type\n    return contact_region"
      ]
    },
    {
      "cell_type": "markdown",
      "metadata": {},
      "source": [
        "Set the friction coefficient, small sliding, and update stiffness\nsettings for the contact region\n"
      ]
    },
    {
      "cell_type": "code",
      "execution_count": null,
      "metadata": {
        "collapsed": false
      },
      "outputs": [],
      "source": [
        "def advanced_contact_settings(\n    contact_region: Ansys.ACT.Automation.Mechanical.Connections.ContactRegion,\n    friction_coefficient: int,\n    small_sliding: ContactSmallSlidingType,\n    update_stiffness: UpdateContactStiffness,\n) -> None:\n    \"\"\"Set the friction coefficient, small sliding, and update stiffness settings for the\n    contact region.\n\n    Parameters\n    ----------\n    contact_region : Ansys.ACT.Automation.Mechanical.Connections.ContactRegion\n        The contact region to set the settings for.\n    friction_coefficient : int\n        The friction coefficient for the contact region.\n    small_sliding : ContactSmallSlidingType\n        The small sliding setting for the contact region.\n    update_stiffness : UpdateContactStiffness\n        The update stiffness setting for the contact region.\n    \"\"\"\n    contact_region.FrictionCoefficient = friction_coefficient\n    contact_region.SmallSliding = small_sliding\n    contact_region.UpdateStiffness = update_stiffness"
      ]
    },
    {
      "cell_type": "markdown",
      "metadata": {},
      "source": [
        "Add a command snippet to the contact region with the specified Archard\nWear Model\n"
      ]
    },
    {
      "cell_type": "code",
      "execution_count": null,
      "metadata": {
        "collapsed": false
      },
      "outputs": [],
      "source": [
        "def add_command_snippet(\n    contact_region: \"Ansys.ACT.Automation.Mechanical.Connections.ContactRegion\",\n    archard_wear_model: str,\n) -> None:\n    \"\"\"Add a command snippet to the contact region with the specified Archard Wear Model.\n\n    Parameters\n    ----------\n    contact_region : Ansys.ACT.Automation.Mechanical.Connections.ContactRegion\n        The contact region to add the command snippet to.\n    archard_wear_model : str\n        The Archard Wear Model command snippet to add to the contact region.\n    \"\"\"\n    contact_region_cmd = contact_region.AddCommandSnippet()\n    contact_region_cmd.AppendText(archard_wear_model)"
      ]
    },
    {
      "cell_type": "markdown",
      "metadata": {},
      "source": [
        "Add and define contact regions\n==============================\n"
      ]
    },
    {
      "cell_type": "markdown",
      "metadata": {},
      "source": [
        "Set up the model connections and delete the existing connections for\nConnectionGroups\n"
      ]
    },
    {
      "cell_type": "code",
      "execution_count": null,
      "metadata": {
        "collapsed": false
      },
      "outputs": [],
      "source": [
        "connections = model.Connections\nfor connection in connections.Children:\n    if connection.DataModelObjectCategory == DataModelObjectCategory.ConnectionGroup:\n        app.DataModel.Remove(connection)"
      ]
    },
    {
      "cell_type": "markdown",
      "metadata": {},
      "source": [
        "Set the archard wear model and get the named selections from the model\n"
      ]
    },
    {
      "cell_type": "code",
      "execution_count": null,
      "metadata": {
        "collapsed": false
      },
      "outputs": [],
      "source": [
        "# Set the archard wear model\narchard_wear_model = \"\"\"keyopt,cid,9,5\nrmodif,cid,10,0.00\nrmodif,cid,23,0.001\"\"\"\n\n# Get named selections from the model for contact regions\nnamed_selections = model.NamedSelections"
      ]
    },
    {
      "cell_type": "markdown",
      "metadata": {},
      "source": [
        "Add a contact region for the model\\'s named selections Children 0 and 1\nwith the specified contact type\n"
      ]
    },
    {
      "cell_type": "code",
      "execution_count": null,
      "metadata": {
        "collapsed": false
      },
      "outputs": [],
      "source": [
        "contact_region = set_contact_region_locations_and_types(\n    body=connections,\n    source_location=named_selections.Children[0],\n    target_location=named_selections.Children[1],\n    contact_type=ContactType.Frictional,\n)\n# Set the friction coefficient, small sliding, and update stiffness settings for the contact region\nadvanced_contact_settings(\n    contact_region=contact_region,\n    friction_coefficient=0.2,\n    small_sliding=ContactSmallSlidingType.Off,\n    update_stiffness=UpdateContactStiffness.Never,\n)\n# Add a command snippet to the contact region with the specified Archard Wear Model\nadd_command_snippet(contact_region, archard_wear_model)"
      ]
    },
    {
      "cell_type": "markdown",
      "metadata": {},
      "source": [
        "Set the connection group for the contact regions\n"
      ]
    },
    {
      "cell_type": "code",
      "execution_count": null,
      "metadata": {
        "collapsed": false
      },
      "outputs": [],
      "source": [
        "connection_group = connections.Children[0]"
      ]
    },
    {
      "cell_type": "markdown",
      "metadata": {},
      "source": [
        "Add a contact region for the model\\'s named selections Children 2 and 3\nwith the specified contact type\n"
      ]
    },
    {
      "cell_type": "code",
      "execution_count": null,
      "metadata": {
        "collapsed": false
      },
      "outputs": [],
      "source": [
        "contact_region_2 = set_contact_region_locations_and_types(\n    body=connection_group,\n    source_location=named_selections.Children[3],\n    target_location=named_selections.Children[2],\n    contact_type=ContactType.Bonded,\n)\ncontact_region_2.ContactFormulation = ContactFormulation.MPC"
      ]
    },
    {
      "cell_type": "markdown",
      "metadata": {},
      "source": [
        "Add a contact region for the model\\'s named selections Children 4 and 5\nwith the specified contact type\n"
      ]
    },
    {
      "cell_type": "code",
      "execution_count": null,
      "metadata": {
        "collapsed": false
      },
      "outputs": [],
      "source": [
        "contact_region_3 = set_contact_region_locations_and_types(\n    body=connection_group,\n    source_location=named_selections.Children[4],\n    target_location=named_selections.Children[5],\n    contact_type=ContactType.Frictional,\n)\n# Set the friction coefficient, small sliding, and update stiffness settings for the contact region\nadvanced_contact_settings(\n    contact_region=contact_region_3,\n    friction_coefficient=0.2,\n    small_sliding=ContactSmallSlidingType.Off,\n    update_stiffness=UpdateContactStiffness.Never,\n)\n# Add a command snippet to the contact region with the specified Archard Wear Model\nadd_command_snippet(contact_region_3, archard_wear_model)"
      ]
    },
    {
      "cell_type": "markdown",
      "metadata": {},
      "source": [
        "Add a contact region for the model\\'s named selections Children 6 and 7\nwith the specified contact type\n"
      ]
    },
    {
      "cell_type": "code",
      "execution_count": null,
      "metadata": {
        "collapsed": false
      },
      "outputs": [],
      "source": [
        "contact_region_4 = set_contact_region_locations_and_types(\n    body=connection_group,\n    source_location=named_selections.Children[6],\n    target_location=named_selections.Children[7],\n    contact_type=ContactType.Bonded,\n)\ncontact_region_4.ContactFormulation = ContactFormulation.MPC"
      ]
    },
    {
      "cell_type": "markdown",
      "metadata": {},
      "source": [
        "Add a contact region for the model\\'s named selections Children 8 and 9\nwith the specified contact type\n"
      ]
    },
    {
      "cell_type": "code",
      "execution_count": null,
      "metadata": {
        "collapsed": false
      },
      "outputs": [],
      "source": [
        "contact_region_5 = set_contact_region_locations_and_types(\n    body=connection_group,\n    source_location=named_selections.Children[9],\n    target_location=named_selections.Children[8],\n    contact_type=ContactType.Bonded,\n)\ncontact_region_5.ContactFormulation = ContactFormulation.MPC"
      ]
    },
    {
      "cell_type": "markdown",
      "metadata": {},
      "source": [
        "Add a contact region for the model\\'s named selections Children 10 and\n11 with the specified contact type\n"
      ]
    },
    {
      "cell_type": "code",
      "execution_count": null,
      "metadata": {
        "collapsed": false
      },
      "outputs": [],
      "source": [
        "contact_region_6 = set_contact_region_locations_and_types(\n    body=connection_group,\n    source_location=named_selections.Children[10],\n    target_location=named_selections.Children[11],\n    contact_type=ContactType.Frictional,\n)\n# Set the friction coefficient, small sliding, and update stiffness settings for the contact region\nadvanced_contact_settings(\n    contact_region=contact_region_6,\n    friction_coefficient=0.2,\n    small_sliding=ContactSmallSlidingType.Off,\n    update_stiffness=UpdateContactStiffness.Never,\n)\n# Add a command snippet to the contact region with the specified Archard Wear Model\nadd_command_snippet(contact_region_6, archard_wear_model)"
      ]
    },
    {
      "cell_type": "markdown",
      "metadata": {},
      "source": [
        "Create functions to set up the mesh\n===================================\n"
      ]
    },
    {
      "cell_type": "markdown",
      "metadata": {},
      "source": [
        "Set the mesh method location for the specified method and object name\n"
      ]
    },
    {
      "cell_type": "code",
      "execution_count": null,
      "metadata": {
        "collapsed": false
      },
      "outputs": [],
      "source": [
        "def set_mesh_method_location(method, object_name: str, location_type: str = \"\") -> None:\n    \"\"\"Set the location of the method based on the specified name and location type.\n\n    Parameters\n    ----------\n    method : Ansys.ACT.Automation.Mechanical.MeshMethod\n        The method to set the location for.\n    object_name : str\n        The name of the object to set the location for.\n    location_type : str, optional\n        The type of location to set for the method. Can be \"source\", \"target\", or empty string.\n        Default is an empty string.\n    \"\"\"\n    # Get the tree object for the specified name\n    tree_obj = app.DataModel.GetObjectsByName(object_name)[0]\n\n    # Set the method location based on the specified location type\n    if location_type == \"source\":\n        method.SourceLocation = tree_obj\n    elif location_type == \"target\":\n        method.TargetLocation = tree_obj\n    else:\n        method.Location = tree_obj"
      ]
    },
    {
      "cell_type": "markdown",
      "metadata": {},
      "source": [
        "Add a mesh sizing to the mesh with the specified name, quantity value,\nand measurement\n"
      ]
    },
    {
      "cell_type": "code",
      "execution_count": null,
      "metadata": {
        "collapsed": false
      },
      "outputs": [],
      "source": [
        "def add_mesh_sizing(mesh, object_name: str, element_size: Quantity) -> None:\n    \"\"\"Add a mesh sizing to the mesh with the specified name, quantity value, and measurement.\n\n    Parameters\n    ----------\n    mesh : Ansys.ACT.Automation.Mechanical.Mesh\n        The mesh to add the sizing to.\n    object_name : str\n        The name of the object to set the sizing for.\n    element_size : Quantity\n        The element size for the mesh sizing.\n    \"\"\"\n    # Add sizing to the mesh\n    body_sizing = mesh.AddSizing()\n    # Get the tree object for the specified name\n    body_sizing.Location = app.DataModel.GetObjectsByName(object_name)[0]\n\n    # Set the element size to the mesh\n    body_sizing.ElementSize = element_size"
      ]
    },
    {
      "cell_type": "markdown",
      "metadata": {},
      "source": [
        "Add mesh methods, sizing, and face meshing\n==========================================\n"
      ]
    },
    {
      "cell_type": "markdown",
      "metadata": {},
      "source": [
        "Add the mesh sizing to the `bodies_5` and `shank` objects\n"
      ]
    },
    {
      "cell_type": "code",
      "execution_count": null,
      "metadata": {
        "collapsed": false
      },
      "outputs": [],
      "source": [
        "mesh = model.Mesh\nadd_mesh_sizing(mesh=mesh, object_name=\"bodies_5\", element_size=Quantity(15, \"mm\"))\nadd_mesh_sizing(mesh=mesh, object_name=\"shank\", element_size=Quantity(7, \"mm\"))"
      ]
    },
    {
      "cell_type": "markdown",
      "metadata": {},
      "source": [
        "Add an automatic method to the mesh and set the method type\n"
      ]
    },
    {
      "cell_type": "code",
      "execution_count": null,
      "metadata": {
        "collapsed": false
      },
      "outputs": [],
      "source": [
        "hex_method = mesh.AddAutomaticMethod()\nhex_method.Method = MethodType.Automatic\n# Set the method location for the all_bodies object\nset_mesh_method_location(method=hex_method, object_name=\"all_bodies\")"
      ]
    },
    {
      "cell_type": "markdown",
      "metadata": {},
      "source": [
        "Add face meshing to the mesh and set the MappedMesh property to False\n"
      ]
    },
    {
      "cell_type": "code",
      "execution_count": null,
      "metadata": {
        "collapsed": false
      },
      "outputs": [],
      "source": [
        "face_meshing = mesh.AddFaceMeshing()\nface_meshing.MappedMesh = False\n# Set the method location for the face meshing\nset_mesh_method_location(method=face_meshing, object_name=\"shank_face\")"
      ]
    },
    {
      "cell_type": "markdown",
      "metadata": {},
      "source": [
        "Add an automatic method to the mesh, set the method type, and set the\nsource target selection\n"
      ]
    },
    {
      "cell_type": "code",
      "execution_count": null,
      "metadata": {
        "collapsed": false
      },
      "outputs": [],
      "source": [
        "sweep_method = mesh.AddAutomaticMethod()\nsweep_method.Method = MethodType.Sweep\nsweep_method.SourceTargetSelection = 2\n# Set the method locations for the shank, shank_face, and shank_face2 objects\nset_mesh_method_location(method=sweep_method, object_name=\"shank\")\nset_mesh_method_location(method=sweep_method, object_name=\"shank_face\", location_type=\"source\")\nset_mesh_method_location(method=sweep_method, object_name=\"shank_face2\", location_type=\"target\")"
      ]
    },
    {
      "cell_type": "markdown",
      "metadata": {},
      "source": [
        "Activate and generate the mesh\n"
      ]
    },
    {
      "cell_type": "code",
      "execution_count": null,
      "metadata": {
        "collapsed": false
      },
      "outputs": [],
      "source": [
        "mesh.Activate()\nmesh.GenerateMesh()\n\n# Fit the view to the entire model\ncamera.SetFit()\n# Set the path for the output files (images, gifs, mechdat)\noutput_path = Path.cwd() / \"out\"\nmesh_image_path = str(output_path / \"mesh.png\")\n# Set the image export format and export the image\nimage_export_format = GraphicsImageExportFormat.PNG\ngraphics.ExportImage(mesh_image_path, image_export_format, graphics_image_export_settings)"
      ]
    },
    {
      "cell_type": "markdown",
      "metadata": {},
      "source": [
        "Create a function to display the image using matplotlib\n"
      ]
    },
    {
      "cell_type": "code",
      "execution_count": null,
      "metadata": {
        "collapsed": false
      },
      "outputs": [],
      "source": [
        "def display_image(\n    image_path: str,\n    pyplot_figsize_coordinates: tuple = (16, 9),\n    plot_xticks: list = [],\n    plot_yticks: list = [],\n    plot_axis: str = \"off\",\n):\n    \"\"\"Display the image with the specified parameters.\"\"\"\n    # Set the figure size based on the coordinates specified\n    plt.figure(figsize=pyplot_figsize_coordinates)\n\n    # Read the image from the file into an array\n    plt.imshow(mpimg.imread(image_path))\n\n    # Get or set the current tick locations and labels of the x-axis\n    plt.xticks(plot_xticks)\n    # Get or set the current tick locations and labels of the y-axis\n    plt.yticks(plot_yticks)\n    # Turn off the axis\n    plt.axis(plot_axis)\n    # Display the figure\n    plt.show()"
      ]
    },
    {
      "cell_type": "markdown",
      "metadata": {},
      "source": [
        "Display the mesh image\n"
      ]
    },
    {
      "cell_type": "code",
      "execution_count": null,
      "metadata": {
        "collapsed": false
      },
      "outputs": [],
      "source": [
        "display_image(mesh_image_path)"
      ]
    },
    {
      "cell_type": "markdown",
      "metadata": {},
      "source": [
        "Analysis settings\n=================\n"
      ]
    },
    {
      "cell_type": "code",
      "execution_count": null,
      "metadata": {
        "collapsed": false
      },
      "outputs": [],
      "source": [
        "# Set the number of steps for the static structural analysis\nstatic_structural_analysis_setting.NumberOfSteps = 4\n\n# Set the step index list\nstep_index_list = [1]\n\n# Set the automatic time stepping method for the static structural analysis\n# based on the step index\nwith Transaction():\n    for step_index in step_index_list:\n        static_structural_analysis_setting.SetAutomaticTimeStepping(\n            step_index, AutomaticTimeStepping.Off\n        )\n\n# Set the number of substeps for the static structural analysis\n# based on the step index\nwith Transaction():\n    for step_index in step_index_list:\n        static_structural_analysis_setting.SetNumberOfSubSteps(step_index, 2)\n\n# Activate the static structural analysis settings\nstatic_structural_analysis_setting.Activate()\n\n# Set the solver type and solver pivoting check for the static structural analysis\nstatic_structural_analysis_setting.SolverType = SolverType.Direct\nstatic_structural_analysis_setting.SolverPivotChecking = SolverPivotChecking.Off"
      ]
    },
    {
      "cell_type": "markdown",
      "metadata": {},
      "source": [
        "Define loads and boundary conditions\n====================================\n"
      ]
    },
    {
      "cell_type": "code",
      "execution_count": null,
      "metadata": {
        "collapsed": false
      },
      "outputs": [],
      "source": [
        "# Add fixed support to the static structural analysis\nfixed_support = static_structural.AddFixedSupport()\n# Set the fixed support location for the block2_surface object\nset_mesh_method_location(method=fixed_support, object_name=\"block2_surface\")\n\n# Create a new force on the static structural analysis\ntabular_force = static_structural.AddForce()\n# Set the force location for the bottom_surface object\nset_mesh_method_location(method=tabular_force, object_name=\"bottom_surface\")\n\n# Define the tabular force input and output components\ntabular_force.DefineBy = LoadDefineBy.Components\ntabular_force.XComponent.Inputs[0].DiscreteValues = [\n    Quantity(0, \"s\"),\n    Quantity(1, \"s\"),\n    Quantity(2, \"s\"),\n    Quantity(3, \"s\"),\n    Quantity(4, \"s\"),\n]\ntabular_force.XComponent.Output.DiscreteValues = [\n    Quantity(0, \"N\"),\n    Quantity(0, \"N\"),\n    Quantity(5.0e005, \"N\"),\n    Quantity(0, \"N\"),\n    Quantity(-5.0e005, \"N\"),\n]\n\n# Add a bolt presentation to the static structural analysis\nbolt_presentation = static_structural.AddBoltPretension()\n# Set the bolt presentation location for the shank_surface object\nset_mesh_method_location(bolt_presentation, \"shank_surface\")\n\n# Define the bolt presentation input and output components\nbolt_presentation.Preload.Inputs[0].DiscreteValues = [\n    Quantity(1, \"s\"),\n    Quantity(2, \"s\"),\n    Quantity(3, \"s\"),\n    Quantity(4, \"s\"),\n]\nbolt_presentation.Preload.Output.DiscreteValues = [\n    Quantity(6.1363e005, \"N\"),\n    Quantity(0, \"N\"),\n    Quantity(0, \"N\"),\n    Quantity(0, \"N\"),\n]\nbolt_presentation.SetDefineBy(2, BoltLoadDefineBy.Lock)\nbolt_presentation.SetDefineBy(3, BoltLoadDefineBy.Lock)\nbolt_presentation.SetDefineBy(4, BoltLoadDefineBy.Lock)\n\n# Activate the bolt presentation\napp.Tree.Activate([bolt_presentation])\n\n# Set the image path for the loads and boundary conditions\nloads_boundary_conditions_image_path = str(output_path / \"loads_boundary_conditions.png\")\n# Export the image of the loads and boundary conditions\ngraphics.ExportImage(\n    loads_boundary_conditions_image_path,\n    image_export_format,\n    graphics_image_export_settings,\n)\n\n# Display the image of the loads and boundary conditions\ndisplay_image(loads_boundary_conditions_image_path)"
      ]
    },
    {
      "cell_type": "markdown",
      "metadata": {},
      "source": [
        "Insert results\n==============\n"
      ]
    },
    {
      "cell_type": "code",
      "execution_count": null,
      "metadata": {
        "collapsed": false
      },
      "outputs": [],
      "source": [
        "# Add a contact tool to the static structural solution and set the scoping method for it\npost_contact_tool = static_structural_solution.AddContactTool()\npost_contact_tool.ScopingMethod = GeometryDefineByType.Worksheet\n\n# Add a bolt tool to the static structural solution and add a working load to it\nbolt_tool = static_structural_solution.AddBoltTool()\nbolt_tool.AddWorkingLoad()\n\n# Add the total deformation to the static structural solution\ntotal_deformation = static_structural_solution.AddTotalDeformation()\n\n# Add equivalent stress to the static structural solution\nequivalent_stress_1 = static_structural_solution.AddEquivalentStress()\n\n# Add equivalent stress to the static structural solution and set the location for the shank object\nequivalent_stress_2 = static_structural_solution.AddEquivalentStress()\nset_mesh_method_location(method=equivalent_stress_2, object_name=\"shank\")\n\n# Add a force reaction to the static structural solution and set the boundary condition selection\n# to the fixed support\nforce_reaction_1 = static_structural_solution.AddForceReaction()\nforce_reaction_1.BoundaryConditionSelection = fixed_support\n\n# Add a moment reaction to the static structural solution and set the boundary condition selection\n# to the fixed support\nmoment_reaction_2 = static_structural_solution.AddMomentReaction()\nmoment_reaction_2.BoundaryConditionSelection = fixed_support"
      ]
    },
    {
      "cell_type": "markdown",
      "metadata": {},
      "source": [
        "Solve the static structural solution\n====================================\n"
      ]
    },
    {
      "cell_type": "code",
      "execution_count": null,
      "metadata": {
        "collapsed": false
      },
      "outputs": [],
      "source": [
        "# Solve the static structural solution and wait for it to finish\nstatic_structural_solution.Solve(True)"
      ]
    },
    {
      "cell_type": "markdown",
      "metadata": {},
      "source": [
        "Show messages\n=============\n"
      ]
    },
    {
      "cell_type": "code",
      "execution_count": null,
      "metadata": {
        "collapsed": false
      },
      "outputs": [],
      "source": [
        "# Print all messages from Mechanical\napp.messages.show()"
      ]
    },
    {
      "cell_type": "markdown",
      "metadata": {},
      "source": [
        "Display the results\n===================\n"
      ]
    },
    {
      "cell_type": "markdown",
      "metadata": {},
      "source": [
        "Total deformation\n"
      ]
    },
    {
      "cell_type": "code",
      "execution_count": null,
      "metadata": {
        "collapsed": false
      },
      "outputs": [],
      "source": [
        "# Activate the object\napp.Tree.Activate([total_deformation])\n# Set the camera to fit the model\ncamera.SetFit()\n# Set the image name and path for the object\nimage_path = str(output_path / \"total_deformation.png\")\n# Export the image of the object\napp.Graphics.ExportImage(image_path, image_export_format, graphics_image_export_settings)\n# Display the image of the object\ndisplay_image(image_path)"
      ]
    },
    {
      "cell_type": "markdown",
      "metadata": {},
      "source": [
        "Equivalent stress on all bodies\n"
      ]
    },
    {
      "cell_type": "code",
      "execution_count": null,
      "metadata": {
        "collapsed": false
      },
      "outputs": [],
      "source": [
        "# Activate the object\napp.Tree.Activate([equivalent_stress_1])\n# Set the camera to fit the model\ncamera.SetFit()\n# Set the image name and path for the object\nimage_path = str(output_path / \"equivalent_stress_all_bodies.png\")\n# Export the image of the object\napp.Graphics.ExportImage(image_path, image_export_format, graphics_image_export_settings)\n# Display the image of the object\ndisplay_image(image_path)"
      ]
    },
    {
      "cell_type": "markdown",
      "metadata": {},
      "source": [
        "Equivalent stress on the shank\n"
      ]
    },
    {
      "cell_type": "code",
      "execution_count": null,
      "metadata": {
        "collapsed": false
      },
      "outputs": [],
      "source": [
        "# Activate the object\napp.Tree.Activate([equivalent_stress_2])\n# Set the camera to fit the model\ncamera.SetFit()\n# Set the image name and path for the object\nimage_path = str(output_path / \"equivalent_stress_shank.png\")\n# Export the image of the object\napp.Graphics.ExportImage(image_path, image_export_format, graphics_image_export_settings)\n# Display the image of the object\ndisplay_image(image_path)"
      ]
    },
    {
      "cell_type": "markdown",
      "metadata": {},
      "source": [
        "Export and display the contact status animation\n===============================================\n"
      ]
    },
    {
      "cell_type": "markdown",
      "metadata": {},
      "source": [
        "Create a function to update the animation frames\n"
      ]
    },
    {
      "cell_type": "code",
      "execution_count": null,
      "metadata": {
        "collapsed": false
      },
      "outputs": [],
      "source": [
        "def update_animation(frame: int) -> list[mpimg.AxesImage]:\n    \"\"\"Update the animation frame for the GIF.\n\n    Parameters\n    ----------\n    frame : int\n        The frame number to update the animation.\n\n    Returns\n    -------\n    list[mpimg.AxesImage]\n        A list containing the updated image for the animation.\n    \"\"\"\n    # Seeks to the given frame in this sequence file\n    gif.seek(frame)\n    # Set the image array to the current frame of the GIF\n    image.set_data(gif.convert(\"RGBA\"))\n    # Return the updated image\n    return [image]"
      ]
    },
    {
      "cell_type": "markdown",
      "metadata": {},
      "source": [
        "Export and display the contact status animation\n"
      ]
    },
    {
      "cell_type": "code",
      "execution_count": null,
      "metadata": {
        "collapsed": false
      },
      "outputs": [],
      "source": [
        "# Get the post contact tool status\npost_contact_tool_status = post_contact_tool.Children[0]\n\n# Activate the post contact tool status in the tree\napp.Tree.Activate([post_contact_tool_status])\n\n# Set the camera to fit the model\ncamera.SetFit()\n\n# Set the animation export format and settings\nanimation_export_format = GraphicsAnimationExportFormat.GIF\nanimation_export_settings = Ansys.Mechanical.Graphics.AnimationExportSettings()\nanimation_export_settings.Width = 1280\nanimation_export_settings.Height = 720\n\n# Set the path for the contact status GIF\ncontact_status_gif_path = str(output_path / \"contact_status.gif\")\n\n# Export the contact status animation to a GIF file\npost_contact_tool_status.ExportAnimation(\n    contact_status_gif_path, animation_export_format, animation_export_settings\n)\n\n# Open the GIF file and create an animation\ngif = Image.open(contact_status_gif_path)\n# Set the subplots for the animation and turn off the axis\nfigure, axes = plt.subplots(figsize=(8, 4))\naxes.axis(\"off\")\n# Change the color of the image\nimage = axes.imshow(gif.convert(\"RGBA\"))\n\n# Create the animation using the figure, update_animation function, and the GIF frames\n# Set the interval between frames to 200 milliseconds and repeat the animation\nFuncAnimation(\n    figure,\n    update_animation,\n    frames=range(gif.n_frames),\n    interval=200,\n    repeat=True,\n    blit=True,\n)\n\n# Show the animation\nplt.show()"
      ]
    },
    {
      "cell_type": "markdown",
      "metadata": {},
      "source": [
        "Print the project tree\n======================\n"
      ]
    },
    {
      "cell_type": "code",
      "execution_count": null,
      "metadata": {
        "collapsed": false
      },
      "outputs": [],
      "source": [
        "app.print_tree()"
      ]
    },
    {
      "cell_type": "markdown",
      "metadata": {},
      "source": [
        "Clean up the project\n====================\n"
      ]
    },
    {
      "cell_type": "code",
      "execution_count": null,
      "metadata": {
        "collapsed": false
      },
      "outputs": [],
      "source": [
        "# Save the project\nbolt_presentation_mechdat_path = str(output_path / \"bolt_pretension.mechdat\")\napp.save(bolt_presentation_mechdat_path)\n\n# Close the app\napp.close()\n\n# Delete the example files\ndelete_downloads()"
      ]
    }
  ],
  "metadata": {
    "kernelspec": {
      "display_name": "Python 3",
      "language": "python",
      "name": "python3"
    },
    "language_info": {
      "codemirror_mode": {
        "name": "ipython",
        "version": 3
      },
      "file_extension": ".py",
      "mimetype": "text/x-python",
      "name": "python",
      "nbconvert_exporter": "python",
      "pygments_lexer": "ipython3",
      "version": "3.12.12"
    }
  },
  "nbformat": 4,
  "nbformat_minor": 0
}