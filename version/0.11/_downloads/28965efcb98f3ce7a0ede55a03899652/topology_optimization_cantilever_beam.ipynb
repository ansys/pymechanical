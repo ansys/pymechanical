{
  "cells": [
    {
      "cell_type": "markdown",
      "metadata": {},
      "source": [
        "Topology optimization of a simple cantilever beam {#ref_topology_optimization}\n=================================================\n\nThis example demonstrates the structural topology optimization of a\nsimple cantilever beam. The structural analysis is performed with basic\nconstraints and load, which is then transferred to the topology\noptimization.\n"
      ]
    },
    {
      "cell_type": "markdown",
      "metadata": {},
      "source": [
        "Import the necessary libraries\n==============================\n"
      ]
    },
    {
      "cell_type": "code",
      "execution_count": null,
      "metadata": {
        "collapsed": false
      },
      "outputs": [],
      "source": [
        "from pathlib import Path\nfrom typing import TYPE_CHECKING\n\nfrom matplotlib import image as mpimg, pyplot as plt\n\nfrom ansys.mechanical.core import App\nfrom ansys.mechanical.core.examples import delete_downloads, download_file\n\nif TYPE_CHECKING:\n    import Ansys"
      ]
    },
    {
      "cell_type": "markdown",
      "metadata": {},
      "source": [
        "Initialize the embedded application\n===================================\n"
      ]
    },
    {
      "cell_type": "code",
      "execution_count": null,
      "metadata": {
        "collapsed": false
      },
      "outputs": [],
      "source": [
        "app = App(globals=globals())\nprint(app)"
      ]
    },
    {
      "cell_type": "markdown",
      "metadata": {},
      "source": [
        "Create functions to set camera and display images\n=================================================\n"
      ]
    },
    {
      "cell_type": "code",
      "execution_count": null,
      "metadata": {
        "collapsed": false
      },
      "outputs": [],
      "source": [
        "# Set the path for the output files (images, gifs, mechdat)\noutput_path = Path.cwd() / \"out\"\n\n\ndef set_camera_and_display_image(\n    camera,\n    graphics,\n    graphics_image_export_settings,\n    image_output_path: Path,\n    image_name: str,\n) -> None:\n    \"\"\"Set the camera to fit the model and display the image.\n\n    Parameters\n    ----------\n    camera : Ansys.ACT.Common.Graphics.MechanicalCameraWrapper\n        The camera object to set the view.\n    graphics : Ansys.ACT.Common.Graphics.MechanicalGraphicsWrapper\n        The graphics object to export the image.\n    graphics_image_export_settings : Ansys.Mechanical.Graphics.GraphicsImageExportSettings\n        The settings for exporting the image.\n    image_output_path : Path\n        The path to save the exported image.\n    image_name : str\n        The name of the exported image file.\n    \"\"\"\n    # Set the camera to fit the mesh\n    camera.SetFit()\n    # Export the mesh image with the specified settings\n    image_path = image_output_path / image_name\n    graphics.ExportImage(str(image_path), image_export_format, graphics_image_export_settings)\n    # Display the exported mesh image\n    display_image(image_path)\n\n\ndef display_image(\n    image_path: str,\n    pyplot_figsize_coordinates: tuple = (16, 9),\n    plot_xticks: list = [],\n    plot_yticks: list = [],\n    plot_axis: str = \"off\",\n) -> None:\n    \"\"\"Display the image with the specified parameters.\n\n    Parameters\n    ----------\n    image_path : str\n        The path to the image file to display.\n    pyplot_figsize_coordinates : tuple\n        The size of the figure in inches (width, height).\n    plot_xticks : list\n        The x-ticks to display on the plot.\n    plot_yticks : list\n        The y-ticks to display on the plot.\n    plot_axis : str\n        The axis visibility setting ('on' or 'off').\n    \"\"\"\n    # Set the figure size based on the coordinates specified\n    plt.figure(figsize=pyplot_figsize_coordinates)\n    # Read the image from the file into an array\n    plt.imshow(mpimg.imread(image_path))\n    # Get or set the current tick locations and labels of the x-axis\n    plt.xticks(plot_xticks)\n    # Get or set the current tick locations and labels of the y-axis\n    plt.yticks(plot_yticks)\n    # Turn off the axis\n    plt.axis(plot_axis)\n    # Display the figure\n    plt.show()"
      ]
    },
    {
      "cell_type": "markdown",
      "metadata": {},
      "source": [
        "Configure graphics for image export\n"
      ]
    },
    {
      "cell_type": "code",
      "execution_count": null,
      "metadata": {
        "collapsed": false
      },
      "outputs": [],
      "source": [
        "graphics = app.Graphics\ncamera = graphics.Camera\n\n# Set the camera orientation to the front view\ncamera.SetSpecificViewOrientation(ViewOrientationType.Front)\n\n# Set the image export format and settings\nimage_export_format = GraphicsImageExportFormat.PNG\nsettings_720p = Ansys.Mechanical.Graphics.GraphicsImageExportSettings()\nsettings_720p.Resolution = GraphicsResolutionType.EnhancedResolution\nsettings_720p.Background = GraphicsBackgroundType.White\nsettings_720p.Width = 1280\nsettings_720p.Height = 720\nsettings_720p.CurrentGraphicsDisplay = False"
      ]
    },
    {
      "cell_type": "markdown",
      "metadata": {},
      "source": [
        "Import the structural analysis model\n====================================\n"
      ]
    },
    {
      "cell_type": "code",
      "execution_count": null,
      "metadata": {
        "collapsed": false
      },
      "outputs": [],
      "source": [
        "# Download ``.mechdat`` file\nstructural_mechdat_file = download_file(\"cantilever.mechdat\", \"pymechanical\", \"embedding\")\n\n# Open the project file\napp.open(structural_mechdat_file)\n\n# Define the model\nmodel = app.Model\n\n# Get the structural analysis object\nstruct = model.Analyses[0]\n\n\n# Get the structural analysis object's solution and solve it\nstruct_sln = struct.Solution\nstruct_sln.Solve(True)"
      ]
    },
    {
      "cell_type": "markdown",
      "metadata": {},
      "source": [
        "Display the structural analysis results\n=======================================\n"
      ]
    },
    {
      "cell_type": "markdown",
      "metadata": {},
      "source": [
        "Activate the total deformation result and display the image\n"
      ]
    },
    {
      "cell_type": "code",
      "execution_count": null,
      "metadata": {
        "collapsed": false
      },
      "outputs": [],
      "source": [
        "struct_sln.Children[1].Activate()\nset_camera_and_display_image(camera, graphics, settings_720p, output_path, \"total_deformation.png\")"
      ]
    },
    {
      "cell_type": "markdown",
      "metadata": {},
      "source": [
        "Activate the equivalent stress result and display the image\n"
      ]
    },
    {
      "cell_type": "code",
      "execution_count": null,
      "metadata": {
        "collapsed": false
      },
      "outputs": [],
      "source": [
        "struct_sln.Children[2].Activate()\nset_camera_and_display_image(camera, graphics, settings_720p, output_path, \"equivalent_stress.png\")"
      ]
    },
    {
      "cell_type": "markdown",
      "metadata": {},
      "source": [
        "Topology optimization\n=====================\n"
      ]
    },
    {
      "cell_type": "code",
      "execution_count": null,
      "metadata": {
        "collapsed": false
      },
      "outputs": [],
      "source": [
        "# Set the MKS unit system\napp.ExtAPI.Application.ActiveUnitSystem = MechanicalUnitSystem.StandardMKS\n\n# Add the topology optimization analysis to the model and transfer data from the\n# structural analysis\ntopology_optimization = model.AddTopologyOptimizationAnalysis()\ntopology_optimization.TransferDataFrom(struct)\n\n# Get the optimization region from the data model\noptimization_region = DataModel.GetObjectsByType(DataModelObjectCategory.OptimizationRegion)[0]\n# Set the optimization region's boundary condition to all loads and supports\noptimization_region.BoundaryCondition = BoundaryConditionType.AllLoadsAndSupports\n# Set the optimization region's optimization type to topology density\noptimization_region.OptimizationType = OptimizationType.TopologyDensity\n\n\n# Delete the mass response constraint from the topology optimization\nmass_constraint = topology_optimization.Children[3]\napp.DataModel.Remove(mass_constraint)\n\n# Add a volume response constraint to the topology optimization\nvolume_constraint = topology_optimization.AddVolumeConstraint()\n\n# Add a member size manufacturing constraint to the topology optimization\nmem_size_manufacturing_constraint = topology_optimization.AddMemberSizeManufacturingConstraint()\n# Set the constraint's minimum to manual and its minimum size to 2.4m\nmem_size_manufacturing_constraint.Minimum = ManuMemberSizeControlledType.Manual\nmem_size_manufacturing_constraint.MinSize = Quantity(\"2.4 [m]\")\n\n# Activate the topology optimization analysis and display the image\ntopology_optimization.Activate()\nset_camera_and_display_image(\n    camera, graphics, settings_720p, output_path, \"boundary_conditions.png\"\n)"
      ]
    },
    {
      "cell_type": "markdown",
      "metadata": {},
      "source": [
        "Solve the solution\n==================\n"
      ]
    },
    {
      "cell_type": "code",
      "execution_count": null,
      "metadata": {
        "collapsed": false
      },
      "outputs": [],
      "source": [
        "# Get the topology optimization analysis solution\ntop_opt_sln = topology_optimization.Solution\n# Solve the solution\ntop_opt_sln.Solve(True)"
      ]
    },
    {
      "cell_type": "markdown",
      "metadata": {},
      "source": [
        "Show messages\n=============\n"
      ]
    },
    {
      "cell_type": "code",
      "execution_count": null,
      "metadata": {
        "collapsed": false
      },
      "outputs": [],
      "source": [
        "# Print all messages from Mechanical\napp.messages.show()"
      ]
    },
    {
      "cell_type": "markdown",
      "metadata": {},
      "source": [
        "Display the results\n===================\n"
      ]
    },
    {
      "cell_type": "code",
      "execution_count": null,
      "metadata": {
        "collapsed": false
      },
      "outputs": [],
      "source": [
        "# Get the topology density result and activate it\ntop_opt_sln.Children[1].Activate()\ntopology_density = top_opt_sln.Children[1]"
      ]
    },
    {
      "cell_type": "markdown",
      "metadata": {},
      "source": [
        "Add smoothing to the stereolithography (STL)\n"
      ]
    },
    {
      "cell_type": "code",
      "execution_count": null,
      "metadata": {
        "collapsed": false
      },
      "outputs": [],
      "source": [
        "# Add smoothing to the topology density result\ntopology_density.AddSmoothing()\n\n# Evaluate all results for the topology optimization solution\ntopology_optimization.Solution.EvaluateAllResults()\n\n# Activate the topology density result after smoothing and display the image\ntopology_density.Children[0].Activate()\nset_camera_and_display_image(\n    camera, graphics, settings_720p, output_path, \"topo_opitimized_smooth.png\"\n)"
      ]
    },
    {
      "cell_type": "markdown",
      "metadata": {},
      "source": [
        "Export the animation\n"
      ]
    },
    {
      "cell_type": "code",
      "execution_count": null,
      "metadata": {
        "collapsed": false
      },
      "outputs": [],
      "source": [
        "app.Tree.Activate([topology_density])\n\n# Set the animation export format and settings\nanimation_export_format = Ansys.Mechanical.DataModel.Enums.GraphicsAnimationExportFormat.GIF\nsettings_720p = Ansys.Mechanical.Graphics.AnimationExportSettings()\nsettings_720p.Width = 1280\nsettings_720p.Height = 720\n\n# Export the animation of the topology density result\ntopology_optimized_gif = output_path / \"topology_opitimized.gif\"\ntopology_density.ExportAnimation(\n    str(topology_optimized_gif), animation_export_format, settings_720p\n)"
      ]
    },
    {
      "cell_type": "markdown",
      "metadata": {},
      "source": [
        "![image](/_static/basic/Topo_opitimized.gif)\n"
      ]
    },
    {
      "cell_type": "markdown",
      "metadata": {},
      "source": [
        "Review the results\n"
      ]
    },
    {
      "cell_type": "code",
      "execution_count": null,
      "metadata": {
        "collapsed": false
      },
      "outputs": [],
      "source": [
        "# Print the topology density results\nprint(\"Topology Density Results\")\nprint(\"Minimum Density: \", topology_density.Minimum)\nprint(\"Maximum Density: \", topology_density.Maximum)\nprint(\"Iteration Number: \", topology_density.IterationNumber)\nprint(\"Original Volume: \", topology_density.OriginalVolume.Value)\nprint(\"Final Volume: \", topology_density.FinalVolume.Value)\nprint(\"Percent Volume of Original: \", topology_density.PercentVolumeOfOriginal)\nprint(\"Original Mass: \", topology_density.OriginalMass.Value)\nprint(\"Final Mass: \", topology_density.FinalMass.Value)\nprint(\"Percent Mass of Original: \", topology_density.PercentMassOfOriginal)"
      ]
    },
    {
      "cell_type": "markdown",
      "metadata": {},
      "source": [
        "Display the project tree\n========================\n"
      ]
    },
    {
      "cell_type": "code",
      "execution_count": null,
      "metadata": {
        "collapsed": false
      },
      "outputs": [],
      "source": [
        "app.print_tree()"
      ]
    },
    {
      "cell_type": "markdown",
      "metadata": {},
      "source": [
        "Clean up the project\n====================\n"
      ]
    },
    {
      "cell_type": "code",
      "execution_count": null,
      "metadata": {
        "collapsed": false
      },
      "outputs": [],
      "source": [
        "# Save the project file\nmechdat_file = output_path / \"cantilever_beam_topology_optimization.mechdat\"\napp.save(str(mechdat_file))\n\n# Close the app\napp.close()\n\n# Delete the example files\ndelete_downloads()"
      ]
    }
  ],
  "metadata": {
    "kernelspec": {
      "display_name": "Python 3",
      "language": "python",
      "name": "python3"
    },
    "language_info": {
      "codemirror_mode": {
        "name": "ipython",
        "version": 3
      },
      "file_extension": ".py",
      "mimetype": "text/x-python",
      "name": "python",
      "nbconvert_exporter": "python",
      "pygments_lexer": "ipython3",
      "version": "3.12.12"
    }
  },
  "nbformat": 4,
  "nbformat_minor": 0
}