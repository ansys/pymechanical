{
  "cells": [
    {
      "cell_type": "markdown",
      "metadata": {},
      "source": [
        "Steady State Thermal Analysis of cooling holes on a representative model {#ref_cooling_holes_thermal_analysis}\n========================================================================\n\nThis example illustrates the process of adding a Steady State Thermal\nanalysis to a new standalone Mechanical session, followed by executing\nPython scripting commands to set boundary conditions and solve a thermal\nsimulation of a model with cooling holes. The scripts then assess the\nresults, including temperature plots of plates and fluid lines modeled\nwith Fluid116 elements.\n\nCooling holes are carefully designed small channels within turbine\nblades that release cool air, creating a protective layer on the\nblade\\'s surface to shield it from the intense heat of combustion gases.\nThis film cooling technique helps maintain optimal temperatures, boost\nturbine efficiency, and ensure safe operation. The size, shape, and\nlocation of these holes are crucial for their effectiveness and to\nprevent premature failure.\n\nThe model features two plates: one equipped with cooling holes and the\nother without them. Fluid116 elements simulate the flow network through\nthe holes without requiring the holes to be physically present in the\ngeometry.\n\nThe plates are constructed from structural steel, with air flowing\nthrough the holes. The simulation involves applying convection boundary\nconditions to the plate surfaces, temperature boundary conditions at the\nline vertices, and mass flow rate boundary conditions at the fluid\nlines. After solving the simulation, the results are visualized with\ntemperature plots, showing the temperature distribution on the plates\nand fluid lines using matplotlib.\n"
      ]
    },
    {
      "cell_type": "markdown",
      "metadata": {},
      "source": [
        "Import the necessary libraries\n==============================\n"
      ]
    },
    {
      "cell_type": "code",
      "execution_count": null,
      "metadata": {
        "collapsed": false
      },
      "outputs": [],
      "source": [
        "from pathlib import Path\nfrom typing import TYPE_CHECKING\n\nfrom matplotlib import image as mpimg, pyplot as plt\n\nfrom ansys.mechanical.core import App\nfrom ansys.mechanical.core.examples import delete_downloads, download_file\n\nif TYPE_CHECKING:\n    import Ansys"
      ]
    },
    {
      "cell_type": "markdown",
      "metadata": {},
      "source": [
        "Initialize the embedded application\n===================================\n"
      ]
    },
    {
      "cell_type": "code",
      "execution_count": null,
      "metadata": {
        "collapsed": false
      },
      "outputs": [],
      "source": [
        "app = App(globals=globals())\nprint(app)"
      ]
    },
    {
      "cell_type": "markdown",
      "metadata": {},
      "source": [
        "Create functions to set camera and display images\n=================================================\n"
      ]
    },
    {
      "cell_type": "code",
      "execution_count": null,
      "metadata": {
        "collapsed": false
      },
      "outputs": [],
      "source": [
        "# Set the path for the output files (images, gifs, mechdat)\noutput_path = Path.cwd() / \"out\"\n\n\ndef set_camera_and_display_image(\n    camera,\n    graphics,\n    graphics_image_export_settings,\n    image_output_path: Path,\n    image_name: str,\n) -> None:\n    \"\"\"Set the camera to fit the model and display the image.\n\n    Parameters\n    ----------\n    camera : Ansys.ACT.Common.Graphics.MechanicalCameraWrapper\n        The camera object to set the view.\n    graphics : Ansys.ACT.Common.Graphics.MechanicalGraphicsWrapper\n        The graphics object to export the image.\n    graphics_image_export_settings : Ansys.Mechanical.Graphics.GraphicsImageExportSettings\n        The settings for exporting the image.\n    image_output_path : Path\n        The path to save the exported image.\n    image_name : str\n        The name of the exported image file.\n    \"\"\"\n    # Set the camera to fit the mesh\n    camera.SetFit()\n    # Export the image with the specified settings\n    image_path = image_output_path / image_name\n    graphics.ExportImage(str(image_path), image_export_format, graphics_image_export_settings)\n    # Display the exported image\n    display_image(image_path)\n\n\ndef display_image(\n    image_path: str,\n    pyplot_figsize_coordinates: tuple = (16, 9),\n    plot_xticks: list = [],\n    plot_yticks: list = [],\n    plot_axis: str = \"off\",\n) -> None:\n    \"\"\"Display the image with the specified parameters.\n\n    Parameters\n    ----------\n    image_path : str\n        The path to the image file to display.\n    pyplot_figsize_coordinates : tuple\n        The size of the figure in inches (width, height).\n    plot_xticks : list\n        The x-ticks to display on the plot.\n    plot_yticks : list\n        The y-ticks to display on the plot.\n    plot_axis : str\n        The axis visibility setting ('on' or 'off').\n    \"\"\"\n    # Set the figure size based on the coordinates specified\n    plt.figure(figsize=pyplot_figsize_coordinates)\n    # Read the image from the file into an array\n    plt.imshow(mpimg.imread(image_path))\n    # Get or set the current tick locations and labels of the x-axis\n    plt.xticks(plot_xticks)\n    # Get or set the current tick locations and labels of the y-axis\n    plt.yticks(plot_yticks)\n    # Turn off the axis\n    plt.axis(plot_axis)\n    # Display the figure\n    plt.show()"
      ]
    },
    {
      "cell_type": "markdown",
      "metadata": {},
      "source": [
        "Download the required files\n===========================\n"
      ]
    },
    {
      "cell_type": "code",
      "execution_count": null,
      "metadata": {
        "collapsed": false
      },
      "outputs": [],
      "source": [
        "# Download the geometry file\ngeometry_path = download_file(\"cooling_holes_geometry.pmdb\", \"pymechanical\", \"embedding\")\n\n# Download the material file\nmat_path = download_file(\"cooling_holes_material_file.xml\", \"pymechanical\", \"embedding\")"
      ]
    },
    {
      "cell_type": "markdown",
      "metadata": {},
      "source": [
        "Configure graphics for image export\n===================================\n"
      ]
    },
    {
      "cell_type": "code",
      "execution_count": null,
      "metadata": {
        "collapsed": false
      },
      "outputs": [],
      "source": [
        "# Define the graphics and camera objects\ngraphics = app.Graphics\ncamera = graphics.Camera\n\n# Set the camera orientation to the isometric view and set the camera to fit the model\ncamera.SetSpecificViewOrientation(ViewOrientationType.Iso)\ncamera.SetFit()\n\n# Set the image export format and settings\nimage_export_format = GraphicsImageExportFormat.PNG\nsettings_720p = Ansys.Mechanical.Graphics.GraphicsImageExportSettings()\nsettings_720p.Resolution = (\n    Ansys.Mechanical.DataModel.Enums.GraphicsResolutionType.EnhancedResolution\n)\nsettings_720p.Background = Ansys.Mechanical.DataModel.Enums.GraphicsBackgroundType.White\nsettings_720p.Width = 1280\nsettings_720p.Height = 720\nsettings_720p.CurrentGraphicsDisplay = False\n\n# Define the model\nmodel = app.Model"
      ]
    },
    {
      "cell_type": "markdown",
      "metadata": {},
      "source": [
        "Define Python variables\n=======================\n\nStore all main tree nodes as variables\n"
      ]
    },
    {
      "cell_type": "code",
      "execution_count": null,
      "metadata": {
        "collapsed": false
      },
      "outputs": [],
      "source": [
        "geometry = model.Geometry\nmesh = model.Mesh\nmaterials = model.Materials\ncoordinate_systems = model.CoordinateSystems\nnamed_selections = model.NamedSelections"
      ]
    },
    {
      "cell_type": "markdown",
      "metadata": {},
      "source": [
        "Import the geometry\n===================\n"
      ]
    },
    {
      "cell_type": "code",
      "execution_count": null,
      "metadata": {
        "collapsed": false
      },
      "outputs": [],
      "source": [
        "# Add the geometry import to the geometry import group\ngeometry_import_group = model.GeometryImportGroup\ngeometry_import = geometry_import_group.AddGeometryImport()\n\n# Set the geometry import format and settings\ngeometry_import_format = Ansys.Mechanical.DataModel.Enums.GeometryImportPreference.Format.Automatic\ngeometry_import_preferences = Ansys.ACT.Mechanical.Utilities.GeometryImportPreferences()\ngeometry_import_preferences.ProcessNamedSelections = True\ngeometry_import_preferences.NamedSelectionKey = \"\"\ngeometry_import_preferences.ProcessMaterialProperties = True\ngeometry_import_preferences.ProcessCoordinateSystems = True\n\n# Import the geometry with the specified settings\ngeometry_import.Import(geometry_path, geometry_import_format, geometry_import_preferences)"
      ]
    },
    {
      "cell_type": "markdown",
      "metadata": {},
      "source": [
        "Define and select BIN units system\n==================================\n\nDefine the unit system for the model as Standard BIN (BTU, inch).\n"
      ]
    },
    {
      "cell_type": "code",
      "execution_count": null,
      "metadata": {
        "collapsed": false
      },
      "outputs": [],
      "source": [
        "app.ExtAPI.Application.ActiveUnitSystem = MechanicalUnitSystem.StandardBIN"
      ]
    },
    {
      "cell_type": "markdown",
      "metadata": {},
      "source": [
        "Assign materials\n================\n\nImport material from xml file and assign it to bodies\n"
      ]
    },
    {
      "cell_type": "code",
      "execution_count": null,
      "metadata": {
        "collapsed": false
      },
      "outputs": [],
      "source": [
        "materials.Import(mat_path)"
      ]
    },
    {
      "cell_type": "markdown",
      "metadata": {},
      "source": [
        "Assign geometrical and material properties\n==========================================\n\nSpecify section properties and assign them to geometry\n"
      ]
    },
    {
      "cell_type": "code",
      "execution_count": null,
      "metadata": {
        "collapsed": false
      },
      "outputs": [],
      "source": [
        "geometry.Activate()\nfluid_line1 = geometry.Children[2].Children[0]  # Activate fluid line Body\nfluid_line1.ModelType = PrototypeModelType.ModelPhysicsTypeFluid\nfluid_line1.Material = \"Air\"\nfluid_line1.FluidCrossArea = Quantity(3.1414, \"in in\")\n\nfluid_line2 = geometry.Children[3].Children[0]  # Activate fluid line Body\nfluid_line2.ModelType = PrototypeModelType.ModelPhysicsTypeFluid\nfluid_line2.Material = \"Air\"\nfluid_line2.FluidCrossArea = Quantity(3.1414, \"in in\")\n\n# Visualize the model in 3D\napp.plot()"
      ]
    },
    {
      "cell_type": "markdown",
      "metadata": {},
      "source": [
        "Define coordinate system \\~\\~\\~\\~\\~\\~\\~\\~\\~\\~\\~\\~\\~\\~\\~\\~\\~\\~\\~\\~\\~\\~\\~\nSpecify cylindrical coordinate system for applying boundary conditions\n"
      ]
    },
    {
      "cell_type": "code",
      "execution_count": null,
      "metadata": {
        "collapsed": false
      },
      "outputs": [],
      "source": [
        "coordinate_systems.Activate()\ncoordinate_system_101 = coordinate_systems.AddCoordinateSystem()\ncoordinate_system_101.CoordinateSystemType = CoordinateSystemTypeEnum.Cylindrical\ncoordinate_system_101.OriginDefineBy = CoordinateSystemAlignmentType.Component\ncoordinate_system_101.OriginDefineBy = CoordinateSystemAlignmentType.Fixed\ncoordinate_system_101.OriginX = Quantity(2, \"in\")\ncoordinate_system_101.OriginZ = Quantity(-0.5, \"in\")\ncoordinate_system_101.PrimaryAxis = CoordinateSystemAxisType.PositiveZAxis\ncoordinate_system_101.PrimaryAxisDefineBy = CoordinateSystemAlignmentType.GlobalY\ncoordinate_system_101.SecondaryAxisDefineBy = CoordinateSystemAlignmentType.GlobalZ"
      ]
    },
    {
      "cell_type": "markdown",
      "metadata": {},
      "source": [
        "Define named selections \\~\\~\\~\\~\\~\\~\\~\\~\\~\\~\\~\\~\\~\\~\\~\\~\\~\\~\\~\\~\\~\\~\nCreate named selections used in the model\n"
      ]
    },
    {
      "cell_type": "code",
      "execution_count": null,
      "metadata": {
        "collapsed": false
      },
      "outputs": [],
      "source": [
        "HoleFluidNodes_NS = [x for x in Tree.AllObjects if x.Name == \"HoleFluidNodes\"][0]\nBoth_Plates_NS = [x for x in Tree.AllObjects if x.Name == \"Both_Plates\"][0]\nFluid_Line1_NS = [x for x in Tree.AllObjects if x.Name == \"Fluid_Line1\"][0]\nFluid_Line2_NS = [x for x in Tree.AllObjects if x.Name == \"Fluid_Line2\"][0]\nLine1_vertex_NS = [x for x in Tree.AllObjects if x.Name == \"Line1_vertex\"][0]\nLine2_vertex_NS = [x for x in Tree.AllObjects if x.Name == \"Line2_vertex\"][0]\nBottom_Surface_Plates_NS = [x for x in Tree.AllObjects if x.Name == \"Bottom_Surface_Plates\"][0]\nTop_Surface_Plates_NS = [x for x in Tree.AllObjects if x.Name == \"Top_Surface_Plates\"][0]\nHole_Cyl_Surface_NS = [x for x in Tree.AllObjects if x.Name == \"Hole_Cyl_Surface\"][0]\nFluidlines_NS = [x for x in Tree.AllObjects if x.Name == \"Fluidlines\"][0]\n\n# Create named selection for elements at the hole\nnamed_selections = model.NamedSelections\nnamed_selection = named_selections.AddNamedSelection()\nnamed_selection.ScopingMethod = GeometryDefineByType.Worksheet\nnamed_selection.GenerationCriteria.Add(None)\nnamed_selection.GenerationCriteria[0].EntityType = SelectionType.MeshElement\nnamed_selection.GenerationCriteria[0].Criterion = SelectionCriterionType.LocationX\nnamed_selection.GenerationCriteria[0].Operator = SelectionOperatorType.LessThanOrEqual\nnamed_selection.GenerationCriteria[0].Value = Quantity(\"2.5e-2 [in]\")\ncyl_cs = DataModel.GetObjectsByName(\"Coordinate System\")\nnamed_selection.GenerationCriteria[0].CoordinateSystem = cyl_cs[0]\nnamed_selection.GenerationCriteria.Add(None)\nnamed_selection.GenerationCriteria[1].Action = SelectionActionType.Convert\nnamed_selection.GenerationCriteria[1].EntityType = SelectionType.MeshNode\nactive_sel = named_selection.GenerationCriteria[1]\nactive_sel.Active = False\nnamed_selection.Generate()\nnamed_selection.Name = r\"\"\"HoleElements\"\"\""
      ]
    },
    {
      "cell_type": "markdown",
      "metadata": {},
      "source": [
        "Define mesh controls and generate the mesh\n==========================================\n\nMesh the model\n"
      ]
    },
    {
      "cell_type": "code",
      "execution_count": null,
      "metadata": {
        "collapsed": false
      },
      "outputs": [],
      "source": [
        "mesh.Activate()\nmesh.ElementSize = Quantity(2.5, \"in\")\nmesh.UseAdaptiveSizing = False\nmesh.CaptureCurvature = True\nmesh.CaptureProximity = True\n\nautomatic_method = mesh.AddAutomaticMethod()\nautomatic_method.ScopingMethod = GeometryDefineByType.Component\nautomatic_method.NamedSelection = Both_Plates_NS\nautomatic_method.Method = MethodType.AllTriAllTet\nsizing = mesh.AddSizing()\nsizing.ScopingMethod = GeometryDefineByType.Component\nsizing.NamedSelection = Fluidlines_NS\nsizing.ElementSize = Quantity(1e-2, \"in\")\nmesh.GenerateMesh()"
      ]
    },
    {
      "cell_type": "markdown",
      "metadata": {},
      "source": [
        "Display the mesh\n"
      ]
    },
    {
      "cell_type": "code",
      "execution_count": null,
      "metadata": {
        "collapsed": false
      },
      "outputs": [],
      "source": [
        "# Activate the mesh for visualization\napp.Tree.Activate([mesh])\n\n# Set the camera to fit the model and export the image\nset_camera_and_display_image(camera, graphics, settings_720p, output_path, \"mesh.png\")"
      ]
    },
    {
      "cell_type": "markdown",
      "metadata": {},
      "source": [
        "Define analysis \\~\\~\\~\\~\\~\\~\\~\\~\\~\\~\\~\\~\\~\\~ Add a Steady State Thermal\nAnalysis\n"
      ]
    },
    {
      "cell_type": "code",
      "execution_count": null,
      "metadata": {
        "collapsed": false
      },
      "outputs": [],
      "source": [
        "steady_state_thermal = model.AddSteadyStateThermalAnalysis()\nsteady_state_thermal_analysis = model.Analyses[0].AnalysisSettings\n\n# Define the static structural analysis solution\nsolution = model.Analyses[0].Solution"
      ]
    },
    {
      "cell_type": "markdown",
      "metadata": {},
      "source": [
        "Apply loads and boundary conditions\n\\~\\~\\~\\~\\~\\~\\~\\~\\~\\~\\~\\~\\~\\~\\~\\~\\~\\~\\~\\~\\~\\~\\~\\~\\~\\~\\~\\~\\~\\~\\~\\~\\~\\~ Add\nconvection loads, body temperatures, and mass flow rates\n"
      ]
    },
    {
      "cell_type": "code",
      "execution_count": null,
      "metadata": {
        "collapsed": false
      },
      "outputs": [],
      "source": [
        "steady_state_thermal.Activate()\n\n# Apply convection at the surfaces\nconvection_1 = steady_state_thermal.AddConvection()\nconvection_1.Location = Top_Surface_Plates_NS\nconvection_1.FilmCoefficient = Quantity(2.9e-4, \"BTU sec^-1 in^-1 in^-1 F^-1\")\nconvection_1.AmbientTemperature = Quantity(1700, \"F\")\n\nconvection_2 = steady_state_thermal.AddConvection()\nconvection_2.Location = Bottom_Surface_Plates_NS\nconvection_2.FilmCoefficient = Quantity(5e-4, \"BTU sec^-1 in^-1 in^-1 F^-1\")\nconvection_2.AmbientTemperature = Quantity(900, \"F\")\n\nconvection_3 = steady_state_thermal.AddConvection()\nconvection_3.Location = Hole_Cyl_Surface_NS\nconvection_3.FilmCoefficient = Quantity(9.65e-4, \"BTU sec^-1 in^-1 in^-1 F^-1\")\nconvection_3.AmbientTemperature = Quantity(900, \"F\")\nconvection_3.HasFluidFlow = True\nconvection_3.DisplayConnectionLines = True\nconvection_3.FluidFlowSelection = Fluid_Line1_NS\n\n# Apply temperature at the line vertices\ntemperature_1 = steady_state_thermal.AddTemperature()\ntemperature_1.Location = Line1_vertex_NS\ntemperature_1.Magnitude = Quantity(900, \"F\")\n\ntemperature_2 = steady_state_thermal.AddTemperature()\ntemperature_2.Location = Line2_vertex_NS\ntemperature_2.Magnitude = Quantity(900, \"F\")\n\n# Apply mass flow rate at the fluid lines\nmass_flow_rate_1 = steady_state_thermal.AddMassFlowRate()\nmass_flow_rate_1.Location = Fluid_Line1_NS\nmass_flow_rate_1.Magnitude.Output.SetDiscreteValue(0, Quantity(9.9999e-4, \"lbm sec^-1\"))\n\nmass_flow_rate_2 = steady_state_thermal.AddMassFlowRate()\nmass_flow_rate_2.Location = Fluid_Line2_NS\nmass_flow_rate_2.Magnitude.Output.SetDiscreteValue(0, Quantity(9.9999e-4, \"lbm sec^-1\"))"
      ]
    },
    {
      "cell_type": "markdown",
      "metadata": {},
      "source": [
        "Insert command snippet to create surface effect elements at the hole\n====================================================================\n"
      ]
    },
    {
      "cell_type": "code",
      "execution_count": null,
      "metadata": {
        "collapsed": false
      },
      "outputs": [],
      "source": [
        "command_snippet = steady_state_thermal.AddCommandSnippet()\n\ncommand_snippet.Input = r\"\"\"\n\nFINISH\n\n/prep7\ncmsel,s,HoleElements\t!Select elements that represent where the hole is\nnsle,s\t\t\t\t\t!Select the nodes for these elements\ncm,holenodes,node\t\t!Store the nodes for these elements as a component\n\nesel,inve\t\t\t    !Switch selection to inverse of these elements\nesel,r,ename,,291\t    !Reselect just the solid elements\nnsle,s\t\t\t\t    !Select the nodes for these elements\ncmsel,r,holenodes\t    !reselect nodes from the holenodes component\n                        !results in nodes at the interfaces being selected\n\n/com, now nodes at the interface are selected and elements\n/com, (minus the elements where the hole would be) are selected\n/com, Create a new surface effect element type\n\n*get,maxetyp,ETYP,0,NUM,MAX\nnewsurftyp=maxetyp+1\nET,newsurftyp,SURF152\nmat,newsurftyp\ntype,newsurftyp\nreal,newsurftyp\nesurf,all\n\nKEYOPT,newsurftyp,5,1\nKEYOPT,newsurftyp,8,2\n\n/com, Now need to attach these new surface effect elements to the fluid 116 elements\n/com, that pass through where the hole will be store the element centroids of the new\n/com, surface effect elements using mask arrays. First get a list of the new surface\n/com, effect elements and the mask array\nesel,s,type,,newsurftyp\n*del,elemnums,,nopr\n*vget,elemnums,elem,,elist\n*del,elemmask,,nopr\n*vget,elemmask,elem,,esel\n\n/com, Get count of new surface effect elements and maxelement number for loops\n*get,surfelemcount,elem,,count\n*get,maxelem,elem,,num,maxd\n\n/com, store array of all centroids in model\n*del,elemcent,,nopr\n*dim,elemcent,array,maxelem,3\n*vget,elemcent(1,1),elem,,cent,x\n*vget,elemcent(1,2),elem,,cent,y\n*vget,elemcent(1,3),elem,,cent,z\n\n/com, Compress down to centroids of new surface effect elements\n*del,surfelemcent,,nopr\n*dim,surfelemcent,array,surfelemcount,3\n*vmask,elemmask\n*vfun,surfelemcent(1,1),comp,elemcent(1,1)\n*vmask,elemmask\n*vfun,surfelemcent(1,2),comp,elemcent(1,2)\n*vmask,elemmask\n*vfun,surfelemcent(1,3),comp,elemcent(1,3)\n*del,elemcent,,nopr\n*del,elemmask,,nopr\n\ncmsel,s,holefluidnodes\n\n/com, Loop through each surface effect element and find the closest fluid node\n/com, then assign it as the extra node for that surface effect element\ntotalarea=0\n*do,eliter,1,surfelemcount,1\n    closestnode=node(surfelemcent(eliter,1),surfelemcent(eliter,2),surfelemcent(eliter,3))\n    !For SURF152 elements with midside nodes (KEYOPT4=0)\n    emodif,elemnums(eliter),-9,closestnode\n    *get,elemarea,elem,elemnums(eliter),area\n    totalarea=totalarea+elemarea\n*enddo\n\n/com, Add convection boundary conditions to new surface effect elements.\n/com, Use expected hole surface area ratioed to actual surface effect element area\n/com, to dial in proper heat transfer\n/solu\nalls\nesel,s,type,,newsurftyp\nApplyHTC = 9.65e-4*778.2*12\t\t!Convert to proper units, in BIN so convert BTU to in-lbf\n\n/com, Calculate expected hole area (here it is calculated as a straight hole with known\n/com, diameter and length). Could also just hardcode in surface area of the hole\nHoleDia = 0.05\nHoleLength = 0.05\nHoleArea = 3.141592654*HoleDia*HoleLength\n\n/com, Adjust HTC by ratio of desired area vs actual surface effect area\nAdjustHTC = ApplyHTC*HoleArea/totalarea\nsf,all,conv,AdjustHTC,900\n\nalls \"\"\""
      ]
    },
    {
      "cell_type": "markdown",
      "metadata": {},
      "source": [
        "Insert results\n==============\n\nInsert temperature results\n"
      ]
    },
    {
      "cell_type": "code",
      "execution_count": null,
      "metadata": {
        "collapsed": false
      },
      "outputs": [],
      "source": [
        "temp_plot_both_plates = solution.AddTemperature()\ntemp_plot_both_plates.Location = Both_Plates_NS\ntemp_plot_fluidlines = solution.AddTemperature()\ntemp_plot_fluidlines.Location = Fluidlines_NS"
      ]
    },
    {
      "cell_type": "markdown",
      "metadata": {},
      "source": [
        "Solve\n=====\n"
      ]
    },
    {
      "cell_type": "code",
      "execution_count": null,
      "metadata": {
        "collapsed": false
      },
      "outputs": [],
      "source": [
        "solution.Solve(True)\nSTAT_SS = solution.Status"
      ]
    },
    {
      "cell_type": "markdown",
      "metadata": {},
      "source": [
        "Postprocessing\n==============\n"
      ]
    },
    {
      "cell_type": "code",
      "execution_count": null,
      "metadata": {
        "collapsed": false
      },
      "outputs": [],
      "source": [
        "camera.SetFit()\ncamera.SceneHeight = Quantity(2.0, \"in\")"
      ]
    },
    {
      "cell_type": "markdown",
      "metadata": {},
      "source": [
        "Display the temperature plots for both plates\n"
      ]
    },
    {
      "cell_type": "code",
      "execution_count": null,
      "metadata": {
        "collapsed": false
      },
      "outputs": [],
      "source": [
        "# Activate the temperature results for both plates\napp.Tree.Activate([temp_plot_both_plates])\n# Set the extra model display to no wireframe\ngraphics.ViewOptions.ResultPreference.ExtraModelDisplay = (\n    Ansys.Mechanical.DataModel.MechanicalEnums.Graphics.ExtraModelDisplay.NoWireframe\n)\n# Set the camera to fit the model and export the image\nimage_path = output_path / \"temp_plot_both_plates.png\"\ngraphics.ExportImage(str(image_path), image_export_format, settings_720p)\n# Display the exported image\ndisplay_image(image_path)"
      ]
    },
    {
      "cell_type": "markdown",
      "metadata": {},
      "source": [
        "Display the temperature plots for fluid lines\n"
      ]
    },
    {
      "cell_type": "code",
      "execution_count": null,
      "metadata": {
        "collapsed": false
      },
      "outputs": [],
      "source": [
        "# Activate the temperature results for fluid lines\napp.Tree.Activate([temp_plot_fluidlines])\n# Set the camera to fit the model and export the image\n# Set the camera to fit the model and export the image\nimage_path = output_path / \"temp_plot_fluidlines.png\"\ngraphics.ExportImage(str(image_path), image_export_format, settings_720p)\n# Display the exported image\ndisplay_image(image_path)"
      ]
    },
    {
      "cell_type": "markdown",
      "metadata": {},
      "source": [
        "Clean up the project\n====================\n"
      ]
    },
    {
      "cell_type": "code",
      "execution_count": null,
      "metadata": {
        "collapsed": false
      },
      "outputs": [],
      "source": [
        "# Save the project\nmechdat_file = output_path / \"cooling_holes_model.mechdat\"\napp.save(str(mechdat_file))\n\n# Close the app\napp.close()\n\n# Delete the example file\ndelete_downloads()"
      ]
    }
  ],
  "metadata": {
    "kernelspec": {
      "display_name": "Python 3",
      "language": "python",
      "name": "python3"
    },
    "language_info": {
      "codemirror_mode": {
        "name": "ipython",
        "version": 3
      },
      "file_extension": ".py",
      "mimetype": "text/x-python",
      "name": "python",
      "nbconvert_exporter": "python",
      "pygments_lexer": "ipython3",
      "version": "3.12.12"
    }
  },
  "nbformat": 4,
  "nbformat_minor": 0
}