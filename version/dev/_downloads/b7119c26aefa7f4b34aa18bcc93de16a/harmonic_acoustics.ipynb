{
  "cells": [
    {
      "cell_type": "markdown",
      "metadata": {},
      "source": [
        "Harmonic acoustic analysis {#ref_harmonic_acoustics}\n==========================\n\nThis example examines a harmonic acoustic analysis that uses surface\nvelocity to determine the steady-state response of a structure and the\nsurrounding fluid medium to loads and excitations that vary sinusoidally\nwith time.\n"
      ]
    },
    {
      "cell_type": "markdown",
      "metadata": {},
      "source": [
        "Import the necessary libraries\n==============================\n"
      ]
    },
    {
      "cell_type": "code",
      "execution_count": null,
      "metadata": {
        "collapsed": false
      },
      "outputs": [],
      "source": [
        "from pathlib import Path\nfrom typing import TYPE_CHECKING\n\nfrom matplotlib import image as mpimg, pyplot as plt\nfrom matplotlib.animation import FuncAnimation\nfrom PIL import Image\n\nfrom ansys.mechanical.core import App\nfrom ansys.mechanical.core.examples import delete_downloads, download_file\n\nif TYPE_CHECKING:\n    import Ansys"
      ]
    },
    {
      "cell_type": "markdown",
      "metadata": {},
      "source": [
        "Initialize the embedded application\n===================================\n"
      ]
    },
    {
      "cell_type": "code",
      "execution_count": null,
      "metadata": {
        "collapsed": false
      },
      "outputs": [],
      "source": [
        "app = App(globals=globals())\nprint(app)"
      ]
    },
    {
      "cell_type": "markdown",
      "metadata": {},
      "source": [
        "Create functions to set camera and display images\n=================================================\n"
      ]
    },
    {
      "cell_type": "code",
      "execution_count": null,
      "metadata": {
        "collapsed": false
      },
      "outputs": [],
      "source": [
        "# Set the path for the output files (images, gifs, mechdat)\noutput_path = Path.cwd() / \"out\"\n\n\ndef set_camera_and_display_image(\n    camera,\n    graphics,\n    graphics_image_export_settings,\n    image_output_path: Path,\n    image_name: str,\n    set_fit: bool = False,\n) -> None:\n    \"\"\"Set the camera to fit the model and display the image.\n\n    Parameters\n    ----------\n    camera : Ansys.ACT.Common.Graphics.MechanicalCameraWrapper\n        The camera object to set the view.\n    graphics : Ansys.ACT.Common.Graphics.MechanicalGraphicsWrapper\n        The graphics object to export the image.\n    graphics_image_export_settings : Ansys.Mechanical.Graphics.GraphicsImageExportSettings\n        The settings for exporting the image.\n    image_output_path : Path\n        The path to save the exported image.\n    image_name : str\n        The name of the exported image file.\n    \"\"\"\n    if set_fit:\n        # Set the camera to fit the mesh\n        camera.SetFit()\n    # Export the mesh image with the specified settings\n    image_path = image_output_path / image_name\n    graphics.ExportImage(str(image_path), image_export_format, graphics_image_export_settings)\n    # Display the exported mesh image\n    display_image(image_path)\n\n\ndef display_image(\n    image_path: str,\n    pyplot_figsize_coordinates: tuple = (16, 9),\n    plot_xticks: list = [],\n    plot_yticks: list = [],\n    plot_axis: str = \"off\",\n) -> None:\n    \"\"\"Display the image with the specified parameters.\n\n    Parameters\n    ----------\n    image_path : str\n        The path to the image file to display.\n    pyplot_figsize_coordinates : tuple\n        The size of the figure in inches (width, height).\n    plot_xticks : list\n        The x-ticks to display on the plot.\n    plot_yticks : list\n        The y-ticks to display on the plot.\n    plot_axis : str\n        The axis visibility setting ('on' or 'off').\n    \"\"\"\n    # Set the figure size based on the coordinates specified\n    plt.figure(figsize=pyplot_figsize_coordinates)\n    # Read the image from the file into an array\n    plt.imshow(mpimg.imread(image_path))\n    # Get or set the current tick locations and labels of the x-axis\n    plt.xticks(plot_xticks)\n    # Get or set the current tick locations and labels of the y-axis\n    plt.yticks(plot_yticks)\n    # Turn off the axis\n    plt.axis(plot_axis)\n    # Display the figure\n    plt.show()"
      ]
    },
    {
      "cell_type": "markdown",
      "metadata": {},
      "source": [
        "Configure graphics for image export\n===================================\n"
      ]
    },
    {
      "cell_type": "code",
      "execution_count": null,
      "metadata": {
        "collapsed": false
      },
      "outputs": [],
      "source": [
        "graphics = app.Graphics\ncamera = graphics.Camera\n\n# Set the camera orientation to isometric view\ncamera.SetSpecificViewOrientation(ViewOrientationType.Iso)\n\n# Set the image export format to PNG and configure the export settings\nimage_export_format = GraphicsImageExportFormat.PNG\nsettings_720p = Ansys.Mechanical.Graphics.GraphicsImageExportSettings()\nsettings_720p.Resolution = GraphicsResolutionType.EnhancedResolution\nsettings_720p.Background = GraphicsBackgroundType.White\nsettings_720p.Width = 1280\nsettings_720p.Height = 720\nsettings_720p.CurrentGraphicsDisplay = False\ncamera.Rotate(180, CameraAxisType.ScreenY)"
      ]
    },
    {
      "cell_type": "markdown",
      "metadata": {},
      "source": [
        "Download geometry and materials files\n=====================================\n"
      ]
    },
    {
      "cell_type": "code",
      "execution_count": null,
      "metadata": {
        "collapsed": false
      },
      "outputs": [],
      "source": [
        "# Download the geometry file from the ansys/example-data repository\ngeometry_path = download_file(\"C_GEOMETRY.agdb\", \"pymechanical\", \"embedding\")\n# Download the material file from the ansys/example-data repository\nmat_path = download_file(\"Air-material.xml\", \"pymechanical\", \"embedding\")"
      ]
    },
    {
      "cell_type": "markdown",
      "metadata": {},
      "source": [
        "Import the geometry\n===================\n"
      ]
    },
    {
      "cell_type": "code",
      "execution_count": null,
      "metadata": {
        "collapsed": false
      },
      "outputs": [],
      "source": [
        "# Define the model\nmodel = app.Model\n\n# Add the geometry import group and set its preferences\ngeometry_import = model.GeometryImportGroup.AddGeometryImport()\ngeometry_import_format = Ansys.Mechanical.DataModel.Enums.GeometryImportPreference.Format.Automatic\ngeometry_import_preferences = Ansys.ACT.Mechanical.Utilities.GeometryImportPreferences()\ngeometry_import_preferences.ProcessNamedSelections = True\n\n# Import the geometry file with the specified format and preferences\ngeometry_import.Import(geometry_path, geometry_import_format, geometry_import_preferences)\n\n# Define the geometry in the model\ngeometry = model.Geometry\n\n# Suppress the bodies at the specified geometry.Children indices\nsuppressed_indices = [0, 1, 2, 3, 4, 6, 9, 10]\nfor index, child in enumerate(geometry.Children):\n    if index in suppressed_indices:\n        child.Suppressed = True\n\n# Visualize the model in 3D\napp.plot()"
      ]
    },
    {
      "cell_type": "markdown",
      "metadata": {},
      "source": [
        "Store all variables necessary for analysis\n==========================================\n"
      ]
    },
    {
      "cell_type": "code",
      "execution_count": null,
      "metadata": {
        "collapsed": false
      },
      "outputs": [],
      "source": [
        "mesh = model.Mesh\nnamed_selection = model.NamedSelections\nconnection = model.Connections\ncoordinate_systems = model.CoordinateSystems\nmat = model.Materials"
      ]
    },
    {
      "cell_type": "markdown",
      "metadata": {},
      "source": [
        "Set up the analysis\n===================\n"
      ]
    },
    {
      "cell_type": "code",
      "execution_count": null,
      "metadata": {
        "collapsed": false
      },
      "outputs": [],
      "source": [
        "# Add the harmonic acoustics analysis and unit system\nmodel.AddHarmonicAcousticAnalysis()\napp.ExtAPI.Application.ActiveUnitSystem = MechanicalUnitSystem.StandardMKS"
      ]
    },
    {
      "cell_type": "markdown",
      "metadata": {},
      "source": [
        "Import and assign the materials\n"
      ]
    },
    {
      "cell_type": "code",
      "execution_count": null,
      "metadata": {
        "collapsed": false
      },
      "outputs": [],
      "source": [
        "mat.Import(mat_path)\n\n# Assign the material to the ``geometry.Children`` bodies that are not suppressed\nfor child in range(geometry.Children.Count):\n    if child not in suppressed_indices:\n        geometry.Children[child].Material = \"Air\""
      ]
    },
    {
      "cell_type": "markdown",
      "metadata": {},
      "source": [
        "Create a coordinate system\n"
      ]
    },
    {
      "cell_type": "code",
      "execution_count": null,
      "metadata": {
        "collapsed": false
      },
      "outputs": [],
      "source": [
        "lcs1 = coordinate_systems.AddCoordinateSystem()\nlcs1.OriginX = Quantity(\"0 [mm]\")\nlcs1.OriginY = Quantity(\"0 [mm]\")\nlcs1.OriginZ = Quantity(\"0 [mm]\")\nlcs1.PrimaryAxisDefineBy = CoordinateSystemAlignmentType.GlobalZ"
      ]
    },
    {
      "cell_type": "markdown",
      "metadata": {},
      "source": [
        "Generate the mesh\n"
      ]
    },
    {
      "cell_type": "code",
      "execution_count": null,
      "metadata": {
        "collapsed": false
      },
      "outputs": [],
      "source": [
        "mesh.ElementSize = Quantity(\"200 [mm]\")\nmesh.GenerateMesh()"
      ]
    },
    {
      "cell_type": "markdown",
      "metadata": {},
      "source": [
        "Create named selections\n=======================\n"
      ]
    },
    {
      "cell_type": "markdown",
      "metadata": {},
      "source": [
        "Create a function to set up named selections\n"
      ]
    },
    {
      "cell_type": "code",
      "execution_count": null,
      "metadata": {
        "collapsed": false
      },
      "outputs": [],
      "source": [
        "def setup_named_selection(scoping_method, name):\n    \"\"\"Create a named selection with the specified scoping method and name.\n\n    Parameters\n    ----------\n    scoping_method : GeometryDefineByType\n        The scoping method for the named selection.\n    name : str\n        The name of the named selection.\n\n    Returns\n    -------\n    Ansys.ACT.Automation.Mechanical.NamedSelection\n        The created named selection.\n    \"\"\"\n    ns = model.AddNamedSelection()\n    ns.ScopingMethod = scoping_method\n    ns.Name = name\n    return ns"
      ]
    },
    {
      "cell_type": "markdown",
      "metadata": {},
      "source": [
        "Create a function to add generation criteria to the named selection\n"
      ]
    },
    {
      "cell_type": "code",
      "execution_count": null,
      "metadata": {
        "collapsed": false
      },
      "outputs": [],
      "source": [
        "def add_generation_criteria(\n    named_selection,\n    value,\n    active=True,\n    action=SelectionActionType.Add,\n    entity_type=SelectionType.GeoFace,\n    criterion=SelectionCriterionType.Size,\n    operator=SelectionOperatorType.Equal,\n):\n    \"\"\"Add generation criteria to the named selection.\n\n    Parameters\n    ----------\n    named_selection : Ansys.ACT.Automation.Mechanical.NamedSelection\n        The named selection to which the criteria will be added.\n    value : Quantity\n        The value for the criteria.\n    active : bool\n        Whether the criteria is active.\n    action : SelectionActionType\n        The action type for the criteria.\n    entity_type : SelectionType\n        The entity type for the criteria.\n    criterion : SelectionCriterionType\n        The criterion type for the criteria.\n    operator : SelectionOperatorType\n        The operator for the criteria.\n    \"\"\"\n    generation_criteria = named_selection.GenerationCriteria\n    criteria = Ansys.ACT.Automation.Mechanical.NamedSelectionCriterion()\n    criteria.Active = active\n    criteria.Action = action\n    criteria.EntityType = entity_type\n    criteria.Criterion = criterion\n    criteria.Operator = operator\n    criteria.Value = value\n    generation_criteria.Add(criteria)"
      ]
    },
    {
      "cell_type": "markdown",
      "metadata": {},
      "source": [
        "Add a named selection for the surface velocity and define its generation\ncriteria\n"
      ]
    },
    {
      "cell_type": "code",
      "execution_count": null,
      "metadata": {
        "collapsed": false
      },
      "outputs": [],
      "source": [
        "sf_velo = setup_named_selection(GeometryDefineByType.Worksheet, \"sf_velo\")\nadd_generation_criteria(sf_velo, Quantity(\"3e6 [mm^2]\"))\nadd_generation_criteria(\n    sf_velo,\n    Quantity(\"15000 [mm]\"),\n    action=SelectionActionType.Filter,\n    criterion=SelectionCriterionType.LocationZ,\n)\n# Activate and generate the named selection\nsf_velo.Activate()\nsf_velo.Generate()"
      ]
    },
    {
      "cell_type": "markdown",
      "metadata": {},
      "source": [
        "Add named selections for the absorption faces and define its generation\ncriteria\n"
      ]
    },
    {
      "cell_type": "code",
      "execution_count": null,
      "metadata": {
        "collapsed": false
      },
      "outputs": [],
      "source": [
        "abs_face = setup_named_selection(GeometryDefineByType.Worksheet, \"abs_face\")\nadd_generation_criteria(abs_face, Quantity(\"1.5e6 [mm^2]\"))\nadd_generation_criteria(\n    abs_face,\n    Quantity(\"500 [mm]\"),\n    action=SelectionActionType.Filter,\n    criterion=SelectionCriterionType.LocationY,\n)\n# Activate and generate the named selection\nabs_face.Activate()\nabs_face.Generate()"
      ]
    },
    {
      "cell_type": "markdown",
      "metadata": {},
      "source": [
        "Add named selections for the pressure faces and define its generation\ncriteria\n"
      ]
    },
    {
      "cell_type": "code",
      "execution_count": null,
      "metadata": {
        "collapsed": false
      },
      "outputs": [],
      "source": [
        "pres_face = setup_named_selection(GeometryDefineByType.Worksheet, \"pres_face\")\nadd_generation_criteria(pres_face, Quantity(\"1.5e6 [mm^2]\"))\nadd_generation_criteria(\n    pres_face,\n    Quantity(\"4500 [mm]\"),\n    action=SelectionActionType.Filter,\n    criterion=SelectionCriterionType.LocationY,\n)\n# Activate and generate the named selection\npres_face.Activate()\npres_face.Generate()"
      ]
    },
    {
      "cell_type": "markdown",
      "metadata": {},
      "source": [
        "Add named selections for the acoustic region and define its generation\ncriteria\n"
      ]
    },
    {
      "cell_type": "code",
      "execution_count": null,
      "metadata": {
        "collapsed": false
      },
      "outputs": [],
      "source": [
        "acoustic_region = setup_named_selection(GeometryDefineByType.Worksheet, \"acoustic_region\")\nadd_generation_criteria(\n    acoustic_region,\n    8,\n    entity_type=SelectionType.GeoBody,\n    criterion=SelectionCriterionType.Type,\n)\n# Activate and generate the named selection\nacoustic_region.Activate()\nacoustic_region.Generate()"
      ]
    },
    {
      "cell_type": "markdown",
      "metadata": {},
      "source": [
        "Set up the analysis settings\n============================\n"
      ]
    },
    {
      "cell_type": "code",
      "execution_count": null,
      "metadata": {
        "collapsed": false
      },
      "outputs": [],
      "source": [
        "analysis_settings = model.Analyses[0].AnalysisSettings\nanalysis_settings.RangeMaximum = Quantity(\"100 [Hz]\")\nanalysis_settings.SolutionIntervals = 50\nanalysis_settings.CalculateVelocity = True\nanalysis_settings.CalculateEnergy = True\nanalysis_settings.CalculateVolumeEnergy = True"
      ]
    },
    {
      "cell_type": "markdown",
      "metadata": {},
      "source": [
        "Set the boundary conditions and load\n====================================\n"
      ]
    },
    {
      "cell_type": "code",
      "execution_count": null,
      "metadata": {
        "collapsed": false
      },
      "outputs": [],
      "source": [
        "# Get the harmonic acoustics analysis\nharmonic_acoustics = model.Analyses[0]"
      ]
    },
    {
      "cell_type": "markdown",
      "metadata": {},
      "source": [
        "Set the location for the acoustics region from the harmonic acoustics\nanalysis\n"
      ]
    },
    {
      "cell_type": "code",
      "execution_count": null,
      "metadata": {
        "collapsed": false
      },
      "outputs": [],
      "source": [
        "acoustics_region = [\n    child for child in harmonic_acoustics.Children if child.Name == \"Acoustics Region\"\n][0]\nacoustics_region.Location = acoustic_region"
      ]
    },
    {
      "cell_type": "markdown",
      "metadata": {},
      "source": [
        "Add a surface velocity boundary condition to the harmonic acoustics\nanalysis\n"
      ]
    },
    {
      "cell_type": "code",
      "execution_count": null,
      "metadata": {
        "collapsed": false
      },
      "outputs": [],
      "source": [
        "surface_velocity = harmonic_acoustics.AddAcousticSurfaceVelocity()\nsurface_velocity.Location = sf_velo\nsurface_velocity.Magnitude.Output.DiscreteValues = [Quantity(\"5000 [mm s-1]\")]"
      ]
    },
    {
      "cell_type": "markdown",
      "metadata": {},
      "source": [
        "Add an acoustic pressure boundary condition to the harmonic acoustics\nanalysis\n"
      ]
    },
    {
      "cell_type": "code",
      "execution_count": null,
      "metadata": {
        "collapsed": false
      },
      "outputs": [],
      "source": [
        "acoustic_pressure = harmonic_acoustics.AddAcousticPressure()\nacoustic_pressure.Location = pres_face\nacoustic_pressure.Magnitude = Quantity(\"1.5e-7 [MPa]\")"
      ]
    },
    {
      "cell_type": "markdown",
      "metadata": {},
      "source": [
        "Add an acoustic absorption surface to the harmonic acoustics analysis\n"
      ]
    },
    {
      "cell_type": "code",
      "execution_count": null,
      "metadata": {
        "collapsed": false
      },
      "outputs": [],
      "source": [
        "absorption_surface = harmonic_acoustics.AddAcousticAbsorptionSurface()\nabsorption_surface.Location = abs_face\nabsorption_surface.AbsorptionCoefficient.Output.DiscreteValues = [Quantity(\"0.02\")]\n\n# Activate the harmonic acoustics analysis\nharmonic_acoustics.Activate()\n# Set the camera to fit the mesh and export the image\nset_camera_and_display_image(\n    camera, graphics, settings_720p, output_path, \"bounday_conditions.png\", set_fit=True\n)"
      ]
    },
    {
      "cell_type": "markdown",
      "metadata": {},
      "source": [
        "Add results to the harmonic acoustics solution\n==============================================\n"
      ]
    },
    {
      "cell_type": "code",
      "execution_count": null,
      "metadata": {
        "collapsed": false
      },
      "outputs": [],
      "source": [
        "# Get the harmonic acoustics solution\nsolution = model.Analyses[0].Solution"
      ]
    },
    {
      "cell_type": "markdown",
      "metadata": {},
      "source": [
        "Add the acoustic pressure result\n"
      ]
    },
    {
      "cell_type": "code",
      "execution_count": null,
      "metadata": {
        "collapsed": false
      },
      "outputs": [],
      "source": [
        "acoustic_pressure_result_1 = solution.AddAcousticPressureResult()\nacoustic_pressure_result_1.By = SetDriverStyle.ResultSet\nacoustic_pressure_result_1.SetNumber = 25"
      ]
    },
    {
      "cell_type": "markdown",
      "metadata": {},
      "source": [
        "Add the acoustic total and directional velocity results\n"
      ]
    },
    {
      "cell_type": "code",
      "execution_count": null,
      "metadata": {
        "collapsed": false
      },
      "outputs": [],
      "source": [
        "# Add the acoustic total velocity result and set its frequency\nacoustic_total_velocity_1 = solution.AddAcousticTotalVelocityResult()\nacoustic_total_velocity_1.Frequency = Quantity(\"50 [Hz]\")\n\n# Add the acoustic directional velocity result and set its frequency and coordinate system\nacoustic_directional_velocity_1 = solution.AddAcousticDirectionalVelocityResult()\nacoustic_directional_velocity_1.Frequency = Quantity(\"50 [Hz]\")\nacoustic_directional_velocity_1.CoordinateSystem = lcs1\n\n# Add the acoustic total velocity result and set its orientation\nacoustic_directional_velocity_2 = solution.AddAcousticDirectionalVelocityResult()\nacoustic_directional_velocity_2.NormalOrientation = NormalOrientationType.ZAxis\nacoustic_directional_velocity_2.By = SetDriverStyle.ResultSet\nacoustic_directional_velocity_2.SetNumber = 25"
      ]
    },
    {
      "cell_type": "markdown",
      "metadata": {},
      "source": [
        "Add the acoustic sound pressure levels and frequency band responses\n"
      ]
    },
    {
      "cell_type": "code",
      "execution_count": null,
      "metadata": {
        "collapsed": false
      },
      "outputs": [],
      "source": [
        "# Add the acoustic sound pressure level and set its frequency\nacoustic_spl = solution.AddAcousticSoundPressureLevel()\nacoustic_spl.Frequency = Quantity(\"50 [Hz]\")\n\n# Add the acoustic A-weighted sound pressure level and set its frequency\nacoustic_a_spl = solution.AddAcousticAWeightedSoundPressureLevel()\nacoustic_a_spl.Frequency = Quantity(\"50 [Hz]\")\n\n# Add the acoustic frequency band sound pressure level\nacoustic_frq_band_spl = solution.AddAcousticFrequencyBandSPL()\n\n# Add the acoustic A-weighted frequency band sound pressure level\na_freq_band_spl = solution.AddAcousticFrequencyBandAWeightedSPL()\n\n# Add the acoustic velocity frequency response and set its orientation and location\nz_velocity_response = solution.AddAcousticVelocityFrequencyResponse()\nz_velocity_response.NormalOrientation = NormalOrientationType.ZAxis\n# Set the location to the pressure face named selection\nz_velocity_response.Location = pres_face"
      ]
    },
    {
      "cell_type": "markdown",
      "metadata": {},
      "source": [
        "Add the acoustic kinetic and potentional energy frequency responses\n"
      ]
    },
    {
      "cell_type": "code",
      "execution_count": null,
      "metadata": {
        "collapsed": false
      },
      "outputs": [],
      "source": [
        "# Add the acoustic kinetic energy frequency response and set its location\n# to the absorption face named selection\nke_response = solution.AddAcousticKineticEnergyFrequencyResponse()\nke_response.Location = abs_face\nke_display = ke_response.TimeHistoryDisplay\n\n# Add the acoustic potential energy frequency response and set its location\n# to the absorption face named selection\npe_response = solution.AddAcousticPotentialEnergyFrequencyResponse()\npe_response.Location = abs_face\npe_display = pe_response.TimeHistoryDisplay"
      ]
    },
    {
      "cell_type": "markdown",
      "metadata": {},
      "source": [
        "Create a function to set the properties of the acoustic velocity result\n"
      ]
    },
    {
      "cell_type": "code",
      "execution_count": null,
      "metadata": {
        "collapsed": false
      },
      "outputs": [],
      "source": [
        "def set_properties(\n    element,\n    frequency,\n    location,\n    amplitude=True,\n    normal_orientation=None,\n):\n    \"\"\"Set the properties of the acoustic velocity result.\"\"\"\n    element.Frequency = frequency\n    element.Amplitude = amplitude\n    if normal_orientation:\n        element.NormalOrientation = normal_orientation\n    # Set the location to the specified named selection\n    element.Location = location\n    return element"
      ]
    },
    {
      "cell_type": "markdown",
      "metadata": {},
      "source": [
        "Add the acoustic total and directional velocity results\n"
      ]
    },
    {
      "cell_type": "code",
      "execution_count": null,
      "metadata": {
        "collapsed": false
      },
      "outputs": [],
      "source": [
        "acoustic_total_velocity_2 = solution.AddAcousticTotalVelocityResult()\nset_properties(acoustic_total_velocity_2, Quantity(\"30 [Hz]\"), pres_face)\n\nacoustic_directional_velocity_3 = solution.AddAcousticDirectionalVelocityResult()\nset_properties(\n    acoustic_directional_velocity_3,\n    Quantity(\"10 [Hz]\"),\n    pres_face,\n    normal_orientation=NormalOrientationType.ZAxis,\n)"
      ]
    },
    {
      "cell_type": "markdown",
      "metadata": {},
      "source": [
        "Add the acoustic kinetic and potential energy results\n"
      ]
    },
    {
      "cell_type": "code",
      "execution_count": null,
      "metadata": {
        "collapsed": false
      },
      "outputs": [],
      "source": [
        "acoustic_ke = solution.AddAcousticKineticEnergy()\nset_properties(acoustic_ke, Quantity(\"68 [Hz]\"), abs_face)\n\nacoustic_pe = solution.AddAcousticPotentialEnergy()\nset_properties(acoustic_pe, Quantity(\"10 [Hz]\"), abs_face)"
      ]
    },
    {
      "cell_type": "markdown",
      "metadata": {},
      "source": [
        "Solve the harmonic acoustics analysis solution\n==============================================\n"
      ]
    },
    {
      "cell_type": "code",
      "execution_count": null,
      "metadata": {
        "collapsed": false
      },
      "outputs": [],
      "source": [
        "solution.Solve(True)"
      ]
    },
    {
      "cell_type": "markdown",
      "metadata": {},
      "source": [
        "Show messages\n=============\n"
      ]
    },
    {
      "cell_type": "code",
      "execution_count": null,
      "metadata": {
        "collapsed": false
      },
      "outputs": [],
      "source": [
        "# Print all messages from Mechanical\napp.messages.show()"
      ]
    },
    {
      "cell_type": "markdown",
      "metadata": {},
      "source": [
        "Postprocessing\n==============\n"
      ]
    },
    {
      "cell_type": "markdown",
      "metadata": {},
      "source": [
        "Display the total acoustic pressure result\n"
      ]
    },
    {
      "cell_type": "code",
      "execution_count": null,
      "metadata": {
        "collapsed": false
      },
      "outputs": [],
      "source": [
        "app.Tree.Activate([acoustic_pressure_result_1])\nset_camera_and_display_image(camera, graphics, settings_720p, output_path, \"pressure.png\")"
      ]
    },
    {
      "cell_type": "markdown",
      "metadata": {},
      "source": [
        "Display the total acoustic velocity\n"
      ]
    },
    {
      "cell_type": "code",
      "execution_count": null,
      "metadata": {
        "collapsed": false
      },
      "outputs": [],
      "source": [
        "app.Tree.Activate([acoustic_pressure_result_1])\nset_camera_and_display_image(camera, graphics, settings_720p, output_path, \"total_velocity.png\")"
      ]
    },
    {
      "cell_type": "markdown",
      "metadata": {},
      "source": [
        "Display the acoustic sound pressure level\n"
      ]
    },
    {
      "cell_type": "code",
      "execution_count": null,
      "metadata": {
        "collapsed": false
      },
      "outputs": [],
      "source": [
        "app.Tree.Activate([acoustic_spl])\nset_camera_and_display_image(\n    camera, graphics, settings_720p, output_path, \"sound_pressure_level.png\"\n)"
      ]
    },
    {
      "cell_type": "markdown",
      "metadata": {},
      "source": [
        "Display the acoustic directional velocity\n"
      ]
    },
    {
      "cell_type": "code",
      "execution_count": null,
      "metadata": {
        "collapsed": false
      },
      "outputs": [],
      "source": [
        "app.Tree.Activate([acoustic_directional_velocity_3])\nset_camera_and_display_image(\n    camera, graphics, settings_720p, output_path, \"directional_velocity.png\"\n)"
      ]
    },
    {
      "cell_type": "markdown",
      "metadata": {},
      "source": [
        "Display the acoustic kinetic energy\n"
      ]
    },
    {
      "cell_type": "code",
      "execution_count": null,
      "metadata": {
        "collapsed": false
      },
      "outputs": [],
      "source": [
        "app.Tree.Activate([acoustic_ke])\nset_camera_and_display_image(camera, graphics, settings_720p, output_path, \"kinetic_energy.png\")"
      ]
    },
    {
      "cell_type": "markdown",
      "metadata": {},
      "source": [
        "Create a function to update the animation frames\n"
      ]
    },
    {
      "cell_type": "code",
      "execution_count": null,
      "metadata": {
        "collapsed": false
      },
      "outputs": [],
      "source": [
        "def update_animation(frame: int) -> list[mpimg.AxesImage]:\n    \"\"\"Update the animation frame for the GIF.\n\n    Parameters\n    ----------\n    frame : int\n        The frame number to update the animation.\n\n    Returns\n    -------\n    list[mpimg.AxesImage]\n        A list containing the updated image for the animation.\n    \"\"\"\n    # Seeks to the given frame in this sequence file\n    gif.seek(frame)\n    # Set the image array to the current frame of the GIF\n    image.set_data(gif.convert(\"RGBA\"))\n    # Return the updated image\n    return [image]"
      ]
    },
    {
      "cell_type": "markdown",
      "metadata": {},
      "source": [
        "Display the total acoustic pressure animation\n"
      ]
    },
    {
      "cell_type": "code",
      "execution_count": null,
      "metadata": {
        "collapsed": false
      },
      "outputs": [],
      "source": [
        "# Set the animation export format to GIF\nanimation_export_format = Ansys.Mechanical.DataModel.Enums.GraphicsAnimationExportFormat.GIF\n\n# Configure the export settings for the animation\nsettings_720p = Ansys.Mechanical.Graphics.AnimationExportSettings()\nsettings_720p.Width = 1280\nsettings_720p.Height = 720\n\n# Export the animation of the acoustic pressure result\npress_gif = output_path / \"press.gif\"\nacoustic_pressure_result_1.ExportAnimation(str(press_gif), animation_export_format, settings_720p)\n\n# Open the GIF file and create an animation\ngif = Image.open(press_gif)\n# Set the subplots for the animation and turn off the axis\nfigure, axes = plt.subplots(figsize=(16, 9))\naxes.axis(\"off\")\n# Change the color of the image\nimage = axes.imshow(gif.convert(\"RGBA\"))\n\n# Create the animation using the figure, update_animation function, and the GIF frames\n# Set the interval between frames to 200 milliseconds and repeat the animation\nani = FuncAnimation(\n    figure,\n    update_animation,\n    frames=range(gif.n_frames),\n    interval=200,\n    repeat=True,\n    blit=True,\n)\n\n# Show the animation\nplt.show()"
      ]
    },
    {
      "cell_type": "markdown",
      "metadata": {},
      "source": [
        "Display the output file from the solve\n======================================\n"
      ]
    },
    {
      "cell_type": "code",
      "execution_count": null,
      "metadata": {
        "collapsed": false
      },
      "outputs": [],
      "source": [
        "# Get the working directory of the solve\nsolve_path = harmonic_acoustics.WorkingDir\nsolve_out_path = Path(solve_path) / \"solve.out\"\n\n# Check if the solve output file exists and write its contents to the console\nif solve_out_path:\n    with solve_out_path.open(\"rt\") as file:\n        for line in file:\n            print(line, end=\"\")"
      ]
    },
    {
      "cell_type": "markdown",
      "metadata": {},
      "source": [
        "Print the project tree\n======================\n"
      ]
    },
    {
      "cell_type": "code",
      "execution_count": null,
      "metadata": {
        "collapsed": false
      },
      "outputs": [],
      "source": [
        "app.print_tree()"
      ]
    },
    {
      "cell_type": "markdown",
      "metadata": {},
      "source": [
        "Clean up the project\n====================\n"
      ]
    },
    {
      "cell_type": "code",
      "execution_count": null,
      "metadata": {
        "collapsed": false
      },
      "outputs": [],
      "source": [
        "# Save the project\nmechdat_file = output_path / \"harmonic_acoustics.mechdat\"\napp.save(str(mechdat_file))\n\n# Close the app\napp.close()\n\n# Delete the example file\ndelete_downloads()"
      ]
    }
  ],
  "metadata": {
    "kernelspec": {
      "display_name": "Python 3",
      "language": "python",
      "name": "python3"
    },
    "language_info": {
      "codemirror_mode": {
        "name": "ipython",
        "version": 3
      },
      "file_extension": ".py",
      "mimetype": "text/x-python",
      "name": "python",
      "nbconvert_exporter": "python",
      "pygments_lexer": "ipython3",
      "version": "3.12.12"
    }
  },
  "nbformat": 4,
  "nbformat_minor": 0
}