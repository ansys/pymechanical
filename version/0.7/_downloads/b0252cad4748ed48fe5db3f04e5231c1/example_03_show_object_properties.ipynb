{
  "cells": [
    {
      "cell_type": "code",
      "execution_count": null,
      "metadata": {
        "collapsed": false
      },
      "outputs": [],
      "source": [
        "%matplotlib inline"
      ]
    },
    {
      "cell_type": "markdown",
      "metadata": {},
      "source": [
        "Display properties for an object {#ref_example_03_show_object_properties}\n================================\n\nUsing supplied files, this example shows how to display the properties\nthat you would see in an object\\'s details view.\n"
      ]
    },
    {
      "cell_type": "markdown",
      "metadata": {},
      "source": [
        "Download required files\n=======================\n\nDownload the required files. Print the file path for the MECHDATA file.\n"
      ]
    },
    {
      "cell_type": "code",
      "execution_count": null,
      "metadata": {
        "collapsed": false
      },
      "outputs": [],
      "source": [
        "import os\n\nfrom ansys.mechanical.core import launch_mechanical\nfrom ansys.mechanical.core.examples import download_file\n\nmechdat_path = download_file(\"example_03_simple_bolt_new.mechdat\", \"pymechanical\", \"00_basic\")\nprint(f\"Downloaded the MECHDAT file to: {mechdat_path}\")"
      ]
    },
    {
      "cell_type": "markdown",
      "metadata": {},
      "source": [
        "Launch Mechanical\n=================\n\nLaunch a new Mechanical session in batch, setting `cleanup_on_exit` to\n`False`. To close this Mechanical session when finished, this example\nmust call the `mechanical.exit()` method.\n"
      ]
    },
    {
      "cell_type": "code",
      "execution_count": null,
      "metadata": {
        "collapsed": false
      },
      "outputs": [],
      "source": [
        "mechanical = launch_mechanical(batch=True, cleanup_on_exit=False)\nprint(mechanical)"
      ]
    },
    {
      "cell_type": "markdown",
      "metadata": {},
      "source": [
        "Initialize the variable needed for this workflow\n================================================\n\nSet the path for the `mechdat_path` variable for later use. Make this\nvariable compatible for Windows, Linux, and Docker containers.\n"
      ]
    },
    {
      "cell_type": "code",
      "execution_count": null,
      "metadata": {
        "collapsed": false
      },
      "outputs": [],
      "source": [
        "project_directory = mechanical.project_directory\nprint(f\"project directory = {project_directory}\")\n\n# Upload the file to the project directory.\nmechanical.upload(file_name=mechdat_path, file_location_destination=project_directory)\n\n# Build the path relative to project directory.\nbase_name = os.path.basename(mechdat_path)\ncombined_path = os.path.join(project_directory, base_name)\nmechdat_path_modified = combined_path.replace(\"\\\\\", \"\\\\\\\\\")\nmechanical.run_python_script(f\"mechdat_path='{mechdat_path_modified}'\")\n\n# Verify the path.\nresult = mechanical.run_python_script(f\"mechdat_path\")\nprint(f\"MECHDATA file is stored on the server at: {result}\")"
      ]
    },
    {
      "cell_type": "markdown",
      "metadata": {},
      "source": [
        "Execute the script\n==================\n\nRun the Mechanical script to display the properties and their current\nvalues for the analysis object.\n"
      ]
    },
    {
      "cell_type": "code",
      "execution_count": null,
      "metadata": {
        "collapsed": false
      },
      "outputs": [],
      "source": [
        "result = mechanical.run_python_script(\n    \"\"\"\nimport json\n\nExtAPI.DataModel.Project.Open(mechdat_path)\n\nanalysisSettings = Model.Analyses[0].AnalysisSettings\nprops = {}\nif hasattr(analysisSettings,'VisibleProperties') != False:\n    for prop in analysisSettings.VisibleProperties:\n        props[prop.Caption] = prop.StringValue\n\njson.dumps(props, indent=1)\n\"\"\"\n)\nprint(f\"AnalysisSettings properties:\\n{result}\")"
      ]
    },
    {
      "cell_type": "markdown",
      "metadata": {},
      "source": [
        "Clear the data\n==============\n\nClear the data so it isn\\'t saved to the project.\n"
      ]
    },
    {
      "cell_type": "code",
      "execution_count": null,
      "metadata": {
        "collapsed": false
      },
      "outputs": [],
      "source": [
        "mechanical.clear()"
      ]
    },
    {
      "cell_type": "markdown",
      "metadata": {},
      "source": [
        "Close Mechanical\n================\n\nClose the Mechanical instance.\n"
      ]
    },
    {
      "cell_type": "code",
      "execution_count": null,
      "metadata": {
        "collapsed": false
      },
      "outputs": [],
      "source": [
        "mechanical.exit()"
      ]
    }
  ],
  "metadata": {
    "kernelspec": {
      "display_name": "Python 3",
      "language": "python",
      "name": "python3"
    },
    "language_info": {
      "codemirror_mode": {
        "name": "ipython",
        "version": 3
      },
      "file_extension": ".py",
      "mimetype": "text/x-python",
      "name": "python",
      "nbconvert_exporter": "python",
      "pygments_lexer": "ipython3",
      "version": "3.10.11"
    }
  },
  "nbformat": 4,
  "nbformat_minor": 0
}