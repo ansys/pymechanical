{
  "cells": [
    {
      "cell_type": "code",
      "execution_count": null,
      "metadata": {
        "collapsed": false
      },
      "outputs": [],
      "source": [
        "%matplotlib inline"
      ]
    },
    {
      "cell_type": "markdown",
      "metadata": {},
      "source": [
        "Static structural analysis {#ref_example_01_simple_structural_solve}\n==========================\n\nUsing supplied files, this example shows how to insert a static\nstructural analysis into a new Mechanical session and execute a sequence\nof Python scripting commands that define and solve the analysis.\nDeformation results are then reported.\n"
      ]
    },
    {
      "cell_type": "markdown",
      "metadata": {},
      "source": [
        "Download required files\n=======================\n\nDownload the required files. Print the file path for the geometry file.\n"
      ]
    },
    {
      "cell_type": "code",
      "execution_count": null,
      "metadata": {
        "collapsed": false
      },
      "outputs": [],
      "source": [
        "import os\n\nfrom ansys.mechanical.core import launch_mechanical\nfrom ansys.mechanical.core.examples import download_file\n\ngeometry_path = download_file(\"example_01_geometry.agdb\", \"pymechanical\", \"00_basic\")\nprint(f\"Downloaded the geometry file to: {geometry_path}\")"
      ]
    },
    {
      "cell_type": "markdown",
      "metadata": {},
      "source": [
        "Launch Mechanical\n=================\n\nLaunch a new Mechanical session in batch, setting `cleanup_on_exit` to\n`False`. To close this Mechanical session when finished, this example\nmust call the `mechanical.exit()` method.\n"
      ]
    },
    {
      "cell_type": "code",
      "execution_count": null,
      "metadata": {
        "collapsed": false
      },
      "outputs": [],
      "source": [
        "mechanical = launch_mechanical(batch=True, cleanup_on_exit=False)\nprint(mechanical)"
      ]
    },
    {
      "cell_type": "markdown",
      "metadata": {},
      "source": [
        "Initialize variable for workflow\n================================\n\nSet the `part_file_path` variable on the server for later use. Make this\nvariable compatible for Windows, Linux, and Docker containers.\n"
      ]
    },
    {
      "cell_type": "code",
      "execution_count": null,
      "metadata": {
        "collapsed": false
      },
      "outputs": [],
      "source": [
        "project_directory = mechanical.project_directory\nprint(f\"project directory = {project_directory}\")\n\n# Upload the file to the project directory.\nmechanical.upload(file_name=geometry_path, file_location_destination=project_directory)\n\n# Build the path relative to project directory.\nbase_name = os.path.basename(geometry_path)\ncombined_path = os.path.join(project_directory, base_name)\npart_file_path = combined_path.replace(\"\\\\\", \"\\\\\\\\\")\nmechanical.run_python_script(f\"part_file_path='{part_file_path}'\")\n\n# Verify the path\nresult = mechanical.run_python_script(\"part_file_path\")\nprint(f\"part_file_path on server: {result}\")"
      ]
    },
    {
      "cell_type": "markdown",
      "metadata": {},
      "source": [
        "Execute the script\n==================\n\nRun the Mechanical script to attach the geometry and set up and solve\nthe analysis.\n"
      ]
    },
    {
      "cell_type": "code",
      "execution_count": null,
      "metadata": {
        "collapsed": false
      },
      "outputs": [],
      "source": [
        "output = mechanical.run_python_script(\n    \"\"\"\nimport json\n\ngeometry_import_group_11 = Model.GeometryImportGroup\ngeometry_import_19 = geometry_import_group_11.AddGeometryImport()\n\ngeometry_import_19_format = Ansys.Mechanical.DataModel.Enums.GeometryImportPreference.\\\n    Format.Automatic\ngeometry_import_19_preferences = Ansys.ACT.Mechanical.Utilities.GeometryImportPreferences()\ngeometry_import_19_preferences.ProcessNamedSelections = True\ngeometry_import_19_preferences.ProcessCoordinateSystems = True\n\ngeometry_import_19.Import(part_file_path, geometry_import_19_format, geometry_import_19_preferences)\n\nModel.AddStaticStructuralAnalysis()\nSTAT_STRUC = Model.Analyses[0]\nCS_GRP = Model.CoordinateSystems\nANALYSIS_SETTINGS = STAT_STRUC.Children[0]\nSOLN= STAT_STRUC.Solution\n\n# Section 2 Set up the Unit System.\n\nExtAPI.Application.ActiveUnitSystem = MechanicalUnitSystem.StandardMKS\nExtAPI.Application.ActiveAngleUnit = AngleUnitType.Radian\n\n# Section 3 Named Selection and Coordinate System.\n\nNS1 = Model.NamedSelections.Children[0]\nNS2 = Model.NamedSelections.Children[1]\nNS3 = Model.NamedSelections.Children[2]\nNS4 = Model.NamedSelections.Children[3]\nGCS = CS_GRP.Children[0]\nLCS1 = CS_GRP.Children[1]\n\n# Section 4 Define remote point.\n\nRMPT_GRP = Model.RemotePoints\nRMPT_1 = RMPT_GRP.AddRemotePoint()\nRMPT_1.Location = NS1\nRMPT_1.XCoordinate=Quantity(\"7 [m]\")\nRMPT_1.YCoordinate=Quantity(\"0 [m]\")\nRMPT_1.ZCoordinate=Quantity(\"0 [m]\")\n\n#  Section 5 Define Mesh Settings.\n\nMSH = Model.Mesh\nMSH.ElementSize =Quantity(\"0.5 [m]\")\nMSH.GenerateMesh()\n\n#  Section 6 Define boundary conditions.\n\n# Insert FIXED Support\nFIX_SUP = STAT_STRUC.AddFixedSupport()\nFIX_SUP.Location = NS2\n\n# Insert Frictionless Support\nFRIC_SUP = STAT_STRUC.AddFrictionlessSupport()\nFRIC_SUP.Location = NS3\n\n#  Section 7 Define remote force.\n\nREM_FRC1 = STAT_STRUC.AddRemoteForce()\nREM_FRC1.Location = RMPT_1\nREM_FRC1.DefineBy =LoadDefineBy.Components\nREM_FRC1.XComponent.Output.DiscreteValues = [Quantity(\"1e10 [N]\")]\n\n#  Section 8 Define thermal condition.\n\nTHERM_COND = STAT_STRUC.AddThermalCondition()\nTHERM_COND.Location = NS4\nTHERM_COND.Magnitude.Output.DefinitionType=VariableDefinitionType.Formula\nTHERM_COND.Magnitude.Output.Formula=\"50*(20+z)\"\nTHERM_COND.XYZFunctionCoordinateSystem=LCS1\nTHERM_COND.RangeMinimum=Quantity(\"-20 [m]\")\nTHERM_COND.RangeMaximum=Quantity(\"1 [m]\")\n\n#  Section 9 Insert directional deformation.\n\nDIR_DEF = STAT_STRUC.Solution.AddDirectionalDeformation()\nDIR_DEF.Location = NS1\nDIR_DEF.NormalOrientation =NormalOrientationType.XAxis\n\n# Section 10 Add Total Deformation and force reaction probe\n\nTOT_DEF = STAT_STRUC.Solution.AddTotalDeformation()\n\n# Add Force Reaction\nFRC_REAC_PROBE = STAT_STRUC.Solution.AddForceReaction()\nFRC_REAC_PROBE.BoundaryConditionSelection = FIX_SUP\nFRC_REAC_PROBE.ResultSelection =ProbeDisplayFilter.XAxis\n\n# Section 11 Solve and get the results.\n\n# Solve Static Analysis\nSTAT_STRUC.Solution.Solve(True)\n\ndir_deformation_details = {\n\"Minimum\": str(DIR_DEF.Minimum),\n\"Maximum\": str(DIR_DEF.Maximum),\n\"Average\": str(DIR_DEF.Average),\n}\n\njson.dumps(dir_deformation_details)\n\"\"\"\n)\nprint(output)"
      ]
    },
    {
      "cell_type": "markdown",
      "metadata": {},
      "source": [
        "Download output file from solve and print contents\n==================================================\n\nDownload the `solve.out` file from the server to the current working\ndirectory and print the contents. Remove the `solve.out` file.\n"
      ]
    },
    {
      "cell_type": "code",
      "execution_count": null,
      "metadata": {
        "collapsed": false
      },
      "outputs": [],
      "source": [
        "def get_solve_out_path(mechanical):\n    solve_out_path = \"\"\n    for file_path in mechanical.list_files():\n        if file_path.find(\"solve.out\") != -1:\n            solve_out_path = file_path\n            break\n\n    return solve_out_path\n\n\ndef write_file_contents_to_console(path):\n    with open(path, \"rt\") as file:\n        for line in file:\n            print(line, end=\"\")\n\n\nsolve_out_path = get_solve_out_path(mechanical)\n\nif solve_out_path != \"\":\n    current_working_directory = os.getcwd()\n\n    mechanical.download(solve_out_path, target_dir=current_working_directory)\n    solve_out_local_path = os.path.join(current_working_directory, \"solve.out\")\n\n    write_file_contents_to_console(solve_out_local_path)\n\n    os.remove(solve_out_local_path)"
      ]
    },
    {
      "cell_type": "markdown",
      "metadata": {},
      "source": [
        "Close Mechanical\n================\n\nClose the Mechanical instance.\n"
      ]
    },
    {
      "cell_type": "code",
      "execution_count": null,
      "metadata": {
        "collapsed": false
      },
      "outputs": [],
      "source": [
        "mechanical.exit()"
      ]
    }
  ],
  "metadata": {
    "kernelspec": {
      "display_name": "Python 3",
      "language": "python",
      "name": "python3"
    },
    "language_info": {
      "codemirror_mode": {
        "name": "ipython",
        "version": 3
      },
      "file_extension": ".py",
      "mimetype": "text/x-python",
      "name": "python",
      "nbconvert_exporter": "python",
      "pygments_lexer": "ipython3",
      "version": "3.10.11"
    }
  },
  "nbformat": 4,
  "nbformat_minor": 0
}