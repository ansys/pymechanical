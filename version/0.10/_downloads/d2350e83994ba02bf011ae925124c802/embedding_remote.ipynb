{
  "cells": [
    {
      "cell_type": "markdown",
      "metadata": {},
      "source": [
        "Remote & Embedding Example {#ref_embedding_remote}\n==========================\n\nThis code, which uses the same example, first demonstrates how to use a\nremote session and then demonstrates how to use an embedding instance.\n"
      ]
    },
    {
      "cell_type": "markdown",
      "metadata": {},
      "source": [
        "Remote Session\n==============\n"
      ]
    },
    {
      "cell_type": "markdown",
      "metadata": {},
      "source": [
        "Download required files\n=======================\n\nDownload the required files. Print the file paths for the geometry file\nand script file.\n"
      ]
    },
    {
      "cell_type": "code",
      "execution_count": null,
      "metadata": {
        "collapsed": false
      },
      "outputs": [],
      "source": [
        "import os\n\nfrom ansys.mechanical.core import launch_mechanical\nfrom ansys.mechanical.core.examples import download_file\n\ngeometry_path = download_file(\"Valve.pmdb\", \"pymechanical\", \"embedding\")\nprint(f\"Downloaded the geometry file to: {geometry_path}\")\n\nscript_file_path = download_file(\"remote_script.py\", \"pymechanical\", \"embedding\")\nprint(f\"Downloaded the script file to: {script_file_path}\")"
      ]
    },
    {
      "cell_type": "markdown",
      "metadata": {},
      "source": [
        "Launch Mechanical\n=================\n\nLaunch a new Mechanical session in batch, setting `cleanup_on_exit` to\n`False`. To close this Mechanical session when finished, this example\nmust call the `mechanical.exit()` method.\n"
      ]
    },
    {
      "cell_type": "code",
      "execution_count": null,
      "metadata": {
        "collapsed": false
      },
      "outputs": [],
      "source": [
        "import os\n\nfrom ansys.mechanical.core import launch_mechanical\n\n# Launch mechanical\nmechanical = launch_mechanical(batch=True, loglevel=\"DEBUG\")\nprint(mechanical)"
      ]
    },
    {
      "cell_type": "markdown",
      "metadata": {},
      "source": [
        "Initialize variable for workflow\n================================\n\nSet the `part_file_path` variable on the server for later use. Make this\nvariable compatible for Windows, Linux, and Docker containers.\n"
      ]
    },
    {
      "cell_type": "code",
      "execution_count": null,
      "metadata": {
        "collapsed": false
      },
      "outputs": [],
      "source": [
        "project_directory = mechanical.project_directory\nprint(f\"project directory = {project_directory}\")\n\n# Upload the file to the project directory.\nmechanical.upload(file_name=geometry_path, file_location_destination=project_directory)\n\n# Build the path relative to project directory.\nbase_name = os.path.basename(geometry_path)\ncombined_path = os.path.join(project_directory, base_name)\npart_file_path = combined_path.replace(\"\\\\\", \"\\\\\\\\\")\nmechanical.run_python_script(f\"part_file_path='{part_file_path}'\")\n\n# Verify the path\nresult = mechanical.run_python_script(\"part_file_path\")\nprint(f\"part_file_path on server: {result}\")"
      ]
    },
    {
      "cell_type": "markdown",
      "metadata": {},
      "source": [
        "Run mechanical automation script\n================================\n\nRun remote\\_script.py in the mechanical remote session.\n"
      ]
    },
    {
      "cell_type": "code",
      "execution_count": null,
      "metadata": {
        "collapsed": false
      },
      "outputs": [],
      "source": [
        "mechanical.run_python_script_from_file(script_file_path)"
      ]
    },
    {
      "cell_type": "markdown",
      "metadata": {},
      "source": [
        "Get list of generated files\n===========================\n"
      ]
    },
    {
      "cell_type": "code",
      "execution_count": null,
      "metadata": {
        "collapsed": false
      },
      "outputs": [],
      "source": [
        "list_files = mechanical.list_files()\nfor file in list_files:\n    print(file)"
      ]
    },
    {
      "cell_type": "markdown",
      "metadata": {},
      "source": [
        "Write the file contents to console\n==================================\n"
      ]
    },
    {
      "cell_type": "code",
      "execution_count": null,
      "metadata": {
        "collapsed": false
      },
      "outputs": [],
      "source": [
        "def write_file_contents_to_console(path, number_lines=-1):\n    count = 1\n    with open(path, \"rt\") as file:\n        for line in file:\n            if number_lines == -1 or count <= number_lines:\n                print(line, end=\"\")\n                count = count + 1\n            else:\n                break"
      ]
    },
    {
      "cell_type": "markdown",
      "metadata": {},
      "source": [
        "Download files back to local working directory\n==============================================\n"
      ]
    },
    {
      "cell_type": "code",
      "execution_count": null,
      "metadata": {
        "collapsed": false
      },
      "outputs": [],
      "source": [
        "dest_dir = \"download\"\ndest_dir = os.path.join(os.getcwd(), dest_dir)\nfor file in list_files:\n    downloaded = mechanical.download(file, target_dir=dest_dir)\n    if file.endswith(\".out\"):\n        print(\"contents of \", downloaded, \" : \")\n        write_file_contents_to_console(downloaded[0], number_lines=-1)"
      ]
    },
    {
      "cell_type": "markdown",
      "metadata": {},
      "source": [
        "Exit remote session\n===================\n\nClose the Mechanical instance.\n"
      ]
    },
    {
      "cell_type": "code",
      "execution_count": null,
      "metadata": {
        "collapsed": false
      },
      "outputs": [],
      "source": [
        "mechanical.exit()"
      ]
    },
    {
      "cell_type": "markdown",
      "metadata": {},
      "source": [
        "Embedded Instance\n=================\n"
      ]
    },
    {
      "cell_type": "markdown",
      "metadata": {},
      "source": [
        "Download the geometry file\n==========================\n\nDownload Valve.pmdb.\n"
      ]
    },
    {
      "cell_type": "code",
      "execution_count": null,
      "metadata": {
        "collapsed": false
      },
      "outputs": [],
      "source": [
        "import os\n\nimport ansys.mechanical.core as mech\nfrom ansys.mechanical.core.examples import download_file\n\ngeometry_path = download_file(\"Valve.pmdb\", \"pymechanical\", \"embedding\")\nprint(f\"Downloaded the geometry file to: {geometry_path}\")"
      ]
    },
    {
      "cell_type": "markdown",
      "metadata": {},
      "source": [
        "Embed Mechanical and set global variables\n=========================================\n\nFind the mechanical installation path & version. Open an embedded\ninstance of Mechanical and set global variables.\n"
      ]
    },
    {
      "cell_type": "code",
      "execution_count": null,
      "metadata": {
        "collapsed": false
      },
      "outputs": [],
      "source": [
        "app = mech.App()\nglobals().update(mech.global_variables(app))\nprint(app)"
      ]
    },
    {
      "cell_type": "markdown",
      "metadata": {},
      "source": [
        "Add Static Analysis\n===================\n\nAdd static analysis to the Model.\n"
      ]
    },
    {
      "cell_type": "code",
      "execution_count": null,
      "metadata": {
        "collapsed": false
      },
      "outputs": [],
      "source": [
        "analysis = Model.AddStaticStructuralAnalysis()"
      ]
    },
    {
      "cell_type": "markdown",
      "metadata": {},
      "source": [
        "Import geometry\n===============\n"
      ]
    },
    {
      "cell_type": "code",
      "execution_count": null,
      "metadata": {
        "collapsed": false
      },
      "outputs": [],
      "source": [
        "geometry_file = geometry_path\ngeometry_import = Model.GeometryImportGroup.AddGeometryImport()\ngeometry_import_format = Ansys.Mechanical.DataModel.Enums.GeometryImportPreference.Format.Automatic\ngeometry_import_preferences = Ansys.ACT.Mechanical.Utilities.GeometryImportPreferences()\ngeometry_import_preferences.ProcessNamedSelections = True\ngeometry_import.Import(geometry_file, geometry_import_format, geometry_import_preferences)"
      ]
    },
    {
      "cell_type": "markdown",
      "metadata": {},
      "source": [
        "Assign material\n===============\n"
      ]
    },
    {
      "cell_type": "code",
      "execution_count": null,
      "metadata": {
        "collapsed": false
      },
      "outputs": [],
      "source": [
        "matAssignment = Model.Materials.AddMaterialAssignment()\ntempSel = ExtAPI.SelectionManager.CreateSelectionInfo(\n    Ansys.ACT.Interfaces.Common.SelectionTypeEnum.GeometryEntities\n)\nbodies = [\n    body\n    for body in ExtAPI.DataModel.Project.Model.Geometry.GetChildren(\n        Ansys.Mechanical.DataModel.Enums.DataModelObjectCategory.Body, True\n    )\n]\ngeobodies = [body.GetGeoBody() for body in bodies]\nids = System.Collections.Generic.List[System.Int32]()\n[ids.Add(item.Id) for item in geobodies]\ntempSel.Ids = ids\nmatAssignment.Location = tempSel\nmatAssignment.Material = \"Structural Steel\""
      ]
    },
    {
      "cell_type": "markdown",
      "metadata": {},
      "source": [
        "Define mesh settings\n====================\n"
      ]
    },
    {
      "cell_type": "code",
      "execution_count": null,
      "metadata": {
        "collapsed": false
      },
      "outputs": [],
      "source": [
        "mesh = Model.Mesh\nmesh.ElementSize = Quantity(\"25 [mm]\")\nmesh.GenerateMesh()"
      ]
    },
    {
      "cell_type": "markdown",
      "metadata": {},
      "source": [
        "Define boundary conditions\n==========================\n"
      ]
    },
    {
      "cell_type": "code",
      "execution_count": null,
      "metadata": {
        "collapsed": false
      },
      "outputs": [],
      "source": [
        "fixedSupport = analysis.AddFixedSupport()\nfixedSupport.Location = ExtAPI.DataModel.GetObjectsByName(\"NSFixedSupportFaces\")[0]\n\nfrictionlessSupport = analysis.AddFrictionlessSupport()\nfrictionlessSupport.Location = ExtAPI.DataModel.GetObjectsByName(\"NSFrictionlessSupportFaces\")[0]\n\npressure = analysis.AddPressure()\npressure.Location = ExtAPI.DataModel.GetObjectsByName(\"NSInsideFaces\")[0]\n\ninputs_quantities = [Quantity(\"0 [s]\"), Quantity(\"1 [s]\")]\noutput_quantities = [Quantity(\"0 [Pa]\"), Quantity(\"15 [MPa]\")]\n\ninputs_quantities_2 = System.Collections.Generic.List[Ansys.Core.Units.Quantity]()\n[inputs_quantities_2.Add(item) for item in inputs_quantities]\n\noutput_quantities_2 = System.Collections.Generic.List[Ansys.Core.Units.Quantity]()\n[output_quantities_2.Add(item) for item in output_quantities]\n\npressure.Magnitude.Inputs[0].DiscreteValues = inputs_quantities_2\npressure.Magnitude.Output.DiscreteValues = output_quantities_2"
      ]
    },
    {
      "cell_type": "markdown",
      "metadata": {},
      "source": [
        "Solve model\n===========\n"
      ]
    },
    {
      "cell_type": "code",
      "execution_count": null,
      "metadata": {
        "collapsed": false
      },
      "outputs": [],
      "source": [
        "Model.Solve()"
      ]
    },
    {
      "cell_type": "markdown",
      "metadata": {},
      "source": [
        "Add results\n===========\n"
      ]
    },
    {
      "cell_type": "code",
      "execution_count": null,
      "metadata": {
        "collapsed": false
      },
      "outputs": [],
      "source": [
        "solution = analysis.Solution\nsolution.AddTotalDeformation()\nsolution.AddEquivalentStress()\nsolution.EvaluateAllResults()"
      ]
    },
    {
      "cell_type": "markdown",
      "metadata": {},
      "source": [
        "Save model\n==========\n"
      ]
    },
    {
      "cell_type": "code",
      "execution_count": null,
      "metadata": {
        "collapsed": false
      },
      "outputs": [],
      "source": [
        "project_directory = ExtAPI.DataModel.Project.ProjectDirectory\nprint(f\"project directory = {project_directory}\")\nExtAPI.DataModel.Project.SaveAs(os.path.join(project_directory, \"file.mechdb\"))"
      ]
    },
    {
      "cell_type": "markdown",
      "metadata": {},
      "source": [
        "Export result values to a text file\n===================================\n"
      ]
    },
    {
      "cell_type": "code",
      "execution_count": null,
      "metadata": {
        "collapsed": false
      },
      "outputs": [],
      "source": [
        "fileExtension = r\".txt\"\nresults = solution.GetChildren(\n    Ansys.Mechanical.DataModel.Enums.DataModelObjectCategory.Result, True\n)\n\nfor result in results:\n    fileName = str(result.Name)\n    print(f\"filename: {fileName}\")\n    path = os.path.join(project_directory, fileName + fileExtension)\n    print(path)\n    result.ExportToTextFile(f\"{path}\")\n    print(\"Exported Text file Contents\", path)\n    try:\n        write_file_contents_to_console(path, number_lines=20)\n    except:\n        print(os.listdir(project_directory))\n\napp.close()"
      ]
    }
  ],
  "metadata": {
    "kernelspec": {
      "display_name": "Python 3",
      "language": "python",
      "name": "python3"
    },
    "language_info": {
      "codemirror_mode": {
        "name": "ipython",
        "version": 3
      },
      "file_extension": ".py",
      "mimetype": "text/x-python",
      "name": "python",
      "nbconvert_exporter": "python",
      "pygments_lexer": "ipython3",
      "version": "3.10.14"
    }
  },
  "nbformat": 4,
  "nbformat_minor": 0
}