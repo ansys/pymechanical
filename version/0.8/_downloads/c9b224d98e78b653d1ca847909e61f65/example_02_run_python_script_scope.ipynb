{
  "cells": [
    {
      "cell_type": "markdown",
      "metadata": {},
      "source": [
        "Test variable and function scope {#ref_example_02_run_python_script_scope}\n================================\n\nThis example calls the `run_python_script` method and checks the\nvariable and function scope between calls.\n"
      ]
    },
    {
      "cell_type": "markdown",
      "metadata": {},
      "source": [
        "Launch Mechanical\n=================\n\nLaunch a new Mechanical session in batch, setting `cleanup_on_exit` to\n`False`. To close this Mechanical session when finished, this example\nmust call the `mechanical.exit()` method.\n"
      ]
    },
    {
      "cell_type": "code",
      "execution_count": null,
      "metadata": {
        "collapsed": false
      },
      "outputs": [],
      "source": [
        "from ansys.mechanical.core import launch_mechanical\n\nmechanical = launch_mechanical(batch=True, cleanup_on_exit=False)\nprint(mechanical)"
      ]
    },
    {
      "cell_type": "markdown",
      "metadata": {},
      "source": [
        "Set variable\n============\n\nRun the script to assign a value to a variable.\n"
      ]
    },
    {
      "cell_type": "code",
      "execution_count": null,
      "metadata": {
        "collapsed": false
      },
      "outputs": [],
      "source": [
        "output = mechanical.run_python_script(\n    \"\"\"\nx = 10\nx\n\"\"\"\n)\nprint(f\"x = {output}\")"
      ]
    },
    {
      "cell_type": "markdown",
      "metadata": {},
      "source": [
        "Access the variable in the next call\n====================================\n\nRun the script to change the variable value.\n"
      ]
    },
    {
      "cell_type": "code",
      "execution_count": null,
      "metadata": {
        "collapsed": false
      },
      "outputs": [],
      "source": [
        "output = mechanical.run_python_script(\n    \"\"\"\nx = x * 2\nx\n\"\"\"\n)\nprint(f\"x = {output}\")"
      ]
    },
    {
      "cell_type": "markdown",
      "metadata": {},
      "source": [
        "Define function\n===============\n\nRun the script to define a function and access the variable defined in\nthe previous call.\n"
      ]
    },
    {
      "cell_type": "code",
      "execution_count": null,
      "metadata": {
        "collapsed": false
      },
      "outputs": [],
      "source": [
        "output = mechanical.run_python_script(\n    \"\"\"\ndef multiply_by_10():\n    return x*10\n\nmultiply_by_10()\n\"\"\"\n)\nprint(f\"output = {output}\")"
      ]
    },
    {
      "cell_type": "markdown",
      "metadata": {},
      "source": [
        "Access the function\n===================\n\nRun the script to access the function defined in the previous call.\n"
      ]
    },
    {
      "cell_type": "code",
      "execution_count": null,
      "metadata": {
        "collapsed": false
      },
      "outputs": [],
      "source": [
        "output = mechanical.run_python_script(\n    \"\"\"\nmultiply_by_10() * 2\n\"\"\"\n)\nprint(f\"output = {output}\")"
      ]
    },
    {
      "cell_type": "markdown",
      "metadata": {},
      "source": [
        "Close Mechanical\n================\n\nClose the Mechanical instance.\n"
      ]
    },
    {
      "cell_type": "code",
      "execution_count": null,
      "metadata": {
        "collapsed": false
      },
      "outputs": [],
      "source": [
        "mechanical.exit()"
      ]
    }
  ],
  "metadata": {
    "kernelspec": {
      "display_name": "Python 3",
      "language": "python",
      "name": "python3"
    },
    "language_info": {
      "codemirror_mode": {
        "name": "ipython",
        "version": 3
      },
      "file_extension": ".py",
      "mimetype": "text/x-python",
      "name": "python",
      "nbconvert_exporter": "python",
      "pygments_lexer": "ipython3",
      "version": "3.10.11"
    }
  },
  "nbformat": 4,
  "nbformat_minor": 0
}