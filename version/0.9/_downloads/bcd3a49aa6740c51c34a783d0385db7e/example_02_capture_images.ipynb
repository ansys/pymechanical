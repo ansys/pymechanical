{
  "cells": [
    {
      "cell_type": "markdown",
      "metadata": {},
      "source": [
        "Capture images after a solve {#ref_example_02_capture_images}\n============================\n\nUsing supplied files, this example shows how to resume a MECHDAT file\nand capture the images of all results in a folder on the disk.\n"
      ]
    },
    {
      "cell_type": "markdown",
      "metadata": {},
      "source": [
        "Download required files\n=======================\n\nDownload the required files. Print the file paths for the MECHDAT file\nand script files.\n"
      ]
    },
    {
      "cell_type": "code",
      "execution_count": null,
      "metadata": {
        "collapsed": false
      },
      "outputs": [],
      "source": [
        "import os\n\nfrom matplotlib import image as mpimg\nfrom matplotlib import pyplot as plt\n\nfrom ansys.mechanical.core import launch_mechanical\nfrom ansys.mechanical.core.examples import download_file\n\nmechdat_path = download_file(\"example_03_simple_bolt_new.mechdat\", \"pymechanical\", \"00_basic\")\nprint(f\"Downloaded the MECHDAT file to: {mechdat_path}\")\n\nscript_file_path = download_file(\"example_02_capture_images_helper.py\", \"pymechanical\", \"00_basic\")\nprint(f\"Downloaded the script files to: {script_file_path}\")"
      ]
    },
    {
      "cell_type": "markdown",
      "metadata": {},
      "source": [
        "Launch Mechanical\n=================\n\nLaunch a new Mechanical session in batch, setting `cleanup_on_exit` to\n`False`. To close this Mechanical session when finished, this example\nmust call the `mechanical.exit()` method.\n"
      ]
    },
    {
      "cell_type": "code",
      "execution_count": null,
      "metadata": {
        "collapsed": false
      },
      "outputs": [],
      "source": [
        "mechanical = launch_mechanical(batch=True, cleanup_on_exit=False)\nprint(mechanical)"
      ]
    },
    {
      "cell_type": "markdown",
      "metadata": {},
      "source": [
        "Initialize the variable needed for opening the MECHDAT file\n===========================================================\n\nSet the `mechdat_path` variable for later use. Make the variable\ncompatible for Windows, Linux, and Docker containers.\n"
      ]
    },
    {
      "cell_type": "code",
      "execution_count": null,
      "metadata": {
        "collapsed": false
      },
      "outputs": [],
      "source": [
        "project_directory = mechanical.project_directory\nprint(f\"project directory = {project_directory}\")\n\n# Upload the file to the project directory.\nmechanical.upload(file_name=mechdat_path, file_location_destination=project_directory)\n\n# Build the path relative to the project directory.\nbase_name = os.path.basename(mechdat_path)\ncombined_path = os.path.join(project_directory, base_name)\nmechdat_path_modified = combined_path.replace(\"\\\\\", \"\\\\\\\\\")\nmechanical.run_python_script(f\"mechdat_path='{mechdat_path_modified}'\")\n\n# Verify the path for the MECHDAT file.\nresult = mechanical.run_python_script(f\"mechdat_path\")\nprint(f\"MECHDATA file is stored on the server at: {result}\")"
      ]
    },
    {
      "cell_type": "markdown",
      "metadata": {},
      "source": [
        "Open the MECHDAT file\n=====================\n\nRun the script to open the MECHDAT file.\n"
      ]
    },
    {
      "cell_type": "code",
      "execution_count": null,
      "metadata": {
        "collapsed": false
      },
      "outputs": [],
      "source": [
        "mechanical.run_python_script(\"ExtAPI.DataModel.Project.Open(mechdat_path)\")"
      ]
    },
    {
      "cell_type": "markdown",
      "metadata": {},
      "source": [
        "Initialize the variable needed for the image directory\n======================================================\n\nSet the `image_dir` for later use. Make the variable compatible for\nWindows, Linux, and Docker containers.\n"
      ]
    },
    {
      "cell_type": "code",
      "execution_count": null,
      "metadata": {
        "collapsed": false
      },
      "outputs": [],
      "source": [
        "# Open the MECHDAT file changes the project directory.\nproject_directory = mechanical.project_directory\nprint(f\"project directory = {project_directory}\")\n\nimage_directory_modified = project_directory.replace(\"\\\\\", \"\\\\\\\\\")\nmechanical.run_python_script(f\"image_dir='{image_directory_modified}'\")\n\n# Verify the path for image directory.\nresult_image_dir_server = mechanical.run_python_script(f\"image_dir\")\nprint(f\"Images are stored on the server at: {result_image_dir_server}\")"
      ]
    },
    {
      "cell_type": "markdown",
      "metadata": {},
      "source": [
        "Execute the Mechanical script\n=============================\n\nRun the Mechanical script file for creating the images.\n"
      ]
    },
    {
      "cell_type": "code",
      "execution_count": null,
      "metadata": {
        "collapsed": false
      },
      "outputs": [],
      "source": [
        "mechanical.run_python_script_from_file(script_file_path)"
      ]
    },
    {
      "cell_type": "markdown",
      "metadata": {},
      "source": [
        "Download the image and plot\n===========================\n\nDownload one image file from the server to the current working directory\nand plot using matplotlib.\n"
      ]
    },
    {
      "cell_type": "code",
      "execution_count": null,
      "metadata": {
        "collapsed": false
      },
      "outputs": [],
      "source": [
        "def get_image_path(image_name):\n    return result_image_dir_server + image_name\n\n\ndef display_image(path):\n    print(f\"Printing {path} using matplotlib\")\n    image1 = mpimg.imread(path)\n    plt.figure(figsize=(15, 15))\n    plt.axis(\"off\")\n    plt.imshow(image1)\n    plt.show()\n\n\nimage_name = \"Total Deformation @ 1 sec_Right.png\"\nimage_path_server = get_image_path(image_name)\n\nif image_path_server != \"\":\n    current_working_directory = os.getcwd()\n\n    local_file_path_list = mechanical.download(\n        image_path_server, target_dir=current_working_directory\n    )\n    image_local_path = local_file_path_list[0]\n    print(f\"Local image path : {image_local_path}\")\n\n    display_image(image_local_path)"
      ]
    },
    {
      "cell_type": "markdown",
      "metadata": {},
      "source": [
        "Clear the data\n==============\n\nClear the data so it isn\\'t saved to the project.\n"
      ]
    },
    {
      "cell_type": "code",
      "execution_count": null,
      "metadata": {
        "collapsed": false
      },
      "outputs": [],
      "source": [
        "mechanical.clear()"
      ]
    },
    {
      "cell_type": "markdown",
      "metadata": {},
      "source": [
        "Close Mechanical\n================\n\nClose the Mechanical instance.\n"
      ]
    },
    {
      "cell_type": "code",
      "execution_count": null,
      "metadata": {
        "collapsed": false
      },
      "outputs": [],
      "source": [
        "mechanical.exit()"
      ]
    }
  ],
  "metadata": {
    "kernelspec": {
      "display_name": "Python 3",
      "language": "python",
      "name": "python3"
    },
    "language_info": {
      "codemirror_mode": {
        "name": "ipython",
        "version": 3
      },
      "file_extension": ".py",
      "mimetype": "text/x-python",
      "name": "python",
      "nbconvert_exporter": "python",
      "pygments_lexer": "ipython3",
      "version": "3.10.12"
    }
  },
  "nbformat": 4,
  "nbformat_minor": 0
}