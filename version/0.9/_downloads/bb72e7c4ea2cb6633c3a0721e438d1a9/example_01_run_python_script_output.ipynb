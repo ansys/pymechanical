{
  "cells": [
    {
      "cell_type": "markdown",
      "metadata": {},
      "source": [
        "Output to different formats and handle an error {#ref_example_01_run_python_script_output}\n===============================================\n\nThis example calls the `run_python_script` method and gets the output in\nstring, JSON, and CSV formats. It also handles an error scenario.\n"
      ]
    },
    {
      "cell_type": "markdown",
      "metadata": {},
      "source": [
        "Launch Mechanical\n=================\n\nLaunch a new Mechanical session in batch, setting `cleanup_on_exit` to\n`False`. To close this Mechanical session when finished, this example\nmust call the `mechanical.exit()` method.\n"
      ]
    },
    {
      "cell_type": "code",
      "execution_count": null,
      "metadata": {
        "collapsed": false
      },
      "outputs": [],
      "source": [
        "import json\n\nimport grpc\n\nfrom ansys.mechanical.core import launch_mechanical\n\nmechanical = launch_mechanical(batch=True, cleanup_on_exit=False)\nprint(mechanical)"
      ]
    },
    {
      "cell_type": "markdown",
      "metadata": {},
      "source": [
        "Output to a simple string\n=========================\n\nRun the script to get a simple string output.\n"
      ]
    },
    {
      "cell_type": "code",
      "execution_count": null,
      "metadata": {
        "collapsed": false
      },
      "outputs": [],
      "source": [
        "output = mechanical.run_python_script(\n    \"\"\"\ndef return_string():\n    return \"hello world\"\n\nreturn_string()\n\"\"\"\n)\nprint(f\"string output={output}\")"
      ]
    },
    {
      "cell_type": "markdown",
      "metadata": {},
      "source": [
        "Output string output as JSON\n============================\n\nRun the script to get the string output as JSON.\n"
      ]
    },
    {
      "cell_type": "code",
      "execution_count": null,
      "metadata": {
        "collapsed": false
      },
      "outputs": [],
      "source": [
        "output = mechanical.run_python_script(\n    \"\"\"\ndef return_json():\n    import json\n    dict = {\"value1\": 100, \"value2\": 200}\n    json_text = json.dumps(dict)\n    return json_text\n\nreturn_json()\n\"\"\"\n)\nprint(f\"json output={output}\")\n\nmy_dict = json.loads(output)\nprint(f\"Parsed json: value1={my_dict['value1']}, value2={my_dict['value2']}\")"
      ]
    },
    {
      "cell_type": "markdown",
      "metadata": {},
      "source": [
        "Output string as CSV\n====================\n\nRun the script to get the string output as CSV.\n"
      ]
    },
    {
      "cell_type": "code",
      "execution_count": null,
      "metadata": {
        "collapsed": false
      },
      "outputs": [],
      "source": [
        "output = mechanical.run_python_script(\n    \"\"\"\ndef return_csv():\n    return \"1,2,3\"\n\nreturn_csv()\n\"\"\"\n)\nprint(f\"csv output={output}\")\ncsv_values = output.split(sep=\",\")\nprint(f\"Parsed csv: {';'.join(csv_values)}\")"
      ]
    },
    {
      "cell_type": "markdown",
      "metadata": {},
      "source": [
        "Handle an error scenario\n========================\n\nRun the script and handle the error.\n"
      ]
    },
    {
      "cell_type": "code",
      "execution_count": null,
      "metadata": {
        "collapsed": false
      },
      "outputs": [],
      "source": [
        "try:\n    output = mechanical.run_python_script(\"hello_world()\")\nexcept grpc.RpcError as error:\n    print(f\"Error: {error.details()}\")"
      ]
    },
    {
      "cell_type": "markdown",
      "metadata": {},
      "source": [
        "Close Mechanical\n================\n\nClose the Mechanical instance.\n"
      ]
    },
    {
      "cell_type": "code",
      "execution_count": null,
      "metadata": {
        "collapsed": false
      },
      "outputs": [],
      "source": [
        "mechanical.exit()"
      ]
    }
  ],
  "metadata": {
    "kernelspec": {
      "display_name": "Python 3",
      "language": "python",
      "name": "python3"
    },
    "language_info": {
      "codemirror_mode": {
        "name": "ipython",
        "version": 3
      },
      "file_extension": ".py",
      "mimetype": "text/x-python",
      "name": "python",
      "nbconvert_exporter": "python",
      "pygments_lexer": "ipython3",
      "version": "3.10.12"
    }
  },
  "nbformat": 4,
  "nbformat_minor": 0
}